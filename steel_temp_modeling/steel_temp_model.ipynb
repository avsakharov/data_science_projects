{
 "cells": [
  {
   "cell_type": "markdown",
   "id": "0c9cb0a5",
   "metadata": {},
   "source": [
    "# Моделирование выходной температуры стали"
   ]
  },
  {
   "cell_type": "markdown",
   "id": "5ad05c3f",
   "metadata": {},
   "source": [
    "Металлургический комбинат поставил задачу уменьшить потребление электроэнергии на этапе обработки стали. Необходимо построить модель, которая предскажет температуру стали на выходе из ковша."
   ]
  },
  {
   "cell_type": "markdown",
   "id": "92924e46",
   "metadata": {},
   "source": [
    "### Описание этапа обработки стали\n",
    "\n",
    "Этапы обработки стали:\n",
    "\n",
    "- Сталь, залитую в металлический ковш, подогревают до нужной температуры графитовыми электродами.\n",
    "\n",
    "- Для осуществления десульфации в сталь добавляют примеси. Легирование стали осуществляется или подачей кусков сплава из бункера для сыпучих материалов, или подачей проволоки.\n",
    "\n",
    "- Перед легированием измеряют температуру стали и производят её химический анализ. Затем температуру на несколько минут повышают, добавляют легирующие материалы и продувают сплав инертным газом. После этого его перемешивают и снова проводят измерения. Такой цикл повторяется до достижения целевого химического состава и оптимальной температуры плавки."
   ]
  },
  {
   "cell_type": "markdown",
   "id": "af8928c4",
   "metadata": {},
   "source": [
    "### Описание данных\n",
    "\n",
    "Данные состоят из файлов, полученных из разных источников:\n",
    "\n",
    "- `data_arc.csv` — данные об электродах;\n",
    "- `data_bulk.csv` — данные о подаче сыпучих материалов (объём);\n",
    "- `data_bulk_time.csv` — данные о подаче сыпучих материалов (время);\n",
    "- `data_gas.csv` — данные о продувке сплава газом;\n",
    "- `data_temp.csv` — результаты измерения температуры;\n",
    "- `data_wire.csv` — данные о проволочных материалах (объём);\n",
    "- `data_wire_time.csv` — данные о проволочных материалах (время).\n",
    "\n",
    "Во всех файлах столбец `key` содержит номер партии. В файлах может быть несколько строк с одинаковым значением `key`: они соответствуют разным итерациям обработки."
   ]
  },
  {
   "cell_type": "markdown",
   "id": "72baf243",
   "metadata": {},
   "source": [
    "### Обработка данных"
   ]
  },
  {
   "cell_type": "code",
   "execution_count": 1,
   "id": "c92ee382",
   "metadata": {},
   "outputs": [
    {
     "name": "stdout",
     "output_type": "stream",
     "text": [
      "Defaulting to user installation because normal site-packages is not writeable\n",
      "Requirement already up-to-date: seaborn in /home/jovyan/.local/lib/python3.7/site-packages (0.11.2)\n",
      "Requirement already satisfied, skipping upgrade: pandas>=0.23 in /opt/conda/lib/python3.7/site-packages (from seaborn) (0.25.1)\n",
      "Requirement already satisfied, skipping upgrade: numpy>=1.15 in /opt/conda/lib/python3.7/site-packages (from seaborn) (1.19.5)\n",
      "Requirement already satisfied, skipping upgrade: matplotlib>=2.2 in /opt/conda/lib/python3.7/site-packages (from seaborn) (3.1.0)\n",
      "Requirement already satisfied, skipping upgrade: scipy>=1.0 in /opt/conda/lib/python3.7/site-packages (from seaborn) (1.4.1)\n",
      "Requirement already satisfied, skipping upgrade: pytz>=2017.2 in /opt/conda/lib/python3.7/site-packages (from pandas>=0.23->seaborn) (2021.1)\n",
      "Requirement already satisfied, skipping upgrade: python-dateutil>=2.6.1 in /opt/conda/lib/python3.7/site-packages (from pandas>=0.23->seaborn) (2.8.1)\n",
      "Requirement already satisfied, skipping upgrade: kiwisolver>=1.0.1 in /opt/conda/lib/python3.7/site-packages (from matplotlib>=2.2->seaborn) (1.3.1)\n",
      "Requirement already satisfied, skipping upgrade: pyparsing!=2.0.4,!=2.1.2,!=2.1.6,>=2.0.1 in /opt/conda/lib/python3.7/site-packages (from matplotlib>=2.2->seaborn) (2.4.7)\n",
      "Requirement already satisfied, skipping upgrade: cycler>=0.10 in /opt/conda/lib/python3.7/site-packages (from matplotlib>=2.2->seaborn) (0.10.0)\n",
      "Requirement already satisfied, skipping upgrade: six>=1.5 in /opt/conda/lib/python3.7/site-packages (from python-dateutil>=2.6.1->pandas>=0.23->seaborn) (1.15.0)\n"
     ]
    }
   ],
   "source": [
    "import warnings\n",
    "warnings.simplefilter(action='ignore', category=FutureWarning)\n",
    "import pandas as pd\n",
    "import numpy as np\n",
    "import matplotlib.pyplot as plt\n",
    "!pip install -U seaborn\n",
    "import seaborn as sns\n",
    "\n",
    "from sklearn.model_selection import train_test_split\n",
    "from sklearn.metrics import mean_absolute_error\n",
    "\n",
    "from sklearn.linear_model import LinearRegression\n",
    "from sklearn.ensemble import RandomForestRegressor\n",
    "from xgboost import XGBRegressor\n",
    "from catboost import CatBoostRegressor\n",
    "\n",
    "from sklearn.model_selection import GridSearchCV"
   ]
  },
  {
   "cell_type": "code",
   "execution_count": 2,
   "id": "af9452c1",
   "metadata": {},
   "outputs": [],
   "source": [
    "df_arc = pd.read_csv('data_arc.csv')\n",
    "df_bulk = pd.read_csv('data_bulk.csv')\n",
    "df_bulk_time = pd.read_csv('data_bulk_time.csv')\n",
    "df_gas = pd.read_csv('data_gas.csv')\n",
    "df_temp = pd.read_csv('data_temp.csv')\n",
    "df_wire = pd.read_csv('data_wire.csv')\n",
    "df_wire_time = pd.read_csv('data_wire_time.csv')"
   ]
  },
  {
   "cell_type": "markdown",
   "id": "3ec47e82",
   "metadata": {},
   "source": [
    "Приведем названия столбцов к стандартному виду, данные с датами приведем к типу `datetime`:"
   ]
  },
  {
   "cell_type": "code",
   "execution_count": 3,
   "id": "60e81f75",
   "metadata": {},
   "outputs": [],
   "source": [
    "df_arc.columns = ['key', 'start_heat', 'stop_heat', 'act_power', 'react_power']\n",
    "df_arc['start_heat'] = pd.to_datetime(df_arc['start_heat'], format='%Y.%m.%d %H:%M:%S')\n",
    "df_arc['stop_heat'] = pd.to_datetime(df_arc['stop_heat'], format='%Y.%m.%d %H:%M:%S')"
   ]
  },
  {
   "cell_type": "markdown",
   "id": "d1b2a42e",
   "metadata": {},
   "source": [
    "Добавим столбец, содержащий информацию о продолжительности нагрева стали в секундах, а также полную мощность, вычисляющуюся по теореме Пифагора через активную и реактивную мощности (у этих величин сдвиг фаз на $\\pi / 2$). Подробнее можно прочитать на [wikipedia](https://ru.wikipedia.org/wiki/Электрическая_мощность)."
   ]
  },
  {
   "cell_type": "code",
   "execution_count": 4,
   "id": "4c3bfe61",
   "metadata": {},
   "outputs": [
    {
     "name": "stdout",
     "output_type": "stream",
     "text": [
      "<class 'pandas.core.frame.DataFrame'>\n",
      "RangeIndex: 14876 entries, 0 to 14875\n",
      "Data columns (total 7 columns):\n",
      "key            14876 non-null int64\n",
      "start_heat     14876 non-null datetime64[ns]\n",
      "stop_heat      14876 non-null datetime64[ns]\n",
      "act_power      14876 non-null float64\n",
      "react_power    14876 non-null float64\n",
      "duration       14876 non-null int64\n",
      "full_power     14876 non-null float64\n",
      "dtypes: datetime64[ns](2), float64(3), int64(2)\n",
      "memory usage: 813.7 KB\n"
     ]
    },
    {
     "data": {
      "text/html": [
       "<div>\n",
       "<style scoped>\n",
       "    .dataframe tbody tr th:only-of-type {\n",
       "        vertical-align: middle;\n",
       "    }\n",
       "\n",
       "    .dataframe tbody tr th {\n",
       "        vertical-align: top;\n",
       "    }\n",
       "\n",
       "    .dataframe thead th {\n",
       "        text-align: right;\n",
       "    }\n",
       "</style>\n",
       "<table border=\"1\" class=\"dataframe\">\n",
       "  <thead>\n",
       "    <tr style=\"text-align: right;\">\n",
       "      <th></th>\n",
       "      <th>key</th>\n",
       "      <th>start_heat</th>\n",
       "      <th>stop_heat</th>\n",
       "      <th>act_power</th>\n",
       "      <th>react_power</th>\n",
       "      <th>duration</th>\n",
       "      <th>full_power</th>\n",
       "    </tr>\n",
       "  </thead>\n",
       "  <tbody>\n",
       "    <tr>\n",
       "      <td>0</td>\n",
       "      <td>1</td>\n",
       "      <td>2019-05-03 11:02:14</td>\n",
       "      <td>2019-05-03 11:06:02</td>\n",
       "      <td>0.976059</td>\n",
       "      <td>0.687084</td>\n",
       "      <td>228</td>\n",
       "      <td>1.193639</td>\n",
       "    </tr>\n",
       "    <tr>\n",
       "      <td>1</td>\n",
       "      <td>1</td>\n",
       "      <td>2019-05-03 11:07:28</td>\n",
       "      <td>2019-05-03 11:10:33</td>\n",
       "      <td>0.805607</td>\n",
       "      <td>0.520285</td>\n",
       "      <td>185</td>\n",
       "      <td>0.959010</td>\n",
       "    </tr>\n",
       "    <tr>\n",
       "      <td>2</td>\n",
       "      <td>1</td>\n",
       "      <td>2019-05-03 11:11:44</td>\n",
       "      <td>2019-05-03 11:14:36</td>\n",
       "      <td>0.744363</td>\n",
       "      <td>0.498805</td>\n",
       "      <td>172</td>\n",
       "      <td>0.896038</td>\n",
       "    </tr>\n",
       "    <tr>\n",
       "      <td>3</td>\n",
       "      <td>1</td>\n",
       "      <td>2019-05-03 11:18:14</td>\n",
       "      <td>2019-05-03 11:24:19</td>\n",
       "      <td>1.659363</td>\n",
       "      <td>1.062669</td>\n",
       "      <td>365</td>\n",
       "      <td>1.970470</td>\n",
       "    </tr>\n",
       "    <tr>\n",
       "      <td>4</td>\n",
       "      <td>1</td>\n",
       "      <td>2019-05-03 11:26:09</td>\n",
       "      <td>2019-05-03 11:28:37</td>\n",
       "      <td>0.692755</td>\n",
       "      <td>0.414397</td>\n",
       "      <td>148</td>\n",
       "      <td>0.807239</td>\n",
       "    </tr>\n",
       "    <tr>\n",
       "      <td>5</td>\n",
       "      <td>2</td>\n",
       "      <td>2019-05-03 11:34:14</td>\n",
       "      <td>2019-05-03 11:36:31</td>\n",
       "      <td>0.438063</td>\n",
       "      <td>0.283043</td>\n",
       "      <td>137</td>\n",
       "      <td>0.521549</td>\n",
       "    </tr>\n",
       "    <tr>\n",
       "      <td>6</td>\n",
       "      <td>2</td>\n",
       "      <td>2019-05-03 11:38:50</td>\n",
       "      <td>2019-05-03 11:44:28</td>\n",
       "      <td>1.296415</td>\n",
       "      <td>0.892914</td>\n",
       "      <td>338</td>\n",
       "      <td>1.574162</td>\n",
       "    </tr>\n",
       "    <tr>\n",
       "      <td>7</td>\n",
       "      <td>2</td>\n",
       "      <td>2019-05-03 11:46:19</td>\n",
       "      <td>2019-05-03 11:48:25</td>\n",
       "      <td>0.490377</td>\n",
       "      <td>0.305281</td>\n",
       "      <td>126</td>\n",
       "      <td>0.577638</td>\n",
       "    </tr>\n",
       "    <tr>\n",
       "      <td>8</td>\n",
       "      <td>2</td>\n",
       "      <td>2019-05-03 11:49:48</td>\n",
       "      <td>2019-05-03 11:53:18</td>\n",
       "      <td>0.827743</td>\n",
       "      <td>0.516874</td>\n",
       "      <td>210</td>\n",
       "      <td>0.975867</td>\n",
       "    </tr>\n",
       "    <tr>\n",
       "      <td>9</td>\n",
       "      <td>3</td>\n",
       "      <td>2019-05-03 12:06:54</td>\n",
       "      <td>2019-05-03 12:11:34</td>\n",
       "      <td>1.062053</td>\n",
       "      <td>0.671494</td>\n",
       "      <td>280</td>\n",
       "      <td>1.256527</td>\n",
       "    </tr>\n",
       "  </tbody>\n",
       "</table>\n",
       "</div>"
      ],
      "text/plain": [
       "   key          start_heat           stop_heat  act_power  react_power  \\\n",
       "0    1 2019-05-03 11:02:14 2019-05-03 11:06:02   0.976059     0.687084   \n",
       "1    1 2019-05-03 11:07:28 2019-05-03 11:10:33   0.805607     0.520285   \n",
       "2    1 2019-05-03 11:11:44 2019-05-03 11:14:36   0.744363     0.498805   \n",
       "3    1 2019-05-03 11:18:14 2019-05-03 11:24:19   1.659363     1.062669   \n",
       "4    1 2019-05-03 11:26:09 2019-05-03 11:28:37   0.692755     0.414397   \n",
       "5    2 2019-05-03 11:34:14 2019-05-03 11:36:31   0.438063     0.283043   \n",
       "6    2 2019-05-03 11:38:50 2019-05-03 11:44:28   1.296415     0.892914   \n",
       "7    2 2019-05-03 11:46:19 2019-05-03 11:48:25   0.490377     0.305281   \n",
       "8    2 2019-05-03 11:49:48 2019-05-03 11:53:18   0.827743     0.516874   \n",
       "9    3 2019-05-03 12:06:54 2019-05-03 12:11:34   1.062053     0.671494   \n",
       "\n",
       "   duration  full_power  \n",
       "0       228    1.193639  \n",
       "1       185    0.959010  \n",
       "2       172    0.896038  \n",
       "3       365    1.970470  \n",
       "4       148    0.807239  \n",
       "5       137    0.521549  \n",
       "6       338    1.574162  \n",
       "7       126    0.577638  \n",
       "8       210    0.975867  \n",
       "9       280    1.256527  "
      ]
     },
     "execution_count": 4,
     "metadata": {},
     "output_type": "execute_result"
    }
   ],
   "source": [
    "df_arc['duration'] = (df_arc['stop_heat'] - df_arc['start_heat']).dt.seconds\n",
    "df_arc['full_power'] = (df_arc['act_power'] ** 2 + df_arc['react_power'] ** 2) ** .5\n",
    "df_arc.info()\n",
    "df_arc.head(10)"
   ]
  },
  {
   "cell_type": "markdown",
   "id": "e050ea4c",
   "metadata": {},
   "source": [
    "По условиям задачи строки с одинаковыми ключами соответствуют разным итерациям одной партии. Их предлагается аггрегировать:"
   ]
  },
  {
   "cell_type": "code",
   "execution_count": 5,
   "id": "425cd10d",
   "metadata": {},
   "outputs": [
    {
     "data": {
      "text/html": [
       "<div>\n",
       "<style scoped>\n",
       "    .dataframe tbody tr th:only-of-type {\n",
       "        vertical-align: middle;\n",
       "    }\n",
       "\n",
       "    .dataframe tbody tr th {\n",
       "        vertical-align: top;\n",
       "    }\n",
       "\n",
       "    .dataframe thead th {\n",
       "        text-align: right;\n",
       "    }\n",
       "</style>\n",
       "<table border=\"1\" class=\"dataframe\">\n",
       "  <thead>\n",
       "    <tr style=\"text-align: right;\">\n",
       "      <th></th>\n",
       "      <th>duration</th>\n",
       "      <th>full_power</th>\n",
       "      <th>act_power</th>\n",
       "    </tr>\n",
       "    <tr>\n",
       "      <th>key</th>\n",
       "      <th></th>\n",
       "      <th></th>\n",
       "      <th></th>\n",
       "    </tr>\n",
       "  </thead>\n",
       "  <tbody>\n",
       "    <tr>\n",
       "      <td>1</td>\n",
       "      <td>1098</td>\n",
       "      <td>5.826395</td>\n",
       "      <td>4.878147</td>\n",
       "    </tr>\n",
       "    <tr>\n",
       "      <td>2</td>\n",
       "      <td>811</td>\n",
       "      <td>3.649216</td>\n",
       "      <td>3.052598</td>\n",
       "    </tr>\n",
       "    <tr>\n",
       "      <td>3</td>\n",
       "      <td>655</td>\n",
       "      <td>2.989534</td>\n",
       "      <td>2.525882</td>\n",
       "    </tr>\n",
       "    <tr>\n",
       "      <td>4</td>\n",
       "      <td>741</td>\n",
       "      <td>3.814962</td>\n",
       "      <td>3.209250</td>\n",
       "    </tr>\n",
       "    <tr>\n",
       "      <td>5</td>\n",
       "      <td>869</td>\n",
       "      <td>4.035758</td>\n",
       "      <td>3.347173</td>\n",
       "    </tr>\n",
       "  </tbody>\n",
       "</table>\n",
       "</div>"
      ],
      "text/plain": [
       "     duration  full_power  act_power\n",
       "key                                 \n",
       "1        1098    5.826395   4.878147\n",
       "2         811    3.649216   3.052598\n",
       "3         655    2.989534   2.525882\n",
       "4         741    3.814962   3.209250\n",
       "5         869    4.035758   3.347173"
      ]
     },
     "execution_count": 5,
     "metadata": {},
     "output_type": "execute_result"
    }
   ],
   "source": [
    "df_arc_grouped = df_arc.groupby('key').agg({'duration': 'sum', 'full_power': 'sum', 'act_power': 'sum'})\n",
    "df_arc_grouped.head()"
   ]
  },
  {
   "cell_type": "markdown",
   "id": "6e76ec6b",
   "metadata": {},
   "source": [
    "Объединим таблицы `df_bulk` и `df_bulk_time` в одну (объединяем по столбцу `key`, убедившись, что все значения уникальные), также приведем названия столбцов к нормальной форме. Тоже самое сделаем для таблиц `df_wire` и `df_wire_time`:"
   ]
  },
  {
   "cell_type": "code",
   "execution_count": 6,
   "id": "2788f37d",
   "metadata": {},
   "outputs": [
    {
     "name": "stdout",
     "output_type": "stream",
     "text": [
      "<class 'pandas.core.frame.DataFrame'>\n",
      "RangeIndex: 3129 entries, 0 to 3128\n",
      "Data columns (total 16 columns):\n",
      "key        3129 non-null int64\n",
      "Bulk 1     252 non-null float64\n",
      "Bulk 2     22 non-null float64\n",
      "Bulk 3     1298 non-null float64\n",
      "Bulk 4     1014 non-null float64\n",
      "Bulk 5     77 non-null float64\n",
      "Bulk 6     576 non-null float64\n",
      "Bulk 7     25 non-null float64\n",
      "Bulk 8     1 non-null float64\n",
      "Bulk 9     19 non-null float64\n",
      "Bulk 10    176 non-null float64\n",
      "Bulk 11    177 non-null float64\n",
      "Bulk 12    2450 non-null float64\n",
      "Bulk 13    18 non-null float64\n",
      "Bulk 14    2806 non-null float64\n",
      "Bulk 15    2248 non-null float64\n",
      "dtypes: float64(15), int64(1)\n",
      "memory usage: 391.2 KB\n",
      "<class 'pandas.core.frame.DataFrame'>\n",
      "RangeIndex: 3129 entries, 0 to 3128\n",
      "Data columns (total 16 columns):\n",
      "key        3129 non-null int64\n",
      "Bulk 1     252 non-null object\n",
      "Bulk 2     22 non-null object\n",
      "Bulk 3     1298 non-null object\n",
      "Bulk 4     1014 non-null object\n",
      "Bulk 5     77 non-null object\n",
      "Bulk 6     576 non-null object\n",
      "Bulk 7     25 non-null object\n",
      "Bulk 8     1 non-null object\n",
      "Bulk 9     19 non-null object\n",
      "Bulk 10    176 non-null object\n",
      "Bulk 11    177 non-null object\n",
      "Bulk 12    2450 non-null object\n",
      "Bulk 13    18 non-null object\n",
      "Bulk 14    2806 non-null object\n",
      "Bulk 15    2248 non-null object\n",
      "dtypes: int64(1), object(15)\n",
      "memory usage: 391.2+ KB\n"
     ]
    },
    {
     "data": {
      "text/html": [
       "<div>\n",
       "<style scoped>\n",
       "    .dataframe tbody tr th:only-of-type {\n",
       "        vertical-align: middle;\n",
       "    }\n",
       "\n",
       "    .dataframe tbody tr th {\n",
       "        vertical-align: top;\n",
       "    }\n",
       "\n",
       "    .dataframe thead th {\n",
       "        text-align: right;\n",
       "    }\n",
       "</style>\n",
       "<table border=\"1\" class=\"dataframe\">\n",
       "  <thead>\n",
       "    <tr style=\"text-align: right;\">\n",
       "      <th></th>\n",
       "      <th>key</th>\n",
       "      <th>bulk1</th>\n",
       "      <th>bulk2</th>\n",
       "      <th>bulk3</th>\n",
       "      <th>bulk4</th>\n",
       "      <th>bulk5</th>\n",
       "      <th>bulk6</th>\n",
       "      <th>bulk7</th>\n",
       "      <th>bulk8</th>\n",
       "      <th>bulk9</th>\n",
       "      <th>...</th>\n",
       "      <th>bulk6_time</th>\n",
       "      <th>bulk7_time</th>\n",
       "      <th>bulk8_time</th>\n",
       "      <th>bulk9_time</th>\n",
       "      <th>bulk10_time</th>\n",
       "      <th>bulk11_time</th>\n",
       "      <th>bulk12_time</th>\n",
       "      <th>bulk13_time</th>\n",
       "      <th>bulk14_time</th>\n",
       "      <th>bulk15_time</th>\n",
       "    </tr>\n",
       "  </thead>\n",
       "  <tbody>\n",
       "    <tr>\n",
       "      <td>0</td>\n",
       "      <td>1</td>\n",
       "      <td>NaN</td>\n",
       "      <td>NaN</td>\n",
       "      <td>NaN</td>\n",
       "      <td>43.0</td>\n",
       "      <td>NaN</td>\n",
       "      <td>NaN</td>\n",
       "      <td>NaN</td>\n",
       "      <td>NaN</td>\n",
       "      <td>NaN</td>\n",
       "      <td>...</td>\n",
       "      <td>NaN</td>\n",
       "      <td>NaN</td>\n",
       "      <td>NaN</td>\n",
       "      <td>NaN</td>\n",
       "      <td>NaN</td>\n",
       "      <td>NaN</td>\n",
       "      <td>2019-05-03 11:03:52</td>\n",
       "      <td>NaN</td>\n",
       "      <td>2019-05-03 11:03:52</td>\n",
       "      <td>2019-05-03 11:03:52</td>\n",
       "    </tr>\n",
       "    <tr>\n",
       "      <td>1</td>\n",
       "      <td>2</td>\n",
       "      <td>NaN</td>\n",
       "      <td>NaN</td>\n",
       "      <td>NaN</td>\n",
       "      <td>73.0</td>\n",
       "      <td>NaN</td>\n",
       "      <td>NaN</td>\n",
       "      <td>NaN</td>\n",
       "      <td>NaN</td>\n",
       "      <td>NaN</td>\n",
       "      <td>...</td>\n",
       "      <td>NaN</td>\n",
       "      <td>NaN</td>\n",
       "      <td>NaN</td>\n",
       "      <td>NaN</td>\n",
       "      <td>NaN</td>\n",
       "      <td>NaN</td>\n",
       "      <td>2019-05-03 11:40:20</td>\n",
       "      <td>NaN</td>\n",
       "      <td>2019-05-03 11:40:20</td>\n",
       "      <td>2019-05-03 11:40:20</td>\n",
       "    </tr>\n",
       "    <tr>\n",
       "      <td>2</td>\n",
       "      <td>3</td>\n",
       "      <td>NaN</td>\n",
       "      <td>NaN</td>\n",
       "      <td>NaN</td>\n",
       "      <td>34.0</td>\n",
       "      <td>NaN</td>\n",
       "      <td>NaN</td>\n",
       "      <td>NaN</td>\n",
       "      <td>NaN</td>\n",
       "      <td>NaN</td>\n",
       "      <td>...</td>\n",
       "      <td>NaN</td>\n",
       "      <td>NaN</td>\n",
       "      <td>NaN</td>\n",
       "      <td>NaN</td>\n",
       "      <td>NaN</td>\n",
       "      <td>NaN</td>\n",
       "      <td>2019-05-03 12:09:40</td>\n",
       "      <td>NaN</td>\n",
       "      <td>2019-05-03 12:09:40</td>\n",
       "      <td>2019-05-03 12:09:40</td>\n",
       "    </tr>\n",
       "    <tr>\n",
       "      <td>3</td>\n",
       "      <td>4</td>\n",
       "      <td>NaN</td>\n",
       "      <td>NaN</td>\n",
       "      <td>NaN</td>\n",
       "      <td>81.0</td>\n",
       "      <td>NaN</td>\n",
       "      <td>NaN</td>\n",
       "      <td>NaN</td>\n",
       "      <td>NaN</td>\n",
       "      <td>NaN</td>\n",
       "      <td>...</td>\n",
       "      <td>NaN</td>\n",
       "      <td>NaN</td>\n",
       "      <td>NaN</td>\n",
       "      <td>NaN</td>\n",
       "      <td>NaN</td>\n",
       "      <td>NaN</td>\n",
       "      <td>2019-05-03 12:41:24</td>\n",
       "      <td>NaN</td>\n",
       "      <td>2019-05-03 12:41:24</td>\n",
       "      <td>2019-05-03 12:41:24</td>\n",
       "    </tr>\n",
       "    <tr>\n",
       "      <td>4</td>\n",
       "      <td>5</td>\n",
       "      <td>NaN</td>\n",
       "      <td>NaN</td>\n",
       "      <td>NaN</td>\n",
       "      <td>78.0</td>\n",
       "      <td>NaN</td>\n",
       "      <td>NaN</td>\n",
       "      <td>NaN</td>\n",
       "      <td>NaN</td>\n",
       "      <td>NaN</td>\n",
       "      <td>...</td>\n",
       "      <td>NaN</td>\n",
       "      <td>NaN</td>\n",
       "      <td>NaN</td>\n",
       "      <td>NaN</td>\n",
       "      <td>NaN</td>\n",
       "      <td>NaN</td>\n",
       "      <td>2019-05-03 13:12:56</td>\n",
       "      <td>NaN</td>\n",
       "      <td>2019-05-03 13:12:56</td>\n",
       "      <td>2019-05-03 13:12:56</td>\n",
       "    </tr>\n",
       "  </tbody>\n",
       "</table>\n",
       "<p>5 rows × 31 columns</p>\n",
       "</div>"
      ],
      "text/plain": [
       "   key  bulk1  bulk2  bulk3  bulk4  bulk5  bulk6  bulk7  bulk8  bulk9  ...  \\\n",
       "0    1    NaN    NaN    NaN   43.0    NaN    NaN    NaN    NaN    NaN  ...   \n",
       "1    2    NaN    NaN    NaN   73.0    NaN    NaN    NaN    NaN    NaN  ...   \n",
       "2    3    NaN    NaN    NaN   34.0    NaN    NaN    NaN    NaN    NaN  ...   \n",
       "3    4    NaN    NaN    NaN   81.0    NaN    NaN    NaN    NaN    NaN  ...   \n",
       "4    5    NaN    NaN    NaN   78.0    NaN    NaN    NaN    NaN    NaN  ...   \n",
       "\n",
       "   bulk6_time  bulk7_time  bulk8_time  bulk9_time  bulk10_time  bulk11_time  \\\n",
       "0         NaN         NaN         NaN         NaN          NaN          NaN   \n",
       "1         NaN         NaN         NaN         NaN          NaN          NaN   \n",
       "2         NaN         NaN         NaN         NaN          NaN          NaN   \n",
       "3         NaN         NaN         NaN         NaN          NaN          NaN   \n",
       "4         NaN         NaN         NaN         NaN          NaN          NaN   \n",
       "\n",
       "           bulk12_time bulk13_time          bulk14_time          bulk15_time  \n",
       "0  2019-05-03 11:03:52         NaN  2019-05-03 11:03:52  2019-05-03 11:03:52  \n",
       "1  2019-05-03 11:40:20         NaN  2019-05-03 11:40:20  2019-05-03 11:40:20  \n",
       "2  2019-05-03 12:09:40         NaN  2019-05-03 12:09:40  2019-05-03 12:09:40  \n",
       "3  2019-05-03 12:41:24         NaN  2019-05-03 12:41:24  2019-05-03 12:41:24  \n",
       "4  2019-05-03 13:12:56         NaN  2019-05-03 13:12:56  2019-05-03 13:12:56  \n",
       "\n",
       "[5 rows x 31 columns]"
      ]
     },
     "execution_count": 6,
     "metadata": {},
     "output_type": "execute_result"
    }
   ],
   "source": [
    "df_bulk.info()\n",
    "df_bulk_time.info()\n",
    "\n",
    "df_bulk_merged = df_bulk.merge(df_bulk_time, left_on='key', right_on='key', suffixes=(None, '_time'))\n",
    "df_bulk_merged.columns = map(str.lower, df_bulk_merged.columns.str.replace(' ', ''))\n",
    "\n",
    "df_bulk_merged.head()"
   ]
  },
  {
   "cell_type": "code",
   "execution_count": 7,
   "id": "b2d89bb4",
   "metadata": {},
   "outputs": [
    {
     "name": "stdout",
     "output_type": "stream",
     "text": [
      "<class 'pandas.core.frame.DataFrame'>\n",
      "RangeIndex: 3081 entries, 0 to 3080\n",
      "Data columns (total 10 columns):\n",
      "key       3081 non-null int64\n",
      "Wire 1    3055 non-null float64\n",
      "Wire 2    1079 non-null float64\n",
      "Wire 3    63 non-null float64\n",
      "Wire 4    14 non-null float64\n",
      "Wire 5    1 non-null float64\n",
      "Wire 6    73 non-null float64\n",
      "Wire 7    11 non-null float64\n",
      "Wire 8    19 non-null float64\n",
      "Wire 9    29 non-null float64\n",
      "dtypes: float64(9), int64(1)\n",
      "memory usage: 240.8 KB\n",
      "<class 'pandas.core.frame.DataFrame'>\n",
      "RangeIndex: 3081 entries, 0 to 3080\n",
      "Data columns (total 10 columns):\n",
      "key       3081 non-null int64\n",
      "Wire 1    3055 non-null object\n",
      "Wire 2    1079 non-null object\n",
      "Wire 3    63 non-null object\n",
      "Wire 4    14 non-null object\n",
      "Wire 5    1 non-null object\n",
      "Wire 6    73 non-null object\n",
      "Wire 7    11 non-null object\n",
      "Wire 8    19 non-null object\n",
      "Wire 9    29 non-null object\n",
      "dtypes: int64(1), object(9)\n",
      "memory usage: 240.8+ KB\n"
     ]
    },
    {
     "data": {
      "text/html": [
       "<div>\n",
       "<style scoped>\n",
       "    .dataframe tbody tr th:only-of-type {\n",
       "        vertical-align: middle;\n",
       "    }\n",
       "\n",
       "    .dataframe tbody tr th {\n",
       "        vertical-align: top;\n",
       "    }\n",
       "\n",
       "    .dataframe thead th {\n",
       "        text-align: right;\n",
       "    }\n",
       "</style>\n",
       "<table border=\"1\" class=\"dataframe\">\n",
       "  <thead>\n",
       "    <tr style=\"text-align: right;\">\n",
       "      <th></th>\n",
       "      <th>key</th>\n",
       "      <th>wire1</th>\n",
       "      <th>wire2</th>\n",
       "      <th>wire3</th>\n",
       "      <th>wire4</th>\n",
       "      <th>wire5</th>\n",
       "      <th>wire6</th>\n",
       "      <th>wire7</th>\n",
       "      <th>wire8</th>\n",
       "      <th>wire9</th>\n",
       "      <th>wire1_time</th>\n",
       "      <th>wire2_time</th>\n",
       "      <th>wire3_time</th>\n",
       "      <th>wire4_time</th>\n",
       "      <th>wire5_time</th>\n",
       "      <th>wire6_time</th>\n",
       "      <th>wire7_time</th>\n",
       "      <th>wire8_time</th>\n",
       "      <th>wire9_time</th>\n",
       "    </tr>\n",
       "  </thead>\n",
       "  <tbody>\n",
       "    <tr>\n",
       "      <td>0</td>\n",
       "      <td>1</td>\n",
       "      <td>60.059998</td>\n",
       "      <td>NaN</td>\n",
       "      <td>NaN</td>\n",
       "      <td>NaN</td>\n",
       "      <td>NaN</td>\n",
       "      <td>NaN</td>\n",
       "      <td>NaN</td>\n",
       "      <td>NaN</td>\n",
       "      <td>NaN</td>\n",
       "      <td>2019-05-03 11:11:41</td>\n",
       "      <td>NaN</td>\n",
       "      <td>NaN</td>\n",
       "      <td>NaN</td>\n",
       "      <td>NaN</td>\n",
       "      <td>NaN</td>\n",
       "      <td>NaN</td>\n",
       "      <td>NaN</td>\n",
       "      <td>NaN</td>\n",
       "    </tr>\n",
       "    <tr>\n",
       "      <td>1</td>\n",
       "      <td>2</td>\n",
       "      <td>96.052315</td>\n",
       "      <td>NaN</td>\n",
       "      <td>NaN</td>\n",
       "      <td>NaN</td>\n",
       "      <td>NaN</td>\n",
       "      <td>NaN</td>\n",
       "      <td>NaN</td>\n",
       "      <td>NaN</td>\n",
       "      <td>NaN</td>\n",
       "      <td>2019-05-03 11:46:10</td>\n",
       "      <td>NaN</td>\n",
       "      <td>NaN</td>\n",
       "      <td>NaN</td>\n",
       "      <td>NaN</td>\n",
       "      <td>NaN</td>\n",
       "      <td>NaN</td>\n",
       "      <td>NaN</td>\n",
       "      <td>NaN</td>\n",
       "    </tr>\n",
       "    <tr>\n",
       "      <td>2</td>\n",
       "      <td>3</td>\n",
       "      <td>91.160157</td>\n",
       "      <td>NaN</td>\n",
       "      <td>NaN</td>\n",
       "      <td>NaN</td>\n",
       "      <td>NaN</td>\n",
       "      <td>NaN</td>\n",
       "      <td>NaN</td>\n",
       "      <td>NaN</td>\n",
       "      <td>NaN</td>\n",
       "      <td>2019-05-03 12:13:47</td>\n",
       "      <td>NaN</td>\n",
       "      <td>NaN</td>\n",
       "      <td>NaN</td>\n",
       "      <td>NaN</td>\n",
       "      <td>NaN</td>\n",
       "      <td>NaN</td>\n",
       "      <td>NaN</td>\n",
       "      <td>NaN</td>\n",
       "    </tr>\n",
       "    <tr>\n",
       "      <td>3</td>\n",
       "      <td>4</td>\n",
       "      <td>89.063515</td>\n",
       "      <td>NaN</td>\n",
       "      <td>NaN</td>\n",
       "      <td>NaN</td>\n",
       "      <td>NaN</td>\n",
       "      <td>NaN</td>\n",
       "      <td>NaN</td>\n",
       "      <td>NaN</td>\n",
       "      <td>NaN</td>\n",
       "      <td>2019-05-03 12:48:05</td>\n",
       "      <td>NaN</td>\n",
       "      <td>NaN</td>\n",
       "      <td>NaN</td>\n",
       "      <td>NaN</td>\n",
       "      <td>NaN</td>\n",
       "      <td>NaN</td>\n",
       "      <td>NaN</td>\n",
       "      <td>NaN</td>\n",
       "    </tr>\n",
       "    <tr>\n",
       "      <td>4</td>\n",
       "      <td>5</td>\n",
       "      <td>89.238236</td>\n",
       "      <td>9.11456</td>\n",
       "      <td>NaN</td>\n",
       "      <td>NaN</td>\n",
       "      <td>NaN</td>\n",
       "      <td>NaN</td>\n",
       "      <td>NaN</td>\n",
       "      <td>NaN</td>\n",
       "      <td>NaN</td>\n",
       "      <td>2019-05-03 13:18:15</td>\n",
       "      <td>2019-05-03 13:32:06</td>\n",
       "      <td>NaN</td>\n",
       "      <td>NaN</td>\n",
       "      <td>NaN</td>\n",
       "      <td>NaN</td>\n",
       "      <td>NaN</td>\n",
       "      <td>NaN</td>\n",
       "      <td>NaN</td>\n",
       "    </tr>\n",
       "  </tbody>\n",
       "</table>\n",
       "</div>"
      ],
      "text/plain": [
       "   key      wire1    wire2  wire3  wire4  wire5  wire6  wire7  wire8  wire9  \\\n",
       "0    1  60.059998      NaN    NaN    NaN    NaN    NaN    NaN    NaN    NaN   \n",
       "1    2  96.052315      NaN    NaN    NaN    NaN    NaN    NaN    NaN    NaN   \n",
       "2    3  91.160157      NaN    NaN    NaN    NaN    NaN    NaN    NaN    NaN   \n",
       "3    4  89.063515      NaN    NaN    NaN    NaN    NaN    NaN    NaN    NaN   \n",
       "4    5  89.238236  9.11456    NaN    NaN    NaN    NaN    NaN    NaN    NaN   \n",
       "\n",
       "            wire1_time           wire2_time wire3_time wire4_time wire5_time  \\\n",
       "0  2019-05-03 11:11:41                  NaN        NaN        NaN        NaN   \n",
       "1  2019-05-03 11:46:10                  NaN        NaN        NaN        NaN   \n",
       "2  2019-05-03 12:13:47                  NaN        NaN        NaN        NaN   \n",
       "3  2019-05-03 12:48:05                  NaN        NaN        NaN        NaN   \n",
       "4  2019-05-03 13:18:15  2019-05-03 13:32:06        NaN        NaN        NaN   \n",
       "\n",
       "  wire6_time wire7_time wire8_time wire9_time  \n",
       "0        NaN        NaN        NaN        NaN  \n",
       "1        NaN        NaN        NaN        NaN  \n",
       "2        NaN        NaN        NaN        NaN  \n",
       "3        NaN        NaN        NaN        NaN  \n",
       "4        NaN        NaN        NaN        NaN  "
      ]
     },
     "execution_count": 7,
     "metadata": {},
     "output_type": "execute_result"
    }
   ],
   "source": [
    "df_wire.info()\n",
    "df_wire_time.info()\n",
    "\n",
    "df_wire_merged = df_wire.merge(df_wire_time, left_on='key', right_on='key', suffixes=(None, '_time'))\n",
    "df_wire_merged.columns = map(str.lower, df_wire_merged.columns.str.replace(' ', ''))\n",
    "df_wire_merged.head()"
   ]
  },
  {
   "cell_type": "markdown",
   "id": "4aa56bb2",
   "metadata": {},
   "source": [
    "Таблица с информацией о количество подававшегося газа (уже агрегировано по партиям):"
   ]
  },
  {
   "cell_type": "code",
   "execution_count": 8,
   "id": "9266a047",
   "metadata": {},
   "outputs": [
    {
     "name": "stdout",
     "output_type": "stream",
     "text": [
      "<class 'pandas.core.frame.DataFrame'>\n",
      "RangeIndex: 3239 entries, 0 to 3238\n",
      "Data columns (total 2 columns):\n",
      "key    3239 non-null int64\n",
      "gas    3239 non-null float64\n",
      "dtypes: float64(1), int64(1)\n",
      "memory usage: 50.7 KB\n"
     ]
    },
    {
     "data": {
      "text/html": [
       "<div>\n",
       "<style scoped>\n",
       "    .dataframe tbody tr th:only-of-type {\n",
       "        vertical-align: middle;\n",
       "    }\n",
       "\n",
       "    .dataframe tbody tr th {\n",
       "        vertical-align: top;\n",
       "    }\n",
       "\n",
       "    .dataframe thead th {\n",
       "        text-align: right;\n",
       "    }\n",
       "</style>\n",
       "<table border=\"1\" class=\"dataframe\">\n",
       "  <thead>\n",
       "    <tr style=\"text-align: right;\">\n",
       "      <th></th>\n",
       "      <th>key</th>\n",
       "      <th>gas</th>\n",
       "    </tr>\n",
       "  </thead>\n",
       "  <tbody>\n",
       "    <tr>\n",
       "      <td>0</td>\n",
       "      <td>1</td>\n",
       "      <td>29.749986</td>\n",
       "    </tr>\n",
       "    <tr>\n",
       "      <td>1</td>\n",
       "      <td>2</td>\n",
       "      <td>12.555561</td>\n",
       "    </tr>\n",
       "    <tr>\n",
       "      <td>2</td>\n",
       "      <td>3</td>\n",
       "      <td>28.554793</td>\n",
       "    </tr>\n",
       "    <tr>\n",
       "      <td>3</td>\n",
       "      <td>4</td>\n",
       "      <td>18.841219</td>\n",
       "    </tr>\n",
       "    <tr>\n",
       "      <td>4</td>\n",
       "      <td>5</td>\n",
       "      <td>5.413692</td>\n",
       "    </tr>\n",
       "  </tbody>\n",
       "</table>\n",
       "</div>"
      ],
      "text/plain": [
       "   key        gas\n",
       "0    1  29.749986\n",
       "1    2  12.555561\n",
       "2    3  28.554793\n",
       "3    4  18.841219\n",
       "4    5   5.413692"
      ]
     },
     "execution_count": 8,
     "metadata": {},
     "output_type": "execute_result"
    }
   ],
   "source": [
    "df_gas.columns = ['key', 'gas']\n",
    "df_gas.info()\n",
    "df_gas.head()"
   ]
  },
  {
   "cell_type": "markdown",
   "id": "7521abee",
   "metadata": {},
   "source": [
    "По информации, полученной с консультации, первое измерение температуры (температура на входе) может быть использовано как признак для прогноза алгоритма, последнее измерение температуры - целевой признак. Промежуточные измерения температуры можно не учитывать."
   ]
  },
  {
   "cell_type": "code",
   "execution_count": 9,
   "id": "5af7b846",
   "metadata": {},
   "outputs": [
    {
     "name": "stdout",
     "output_type": "stream",
     "text": [
      "<class 'pandas.core.frame.DataFrame'>\n",
      "RangeIndex: 15907 entries, 0 to 15906\n",
      "Data columns (total 3 columns):\n",
      "key          15907 non-null int64\n",
      "meas_time    15907 non-null object\n",
      "temp         13006 non-null float64\n",
      "dtypes: float64(1), int64(1), object(1)\n",
      "memory usage: 372.9+ KB\n"
     ]
    },
    {
     "data": {
      "text/html": [
       "<div>\n",
       "<style scoped>\n",
       "    .dataframe tbody tr th:only-of-type {\n",
       "        vertical-align: middle;\n",
       "    }\n",
       "\n",
       "    .dataframe tbody tr th {\n",
       "        vertical-align: top;\n",
       "    }\n",
       "\n",
       "    .dataframe thead th {\n",
       "        text-align: right;\n",
       "    }\n",
       "</style>\n",
       "<table border=\"1\" class=\"dataframe\">\n",
       "  <thead>\n",
       "    <tr style=\"text-align: right;\">\n",
       "      <th></th>\n",
       "      <th>key</th>\n",
       "      <th>meas_time</th>\n",
       "      <th>temp</th>\n",
       "    </tr>\n",
       "  </thead>\n",
       "  <tbody>\n",
       "    <tr>\n",
       "      <td>15902</td>\n",
       "      <td>3241</td>\n",
       "      <td>2019-09-01 04:03:30</td>\n",
       "      <td>1586.0</td>\n",
       "    </tr>\n",
       "    <tr>\n",
       "      <td>15903</td>\n",
       "      <td>3241</td>\n",
       "      <td>2019-09-01 04:16:12</td>\n",
       "      <td>NaN</td>\n",
       "    </tr>\n",
       "    <tr>\n",
       "      <td>15904</td>\n",
       "      <td>3241</td>\n",
       "      <td>2019-09-01 04:22:39</td>\n",
       "      <td>NaN</td>\n",
       "    </tr>\n",
       "    <tr>\n",
       "      <td>15905</td>\n",
       "      <td>3241</td>\n",
       "      <td>2019-09-01 04:33:42</td>\n",
       "      <td>NaN</td>\n",
       "    </tr>\n",
       "    <tr>\n",
       "      <td>15906</td>\n",
       "      <td>3241</td>\n",
       "      <td>2019-09-01 04:38:08</td>\n",
       "      <td>NaN</td>\n",
       "    </tr>\n",
       "  </tbody>\n",
       "</table>\n",
       "</div>"
      ],
      "text/plain": [
       "        key            meas_time    temp\n",
       "15902  3241  2019-09-01 04:03:30  1586.0\n",
       "15903  3241  2019-09-01 04:16:12     NaN\n",
       "15904  3241  2019-09-01 04:22:39     NaN\n",
       "15905  3241  2019-09-01 04:33:42     NaN\n",
       "15906  3241  2019-09-01 04:38:08     NaN"
      ]
     },
     "execution_count": 9,
     "metadata": {},
     "output_type": "execute_result"
    }
   ],
   "source": [
    "df_temp.columns = ['key', 'meas_time', 'temp']\n",
    "df_temp.info()\n",
    "df_temp.tail()"
   ]
  },
  {
   "cell_type": "code",
   "execution_count": 10,
   "id": "44016ed9",
   "metadata": {},
   "outputs": [
    {
     "name": "stdout",
     "output_type": "stream",
     "text": [
      "<class 'pandas.core.frame.DataFrame'>\n",
      "RangeIndex: 2475 entries, 0 to 2474\n",
      "Data columns (total 4 columns):\n",
      "key          2475 non-null int64\n",
      "target       2475 non-null float64\n",
      "meas_time    2475 non-null datetime64[ns]\n",
      "temp         2475 non-null float64\n",
      "dtypes: datetime64[ns](1), float64(2), int64(1)\n",
      "memory usage: 77.5 KB\n"
     ]
    },
    {
     "data": {
      "text/html": [
       "<div>\n",
       "<style scoped>\n",
       "    .dataframe tbody tr th:only-of-type {\n",
       "        vertical-align: middle;\n",
       "    }\n",
       "\n",
       "    .dataframe tbody tr th {\n",
       "        vertical-align: top;\n",
       "    }\n",
       "\n",
       "    .dataframe thead th {\n",
       "        text-align: right;\n",
       "    }\n",
       "</style>\n",
       "<table border=\"1\" class=\"dataframe\">\n",
       "  <thead>\n",
       "    <tr style=\"text-align: right;\">\n",
       "      <th></th>\n",
       "      <th>key</th>\n",
       "      <th>target</th>\n",
       "      <th>meas_time</th>\n",
       "      <th>temp</th>\n",
       "    </tr>\n",
       "  </thead>\n",
       "  <tbody>\n",
       "    <tr>\n",
       "      <td>0</td>\n",
       "      <td>1</td>\n",
       "      <td>1613.0</td>\n",
       "      <td>2019-05-03 11:16:18</td>\n",
       "      <td>1571.0</td>\n",
       "    </tr>\n",
       "    <tr>\n",
       "      <td>1</td>\n",
       "      <td>2</td>\n",
       "      <td>1602.0</td>\n",
       "      <td>2019-05-03 11:37:27</td>\n",
       "      <td>1581.0</td>\n",
       "    </tr>\n",
       "    <tr>\n",
       "      <td>2</td>\n",
       "      <td>3</td>\n",
       "      <td>1599.0</td>\n",
       "      <td>2019-05-03 12:13:17</td>\n",
       "      <td>1596.0</td>\n",
       "    </tr>\n",
       "    <tr>\n",
       "      <td>3</td>\n",
       "      <td>4</td>\n",
       "      <td>1625.0</td>\n",
       "      <td>2019-05-03 12:52:57</td>\n",
       "      <td>1601.0</td>\n",
       "    </tr>\n",
       "    <tr>\n",
       "      <td>4</td>\n",
       "      <td>5</td>\n",
       "      <td>1602.0</td>\n",
       "      <td>2019-05-03 13:23:19</td>\n",
       "      <td>1576.0</td>\n",
       "    </tr>\n",
       "  </tbody>\n",
       "</table>\n",
       "</div>"
      ],
      "text/plain": [
       "   key  target           meas_time    temp\n",
       "0    1  1613.0 2019-05-03 11:16:18  1571.0\n",
       "1    2  1602.0 2019-05-03 11:37:27  1581.0\n",
       "2    3  1599.0 2019-05-03 12:13:17  1596.0\n",
       "3    4  1625.0 2019-05-03 12:52:57  1601.0\n",
       "4    5  1602.0 2019-05-03 13:23:19  1576.0"
      ]
     },
     "execution_count": 10,
     "metadata": {},
     "output_type": "execute_result"
    }
   ],
   "source": [
    "list_temp = []\n",
    "\n",
    "for k in df_temp['key'].unique():\n",
    "    df_k = df_temp[df_temp['key'] == k]\n",
    "    if len(df_k) >= 2 and not df_k.iloc[0].isna()['temp'] and not df_k.iloc[-1].isna()['temp']:\n",
    "        list_temp.append([df_k.iloc[0]['key'].astype(int),\n",
    "                          df_k.iloc[-1]['temp'],\n",
    "                          df_k.iloc[0]['meas_time'],\n",
    "                          df_k.iloc[0]['temp']])\n",
    "\n",
    "df_temp_key = pd.DataFrame(list_temp, columns=['key', 'target', 'meas_time', 'temp'])\n",
    "df_temp_key['meas_time'] = pd.to_datetime(df_temp_key['meas_time'], format='%Y.%m.%d %H:%M:%S')\n",
    "df_temp_key.info()\n",
    "df_temp_key.head()"
   ]
  },
  {
   "cell_type": "code",
   "execution_count": 11,
   "id": "2121487f",
   "metadata": {},
   "outputs": [],
   "source": [
    "df = df_temp_key.merge(df_arc_grouped, left_on='key', right_on='key'\n",
    "                 ).merge(df_bulk_merged, how='left', left_on='key', right_on='key'\n",
    "                        ).merge(df_wire_merged, how='left', left_on='key', right_on='key'\n",
    "                               ).merge(df_gas, how='left', left_on='key', right_on='key')"
   ]
  },
  {
   "cell_type": "markdown",
   "id": "bc0d9772",
   "metadata": {},
   "source": [
    "По информации, полученной на разборе задачи, известно, что пропущенные значения в таблицах `df_bulk`, `df_bulk_time`, `df_wire` и `df_wire_time` соответствуют прогонам, в которых соответствующий сыпучий или проволочный материал в ковш не добавлялись. Заменим пропущенные значения нулями."
   ]
  },
  {
   "cell_type": "code",
   "execution_count": 12,
   "id": "78ce7a78",
   "metadata": {},
   "outputs": [
    {
     "name": "stdout",
     "output_type": "stream",
     "text": [
      "<class 'pandas.core.frame.DataFrame'>\n",
      "Int64Index: 2475 entries, 0 to 2474\n",
      "Data columns (total 56 columns):\n",
      "key            2475 non-null int64\n",
      "target         2475 non-null float64\n",
      "meas_time      2475 non-null datetime64[ns]\n",
      "temp           2475 non-null float64\n",
      "duration       2475 non-null int64\n",
      "full_power     2475 non-null float64\n",
      "act_power      2475 non-null float64\n",
      "bulk1          2475 non-null float64\n",
      "bulk2          2475 non-null float64\n",
      "bulk3          2475 non-null float64\n",
      "bulk4          2475 non-null float64\n",
      "bulk5          2475 non-null float64\n",
      "bulk6          2475 non-null float64\n",
      "bulk7          2475 non-null float64\n",
      "bulk8          2475 non-null float64\n",
      "bulk9          2475 non-null float64\n",
      "bulk10         2475 non-null float64\n",
      "bulk11         2475 non-null float64\n",
      "bulk12         2475 non-null float64\n",
      "bulk13         2475 non-null float64\n",
      "bulk14         2475 non-null float64\n",
      "bulk15         2475 non-null float64\n",
      "bulk1_time     2475 non-null object\n",
      "bulk2_time     2475 non-null object\n",
      "bulk3_time     2475 non-null object\n",
      "bulk4_time     2475 non-null object\n",
      "bulk5_time     2475 non-null object\n",
      "bulk6_time     2475 non-null object\n",
      "bulk7_time     2475 non-null object\n",
      "bulk8_time     2475 non-null object\n",
      "bulk9_time     2475 non-null object\n",
      "bulk10_time    2475 non-null object\n",
      "bulk11_time    2475 non-null object\n",
      "bulk12_time    2475 non-null object\n",
      "bulk13_time    2475 non-null object\n",
      "bulk14_time    2475 non-null object\n",
      "bulk15_time    2475 non-null object\n",
      "wire1          2475 non-null float64\n",
      "wire2          2475 non-null float64\n",
      "wire3          2475 non-null float64\n",
      "wire4          2475 non-null float64\n",
      "wire5          2475 non-null float64\n",
      "wire6          2475 non-null float64\n",
      "wire7          2475 non-null float64\n",
      "wire8          2475 non-null float64\n",
      "wire9          2475 non-null float64\n",
      "wire1_time     2475 non-null object\n",
      "wire2_time     2475 non-null object\n",
      "wire3_time     2475 non-null object\n",
      "wire4_time     2475 non-null object\n",
      "wire5_time     2475 non-null int64\n",
      "wire6_time     2475 non-null object\n",
      "wire7_time     2475 non-null object\n",
      "wire8_time     2475 non-null object\n",
      "wire9_time     2475 non-null object\n",
      "gas            2475 non-null float64\n",
      "dtypes: datetime64[ns](1), float64(29), int64(3), object(23)\n",
      "memory usage: 1.1+ MB\n"
     ]
    }
   ],
   "source": [
    "df = df.fillna(0)\n",
    "df.info()"
   ]
  },
  {
   "cell_type": "markdown",
   "id": "05c8be9a",
   "metadata": {},
   "source": [
    "Стобцы c суффиксом в названии `_time` содержат информацию о времени подачи добавки в ковш."
   ]
  },
  {
   "cell_type": "markdown",
   "id": "425dfc61",
   "metadata": {},
   "source": [
    "### Исследовательский анализ данных"
   ]
  },
  {
   "cell_type": "markdown",
   "id": "499998c3",
   "metadata": {},
   "source": [
    "Представленные данные собраны в течение 120 дней:"
   ]
  },
  {
   "cell_type": "code",
   "execution_count": 13,
   "id": "5910ac5d",
   "metadata": {},
   "outputs": [
    {
     "data": {
      "text/plain": [
       "Timedelta('120 days 17:28:45')"
      ]
     },
     "execution_count": 13,
     "metadata": {},
     "output_type": "execute_result"
    }
   ],
   "source": [
    "df_arc['start_heat'].max() - df_arc['stop_heat'].min()"
   ]
  },
  {
   "cell_type": "code",
   "execution_count": 14,
   "id": "9b71cf6d",
   "metadata": {},
   "outputs": [
    {
     "data": {
      "image/png": "[encoded data removed]",
      "text/plain": [
       "<Figure size 1152x288 with 2 Axes>"
      ]
     },
     "metadata": {},
     "output_type": "display_data"
    }
   ],
   "source": [
    "sns.set()\n",
    "fig, axes = plt.subplots(1, 2, sharex=False, figsize=(16,4))\n",
    "\n",
    "sns.histplot(x=df['target'], bins=100, binrange=(1500,1700), ax=axes[0])\n",
    "axes[0].set_title('Распределение целевой температуры')\n",
    "axes[0].set_xlabel('температура, $^\\circ$C')\n",
    "axes[0].set_ylabel('')\n",
    "\n",
    "sns.boxplot(x=df['target'], ax=axes[1])\n",
    "axes[1].set_title('Диаграмма размаха целевой температуры')\n",
    "axes[1].set_xlabel('температура, $^\\circ$C')\n",
    "axes[1].set_ylabel('')\n",
    "plt.show()"
   ]
  },
  {
   "cell_type": "code",
   "execution_count": 15,
   "id": "7d5901e0",
   "metadata": {},
   "outputs": [
    {
     "data": {
      "image/png": "[encoded data removed]",
      "text/plain": [
       "<Figure size 1152x288 with 2 Axes>"
      ]
     },
     "metadata": {},
     "output_type": "display_data"
    }
   ],
   "source": [
    "fig, axes = plt.subplots(1, 2, sharex=False, figsize=(16,4))\n",
    "\n",
    "sns.histplot(x=df['temp'], bins=100, binrange=(1500,1700), ax=axes[0])\n",
    "axes[0].set_title('Распределение первой измеренной температуры')\n",
    "axes[0].set_xlabel('температура, $^\\circ$C')\n",
    "axes[0].set_ylabel('')\n",
    "\n",
    "sns.boxplot(x=df['temp'], ax=axes[1])\n",
    "axes[1].set_title('Диаграмма размаха первой измеренной температуры')\n",
    "axes[1].set_xlabel('температура, $^\\circ$C')\n",
    "axes[1].set_ylabel('')\n",
    "plt.show()"
   ]
  },
  {
   "cell_type": "markdown",
   "id": "27931f23",
   "metadata": {},
   "source": [
    "Будем считать, что адекватные значения температуры находятся в диапазоне от 1500 до 1700 градусов Цельсия. Измерения, лежащие снаружи этого диапазона позже удалим."
   ]
  },
  {
   "cell_type": "code",
   "execution_count": 16,
   "id": "f22c8355",
   "metadata": {},
   "outputs": [
    {
     "data": {
      "image/png": "[encoded data removed]",
      "text/plain": [
       "<Figure size 1152x288 with 2 Axes>"
      ]
     },
     "metadata": {},
     "output_type": "display_data"
    }
   ],
   "source": [
    "fig, axes = plt.subplots(1, 2, sharex=False, figsize=(16,4))\n",
    "\n",
    "sns.histplot(x=df['full_power'], bins=100, binrange=(0,20), ax=axes[0])\n",
    "axes[0].set_title('Распределение полной мощности')\n",
    "axes[0].set_xlabel('мощность')\n",
    "axes[0].set_ylabel('')\n",
    "\n",
    "sns.boxplot(x=df['full_power'], ax=axes[1])\n",
    "axes[1].set_title('Диаграмма размаха полной мощности')\n",
    "axes[1].set_xlabel('мощность')\n",
    "axes[1].set_ylabel('')\n",
    "plt.show()"
   ]
  },
  {
   "cell_type": "markdown",
   "id": "d17bffb1",
   "metadata": {},
   "source": [
    "Будем считать, что полная мощность находится в диапазоне от 0 до 20. На диаграмме размаха виден явный выброс. Такие значения позже удалим."
   ]
  },
  {
   "cell_type": "code",
   "execution_count": 17,
   "id": "1451872e",
   "metadata": {},
   "outputs": [
    {
     "data": {
      "image/png": "[encoded data removed]",
      "text/plain": [
       "<Figure size 1152x288 with 2 Axes>"
      ]
     },
     "metadata": {},
     "output_type": "display_data"
    }
   ],
   "source": [
    "fig, axes = plt.subplots(1, 2, sharex=False, figsize=(16,4))\n",
    "\n",
    "sns.histplot(x=df['gas'], bins=100, binrange=(0,40), ax=axes[0])\n",
    "axes[0].set_title('Распределение количества подаваемого газа')\n",
    "axes[0].set_xlabel('количество газа')\n",
    "axes[0].set_ylabel('')\n",
    "\n",
    "sns.boxplot(x=df['gas'], ax=axes[1])\n",
    "axes[1].set_title('Диаграмма размаха подаваемого газа')\n",
    "axes[1].set_xlabel('количество газа')\n",
    "axes[1].set_ylabel('')\n",
    "plt.show()"
   ]
  },
  {
   "cell_type": "markdown",
   "id": "2cb7541f",
   "metadata": {},
   "source": [
    "Количество подаваемого газа возьмем от 0 до 50. Все иные значения будем предполагать выбросами и позже удалим:"
   ]
  },
  {
   "cell_type": "code",
   "execution_count": 18,
   "id": "4fc091c1",
   "metadata": {},
   "outputs": [
    {
     "data": {
      "text/plain": [
       "(2465, 56)"
      ]
     },
     "execution_count": 18,
     "metadata": {},
     "output_type": "execute_result"
    }
   ],
   "source": [
    "df_clear = df.query('1500 <= target <= 1800 and 1500 <= temp <= 1800 and 0 <= full_power <= 20 and 0 <= gas <= 50')\n",
    "df_clear.shape"
   ]
  },
  {
   "cell_type": "markdown",
   "id": "28af7133",
   "metadata": {},
   "source": [
    "### Моделирование"
   ]
  },
  {
   "cell_type": "markdown",
   "id": "16c5fc94",
   "metadata": {},
   "source": [
    "По полученной информации, в реальном процессе время добавки в сплав сыпучих и проволочных материалов неизвестно. Поэтому соответствующие признаки использовать в модели некорректно. Удалим их, а также признак `wire5` (он содержал лишь один ненулевой элемент). Кроме того проверим признаки на мультиколлинеарность:"
   ]
  },
  {
   "cell_type": "code",
   "execution_count": 19,
   "id": "638e0ea1",
   "metadata": {},
   "outputs": [
    {
     "name": "stdout",
     "output_type": "stream",
     "text": [
      "Список коррелирующих признаков:\n",
      "duration act_power\n",
      "act_power duration\n",
      "bulk9 wire8\n",
      "wire8 bulk9\n"
     ]
    }
   ],
   "source": [
    "unnecessary_columns = ['meas_time', 'bulk1_time', 'bulk2_time', 'bulk3_time', 'bulk4_time', 'bulk5_time', 'bulk6_time', 'bulk7_time',\n",
    "                'bulk8_time', 'bulk9_time', 'bulk10_time', 'bulk11_time', 'bulk12_time', 'bulk13_time', 'bulk14_time',\n",
    "                'bulk15_time', 'wire1_time', 'wire2_time', 'wire3_time', 'wire4_time', 'wire5_time', 'wire6_time',\n",
    "                'wire7_time', 'wire8_time', 'wire9_time', 'wire5']\n",
    "\n",
    "print('Список коррелирующих признаков:')\n",
    "for column1 in df.drop('target', axis=1).drop(unnecessary_columns, axis=1).columns:\n",
    "    for column2 in df.drop('target', axis=1).drop(unnecessary_columns, axis=1).columns:\n",
    "        if column1 != column2 and df[column1].corr(df[column2]) > .8:\n",
    "            print(column1, column2)"
   ]
  },
  {
   "cell_type": "markdown",
   "id": "ee65e742",
   "metadata": {},
   "source": [
    "В силу мультиколлинеарности признаки `duration` и `bulk9` далее удалим:"
   ]
  },
  {
   "cell_type": "code",
   "execution_count": 20,
   "id": "a77b2ab2",
   "metadata": {},
   "outputs": [
    {
     "name": "stdout",
     "output_type": "stream",
     "text": [
      "Размер обучающей выборки: (1856, 27)\n",
      "Размер валидационной выборки: (619, 27)\n"
     ]
    }
   ],
   "source": [
    "unnecessary_columns = ['meas_time', 'bulk1_time', 'bulk2_time', 'bulk3_time', 'bulk4_time', 'bulk5_time', 'bulk6_time', 'bulk7_time',\n",
    "                'bulk8_time', 'bulk9_time', 'bulk10_time', 'bulk11_time', 'bulk12_time', 'bulk13_time', 'bulk14_time',\n",
    "                'bulk15_time', 'wire1_time', 'wire2_time', 'wire3_time', 'wire4_time', 'wire5_time', 'wire6_time',\n",
    "                'wire7_time', 'wire8_time', 'wire9_time', 'wire5', 'duration', 'bulk9']\n",
    "\n",
    "features = df.drop('target', axis=1).drop(unnecessary_columns, axis=1)\n",
    "target = df['target']\n",
    "\n",
    "features_train, features_valid, target_train, target_valid = train_test_split(\n",
    "        features, target, test_size=.25, random_state=12345)\n",
    "    \n",
    "print('Размер обучающей выборки:', features_train.shape)\n",
    "print('Размер валидационной выборки:', features_valid.shape)"
   ]
  },
  {
   "cell_type": "code",
   "execution_count": 21,
   "id": "a95ec2fe",
   "metadata": {},
   "outputs": [
    {
     "name": "stdout",
     "output_type": "stream",
     "text": [
      "MAE для модели линейной регрессии: 8.25\n"
     ]
    }
   ],
   "source": [
    "model = LinearRegression()\n",
    "model.fit(features_train, target_train)\n",
    "predict = model.predict(features_valid)\n",
    "\n",
    "print('MAE для модели линейной регрессии: {:.2f}'.format(mean_absolute_error(target_valid, predict)))"
   ]
  },
  {
   "cell_type": "code",
   "execution_count": 22,
   "id": "26be5208",
   "metadata": {},
   "outputs": [
    {
     "name": "stdout",
     "output_type": "stream",
     "text": [
      "MAE на валидационной выборке для модели случайного леса: 6.68\n",
      "Наилучшие гиперпараметры модели случайного леса: {'max_depth': 9, 'n_estimators': 9}\n"
     ]
    }
   ],
   "source": [
    "model = GridSearchCV(RandomForestRegressor(random_state=12345), scoring='neg_mean_absolute_error', cv=5,\n",
    "                                     param_grid={'max_depth': range(2,10), 'n_estimators': range(2,10)})\n",
    "\n",
    "model.fit(features_train, target_train)\n",
    "predict = model.predict(features_valid)\n",
    "\n",
    "print('MAE на валидационной выборке для модели случайного леса: {:.2f}'.format(mean_absolute_error(target_valid, predict)))\n",
    "print('Наилучшие гиперпараметры модели случайного леса:', model.best_params_)"
   ]
  },
  {
   "cell_type": "code",
   "execution_count": 23,
   "id": "83d48049",
   "metadata": {},
   "outputs": [
    {
     "name": "stdout",
     "output_type": "stream",
     "text": [
      "MAE на валидационной выборке для модели CatBoost: 6.13\n"
     ]
    }
   ],
   "source": [
    "#GridSearchCV позволяет найти наилучшие гиперпарметры модели\n",
    "#model = GridSearchCV(CatBoostRegressor(verbose=100, iterations=200, random_state=12345), scoring='neg_mean_absolute_error', cv=5,\n",
    "#                                     param_grid={'learning_rate': np.arange(.05,.2,.01),\n",
    "#                                                 'depth': range(2,8,1)})\n",
    "\n",
    "model = CatBoostRegressor(verbose=False, max_depth=5, learning_rate=.035, l2_leaf_reg=.25, model_size_reg=.3,\n",
    "                          iterations=700, random_state=12345)\n",
    "\n",
    "model.fit(features_train, target_train)\n",
    "predict = model.predict(features_valid)\n",
    "\n",
    "print('MAE на валидационной выборке для модели CatBoost: {:.2f}'.format(mean_absolute_error(target_valid, predict)))\n",
    "#print('Наилучшие гиперпараметры модели CatBoost:', model.best_params_)"
   ]
  },
  {
   "cell_type": "code",
   "execution_count": 24,
   "id": "4051a784",
   "metadata": {},
   "outputs": [
    {
     "name": "stdout",
     "output_type": "stream",
     "text": [
      "MAE на валидационной выборке для модели XGBoost: 5.98\n"
     ]
    }
   ],
   "source": [
    "#model = GridSearchCV(XGBRegressor(objective ='reg:squarederror', random_state=12345), scoring='neg_mean_absolute_error', cv=5,\n",
    "#                                     param_grid={'learning_rate': np.arange(.01, .1, .01),\n",
    "#                                                 'max_depth': range(4,8)})\n",
    "\n",
    "model = XGBRegressor(objective ='reg:squarederror', learning_rate=.036, colsample_bytree = .69, n_estimators = 800,\n",
    "                     gamma = .33)\n",
    "\n",
    "model.fit(features_train, target_train)\n",
    "predict = model.predict(features_valid)\n",
    "\n",
    "print('MAE на валидационной выборке для модели XGBoost: {:.2f}'.format(mean_absolute_error(target_valid, predict)))\n",
    "#print('Наилучшие гиперпараметры модели XGBoost:', model.best_params_)"
   ]
  },
  {
   "cell_type": "markdown",
   "id": "3b3eb554",
   "metadata": {},
   "source": [
    "Наименьшее значение MAE дает алгоритм XGBoost. На валидационной выборке значение составило 5.98 градуса. Посмотрим, какие признаки играют в оценке алгоритма наибольшую роль:"
   ]
  },
  {
   "cell_type": "code",
   "execution_count": 25,
   "id": "8bee9b19",
   "metadata": {},
   "outputs": [
    {
     "data": {
      "image/png": "[encoded data removed]",
      "text/plain": [
       "<Figure size 1152x576 with 1 Axes>"
      ]
     },
     "metadata": {},
     "output_type": "display_data"
    }
   ],
   "source": [
    "sorted_idx = model.feature_importances_.argsort()\n",
    "plt.figure(figsize=(16,8))\n",
    "plt.barh(features_valid.columns[sorted_idx], model.feature_importances_[sorted_idx])\n",
    "plt.xlabel(\"XGBoost Feature Importance\")\n",
    "plt.show()"
   ]
  }
 ],
 "metadata": {
  "ExecuteTimeLog": [
   {
    "duration": 820,
    "start_time": "2021-10-19T15:41:47.104Z"
   },
   {
    "duration": 186,
    "start_time": "2021-10-19T15:42:27.258Z"
   },
   {
    "duration": 4,
    "start_time": "2021-10-19T15:42:34.811Z"
   },
   {
    "duration": 42,
    "start_time": "2021-10-19T15:42:35.611Z"
   },
   {
    "duration": 31,
    "start_time": "2021-10-19T15:42:36.172Z"
   },
   {
    "duration": 33,
    "start_time": "2021-10-19T15:42:36.725Z"
   },
   {
    "duration": 14,
    "start_time": "2021-10-19T15:42:37.235Z"
   },
   {
    "duration": 17,
    "start_time": "2021-10-19T15:42:37.689Z"
   },
   {
    "duration": 25,
    "start_time": "2021-10-19T15:42:37.878Z"
   },
   {
    "duration": 22,
    "start_time": "2021-10-19T15:42:38.229Z"
   },
   {
    "duration": 7725,
    "start_time": "2021-10-19T15:42:38.827Z"
   },
   {
    "duration": 369,
    "start_time": "2021-10-19T15:42:46.185Z"
   },
   {
    "duration": 366,
    "start_time": "2021-10-19T15:42:46.190Z"
   },
   {
    "duration": 363,
    "start_time": "2021-10-19T15:42:46.194Z"
   },
   {
    "duration": 363,
    "start_time": "2021-10-19T15:42:46.196Z"
   },
   {
    "duration": 586,
    "start_time": "2021-10-19T15:43:01.337Z"
   },
   {
    "duration": 929,
    "start_time": "2021-10-19T15:43:02.860Z"
   },
   {
    "duration": 559,
    "start_time": "2021-10-19T15:43:03.792Z"
   },
   {
    "duration": 542,
    "start_time": "2021-10-19T15:43:04.354Z"
   },
   {
    "duration": 1033,
    "start_time": "2021-10-20T10:05:53.703Z"
   },
   {
    "duration": 192,
    "start_time": "2021-10-20T10:06:18.256Z"
   },
   {
    "duration": 185,
    "start_time": "2021-10-20T10:06:37.989Z"
   },
   {
    "duration": 4319,
    "start_time": "2021-10-20T10:07:31.033Z"
   },
   {
    "duration": 8,
    "start_time": "2021-10-20T10:07:43.793Z"
   },
   {
    "duration": 7,
    "start_time": "2021-10-20T10:08:14.153Z"
   },
   {
    "duration": 5222,
    "start_time": "2021-10-20T10:08:28.172Z"
   },
   {
    "duration": 3,
    "start_time": "2021-10-20T10:08:34.616Z"
   },
   {
    "duration": 27,
    "start_time": "2021-10-20T10:08:37.172Z"
   },
   {
    "duration": 697,
    "start_time": "2021-10-20T10:11:58.733Z"
   },
   {
    "duration": 701,
    "start_time": "2021-10-20T10:12:18.818Z"
   },
   {
    "duration": 173,
    "start_time": "2021-10-20T10:12:22.324Z"
   },
   {
    "duration": 3,
    "start_time": "2021-10-20T10:12:24.273Z"
   },
   {
    "duration": 25,
    "start_time": "2021-10-20T10:12:25.755Z"
   },
   {
    "duration": 3,
    "start_time": "2021-10-20T10:19:24.935Z"
   },
   {
    "duration": 242,
    "start_time": "2021-10-20T10:19:40.066Z"
   },
   {
    "duration": 22,
    "start_time": "2021-10-20T10:19:46.549Z"
   },
   {
    "duration": 17,
    "start_time": "2021-10-20T10:20:09.629Z"
   },
   {
    "duration": 17,
    "start_time": "2021-10-20T10:20:22.533Z"
   },
   {
    "duration": 22,
    "start_time": "2021-10-20T10:25:45.300Z"
   },
   {
    "duration": 4,
    "start_time": "2021-10-20T10:35:29.022Z"
   },
   {
    "duration": 11,
    "start_time": "2021-10-20T10:35:55.226Z"
   },
   {
    "duration": 12,
    "start_time": "2021-10-20T10:36:33.042Z"
   },
   {
    "duration": 10,
    "start_time": "2021-10-20T10:38:11.964Z"
   },
   {
    "duration": 18,
    "start_time": "2021-10-20T10:38:39.457Z"
   },
   {
    "duration": 10,
    "start_time": "2021-10-20T10:38:42.829Z"
   },
   {
    "duration": 176,
    "start_time": "2021-10-20T10:39:05.255Z"
   },
   {
    "duration": 8,
    "start_time": "2021-10-20T10:39:08.169Z"
   },
   {
    "duration": 11,
    "start_time": "2021-10-20T10:39:16.902Z"
   },
   {
    "duration": 18,
    "start_time": "2021-10-20T10:39:53.743Z"
   },
   {
    "duration": 62,
    "start_time": "2021-10-20T10:43:15.057Z"
   },
   {
    "duration": 20,
    "start_time": "2021-10-20T10:43:19.176Z"
   },
   {
    "duration": 199,
    "start_time": "2021-10-20T10:44:44.991Z"
   },
   {
    "duration": 169,
    "start_time": "2021-10-20T10:46:23.264Z"
   },
   {
    "duration": 25,
    "start_time": "2021-10-20T10:46:33.721Z"
   },
   {
    "duration": 34,
    "start_time": "2021-10-20T10:48:40.796Z"
   },
   {
    "duration": 32,
    "start_time": "2021-10-20T10:48:44.331Z"
   },
   {
    "duration": 23,
    "start_time": "2021-10-20T10:48:49.587Z"
   },
   {
    "duration": 24,
    "start_time": "2021-10-20T10:48:55.769Z"
   },
   {
    "duration": 643,
    "start_time": "2021-10-20T10:49:58.929Z"
   },
   {
    "duration": 21,
    "start_time": "2021-10-20T10:50:24.131Z"
   },
   {
    "duration": 8,
    "start_time": "2021-10-20T10:50:34.876Z"
   },
   {
    "duration": 11,
    "start_time": "2021-10-20T10:50:40.549Z"
   },
   {
    "duration": 16,
    "start_time": "2021-10-20T10:51:03.644Z"
   },
   {
    "duration": 11,
    "start_time": "2021-10-20T10:51:13.269Z"
   },
   {
    "duration": 8,
    "start_time": "2021-10-20T10:51:36.705Z"
   },
   {
    "duration": 9,
    "start_time": "2021-10-20T10:51:42.925Z"
   },
   {
    "duration": 12,
    "start_time": "2021-10-20T10:51:57.040Z"
   },
   {
    "duration": 10,
    "start_time": "2021-10-20T10:53:59.700Z"
   },
   {
    "duration": 26,
    "start_time": "2021-10-20T10:55:05.320Z"
   },
   {
    "duration": 27,
    "start_time": "2021-10-20T10:55:15.237Z"
   },
   {
    "duration": 21,
    "start_time": "2021-10-20T10:56:07.785Z"
   },
   {
    "duration": 30,
    "start_time": "2021-10-20T10:57:03.412Z"
   },
   {
    "duration": 21,
    "start_time": "2021-10-20T10:57:13.226Z"
   },
   {
    "duration": 31,
    "start_time": "2021-10-20T10:57:30.636Z"
   },
   {
    "duration": 32,
    "start_time": "2021-10-20T10:57:50.283Z"
   },
   {
    "duration": 7,
    "start_time": "2021-10-20T10:58:36.256Z"
   },
   {
    "duration": 7,
    "start_time": "2021-10-20T10:58:48.607Z"
   },
   {
    "duration": 8,
    "start_time": "2021-10-20T10:58:55.118Z"
   },
   {
    "duration": 7,
    "start_time": "2021-10-20T10:58:59.145Z"
   },
   {
    "duration": 7,
    "start_time": "2021-10-20T10:59:03.287Z"
   },
   {
    "duration": 223,
    "start_time": "2021-10-20T11:00:40.699Z"
   },
   {
    "duration": 652,
    "start_time": "2021-10-20T11:00:45.377Z"
   },
   {
    "duration": 13,
    "start_time": "2021-10-20T11:01:01.292Z"
   },
   {
    "duration": 10,
    "start_time": "2021-10-20T11:01:08.152Z"
   },
   {
    "duration": 12,
    "start_time": "2021-10-20T11:01:21.088Z"
   },
   {
    "duration": 11,
    "start_time": "2021-10-20T11:01:29.283Z"
   },
   {
    "duration": 11,
    "start_time": "2021-10-20T11:05:23.290Z"
   },
   {
    "duration": 15,
    "start_time": "2021-10-20T11:05:37.301Z"
   },
   {
    "duration": 11,
    "start_time": "2021-10-20T11:05:55.290Z"
   },
   {
    "duration": 4468,
    "start_time": "2021-10-20T11:07:54.351Z"
   },
   {
    "duration": 4725,
    "start_time": "2021-10-20T11:08:12.140Z"
   },
   {
    "duration": 184,
    "start_time": "2021-10-20T11:09:16.615Z"
   },
   {
    "duration": 11,
    "start_time": "2021-10-20T11:09:24.364Z"
   },
   {
    "duration": 10,
    "start_time": "2021-10-20T11:09:31.725Z"
   },
   {
    "duration": 9,
    "start_time": "2021-10-20T11:09:43.379Z"
   },
   {
    "duration": 11,
    "start_time": "2021-10-20T11:14:44.712Z"
   },
   {
    "duration": 10,
    "start_time": "2021-10-20T11:15:25.708Z"
   },
   {
    "duration": 12,
    "start_time": "2021-10-20T11:15:29.468Z"
   },
   {
    "duration": 15,
    "start_time": "2021-10-20T11:15:48.237Z"
   },
   {
    "duration": 13,
    "start_time": "2021-10-20T11:15:52.476Z"
   },
   {
    "duration": 1098,
    "start_time": "2021-10-20T18:20:40.040Z"
   },
   {
    "duration": 188,
    "start_time": "2021-10-20T18:20:41.140Z"
   },
   {
    "duration": 12,
    "start_time": "2021-10-20T18:20:41.330Z"
   },
   {
    "duration": 22,
    "start_time": "2021-10-20T18:20:41.344Z"
   },
   {
    "duration": 10,
    "start_time": "2021-10-20T18:20:41.368Z"
   },
   {
    "duration": 33,
    "start_time": "2021-10-20T18:20:41.380Z"
   },
   {
    "duration": 26,
    "start_time": "2021-10-20T18:20:41.414Z"
   },
   {
    "duration": 9,
    "start_time": "2021-10-20T18:20:41.442Z"
   },
   {
    "duration": 36,
    "start_time": "2021-10-20T18:20:41.453Z"
   },
   {
    "duration": 9099,
    "start_time": "2021-10-20T18:20:41.491Z"
   },
   {
    "duration": -338,
    "start_time": "2021-10-20T18:20:50.930Z"
   },
   {
    "duration": -347,
    "start_time": "2021-10-20T18:20:50.940Z"
   },
   {
    "duration": -355,
    "start_time": "2021-10-20T18:20:50.949Z"
   },
   {
    "duration": -361,
    "start_time": "2021-10-20T18:20:50.956Z"
   },
   {
    "duration": 12,
    "start_time": "2021-10-20T18:21:13.107Z"
   },
   {
    "duration": 4,
    "start_time": "2021-10-20T18:21:38.473Z"
   },
   {
    "duration": 4,
    "start_time": "2021-10-20T18:21:43.627Z"
   },
   {
    "duration": 4,
    "start_time": "2021-10-20T18:22:04.136Z"
   },
   {
    "duration": 6,
    "start_time": "2021-10-20T18:23:24.540Z"
   },
   {
    "duration": 2868,
    "start_time": "2021-10-20T18:23:36.844Z"
   },
   {
    "duration": 124,
    "start_time": "2021-10-20T18:23:48.097Z"
   },
   {
    "duration": 8,
    "start_time": "2021-10-20T18:32:15.961Z"
   },
   {
    "duration": 6,
    "start_time": "2021-10-20T18:32:25.147Z"
   },
   {
    "duration": 8,
    "start_time": "2021-10-20T18:32:35.779Z"
   },
   {
    "duration": 9142,
    "start_time": "2021-10-20T18:32:44.297Z"
   },
   {
    "duration": 5,
    "start_time": "2021-10-20T18:32:59.849Z"
   },
   {
    "duration": 9,
    "start_time": "2021-10-20T18:33:05.178Z"
   },
   {
    "duration": 4,
    "start_time": "2021-10-20T18:33:10.867Z"
   },
   {
    "duration": 5,
    "start_time": "2021-10-20T18:33:14.634Z"
   },
   {
    "duration": 8,
    "start_time": "2021-10-20T18:33:18.438Z"
   },
   {
    "duration": 6,
    "start_time": "2021-10-20T18:33:26.128Z"
   },
   {
    "duration": 410,
    "start_time": "2021-10-20T18:33:46.349Z"
   },
   {
    "duration": 903,
    "start_time": "2021-10-20T18:33:59.034Z"
   },
   {
    "duration": 550,
    "start_time": "2021-10-20T18:34:03.006Z"
   },
   {
    "duration": 3,
    "start_time": "2021-10-20T18:34:50.004Z"
   },
   {
    "duration": 3,
    "start_time": "2021-10-20T18:34:52.845Z"
   },
   {
    "duration": 3,
    "start_time": "2021-10-20T18:34:55.528Z"
   },
   {
    "duration": 372,
    "start_time": "2021-10-20T18:35:00.022Z"
   },
   {
    "duration": 5,
    "start_time": "2021-10-20T18:35:06.798Z"
   },
   {
    "duration": 3,
    "start_time": "2021-10-20T18:35:09.167Z"
   },
   {
    "duration": 5,
    "start_time": "2021-10-20T18:35:12.209Z"
   },
   {
    "duration": 776,
    "start_time": "2021-10-20T18:35:15.896Z"
   },
   {
    "duration": 12,
    "start_time": "2021-10-20T18:35:48.914Z"
   },
   {
    "duration": 15,
    "start_time": "2021-10-20T18:35:58.404Z"
   },
   {
    "duration": 15,
    "start_time": "2021-10-20T18:36:07.316Z"
   },
   {
    "duration": 13,
    "start_time": "2021-10-20T18:36:21.223Z"
   },
   {
    "duration": 12,
    "start_time": "2021-10-20T18:36:28.088Z"
   },
   {
    "duration": 15,
    "start_time": "2021-10-20T18:36:37.565Z"
   },
   {
    "duration": 543,
    "start_time": "2021-10-20T18:37:11.810Z"
   },
   {
    "duration": 554,
    "start_time": "2021-10-20T18:37:34.864Z"
   },
   {
    "duration": 343,
    "start_time": "2021-10-20T18:37:42.040Z"
   },
   {
    "duration": 635,
    "start_time": "2021-10-20T18:37:45.141Z"
   },
   {
    "duration": 575,
    "start_time": "2021-10-20T18:37:47.419Z"
   },
   {
    "duration": 15,
    "start_time": "2021-10-20T18:38:10.316Z"
   },
   {
    "duration": 542,
    "start_time": "2021-10-20T18:39:01.729Z"
   },
   {
    "duration": 107,
    "start_time": "2021-10-20T18:39:16.914Z"
   },
   {
    "duration": 112,
    "start_time": "2021-10-20T18:39:22.170Z"
   },
   {
    "duration": 11,
    "start_time": "2021-10-20T18:39:29.020Z"
   },
   {
    "duration": 1496,
    "start_time": "2021-10-20T18:39:44.697Z"
   },
   {
    "duration": 396,
    "start_time": "2021-10-20T18:40:00.025Z"
   },
   {
    "duration": 12,
    "start_time": "2021-10-20T18:40:28.658Z"
   },
   {
    "duration": 18,
    "start_time": "2021-10-20T18:40:31.969Z"
   },
   {
    "duration": 676,
    "start_time": "2021-10-20T18:40:36.393Z"
   },
   {
    "duration": 18,
    "start_time": "2021-10-20T18:40:49.946Z"
   },
   {
    "duration": 18,
    "start_time": "2021-10-20T18:40:56.001Z"
   },
   {
    "duration": 18,
    "start_time": "2021-10-20T18:41:08.707Z"
   },
   {
    "duration": 923,
    "start_time": "2021-10-20T18:41:15.254Z"
   },
   {
    "duration": 545,
    "start_time": "2021-10-20T18:41:18.837Z"
   },
   {
    "duration": 534,
    "start_time": "2021-10-20T18:41:23.929Z"
   },
   {
    "duration": 534,
    "start_time": "2021-10-20T18:41:30.605Z"
   },
   {
    "duration": 573,
    "start_time": "2021-10-20T18:41:34.907Z"
   },
   {
    "duration": 558,
    "start_time": "2021-10-20T18:41:39.694Z"
   },
   {
    "duration": 17,
    "start_time": "2021-10-20T18:41:42.514Z"
   },
   {
    "duration": 26,
    "start_time": "2021-10-20T18:41:45.384Z"
   },
   {
    "duration": 46,
    "start_time": "2021-10-20T18:41:48.468Z"
   },
   {
    "duration": 169,
    "start_time": "2021-10-20T18:41:51.617Z"
   },
   {
    "duration": 250,
    "start_time": "2021-10-20T18:41:53.922Z"
   },
   {
    "duration": 256,
    "start_time": "2021-10-20T18:41:56.212Z"
   },
   {
    "duration": 562,
    "start_time": "2021-10-20T18:41:58.629Z"
   },
   {
    "duration": 16,
    "start_time": "2021-10-20T18:42:17.928Z"
   },
   {
    "duration": 16,
    "start_time": "2021-10-20T18:42:22.188Z"
   },
   {
    "duration": 17,
    "start_time": "2021-10-20T18:42:25.480Z"
   },
   {
    "duration": 17,
    "start_time": "2021-10-20T18:42:28.764Z"
   },
   {
    "duration": 19,
    "start_time": "2021-10-20T18:42:33.045Z"
   },
   {
    "duration": 17,
    "start_time": "2021-10-20T18:42:37.689Z"
   },
   {
    "duration": 18,
    "start_time": "2021-10-20T18:42:40.358Z"
   },
   {
    "duration": 21,
    "start_time": "2021-10-20T18:42:42.522Z"
   },
   {
    "duration": 15,
    "start_time": "2021-10-20T18:42:45.954Z"
   },
   {
    "duration": 15,
    "start_time": "2021-10-20T18:42:53.107Z"
   },
   {
    "duration": 24,
    "start_time": "2021-10-20T18:42:55.911Z"
   },
   {
    "duration": 28,
    "start_time": "2021-10-20T18:43:20.012Z"
   },
   {
    "duration": 361,
    "start_time": "2021-10-20T18:43:40.338Z"
   },
   {
    "duration": 349,
    "start_time": "2021-10-20T18:43:48.603Z"
   },
   {
    "duration": 26,
    "start_time": "2021-10-20T18:43:58.985Z"
   },
   {
    "duration": 25,
    "start_time": "2021-10-20T18:44:05.232Z"
   },
   {
    "duration": 24,
    "start_time": "2021-10-20T18:44:12.872Z"
   },
   {
    "duration": 19,
    "start_time": "2021-10-20T18:45:03.998Z"
   },
   {
    "duration": 28154,
    "start_time": "2021-10-20T18:45:16.426Z"
   },
   {
    "duration": 27,
    "start_time": "2021-10-20T18:45:57.143Z"
   },
   {
    "duration": 7,
    "start_time": "2021-10-20T18:46:56.455Z"
   },
   {
    "duration": 7,
    "start_time": "2021-10-20T18:47:11.791Z"
   },
   {
    "duration": 7,
    "start_time": "2021-10-20T18:47:18.270Z"
   },
   {
    "duration": 7,
    "start_time": "2021-10-20T18:47:25.488Z"
   },
   {
    "duration": 9,
    "start_time": "2021-10-20T18:47:51.786Z"
   },
   {
    "duration": 8,
    "start_time": "2021-10-20T18:48:01.997Z"
   },
   {
    "duration": 8,
    "start_time": "2021-10-20T18:48:05.317Z"
   },
   {
    "duration": 7,
    "start_time": "2021-10-20T18:48:08.404Z"
   },
   {
    "duration": 8,
    "start_time": "2021-10-20T18:48:43.029Z"
   },
   {
    "duration": 5,
    "start_time": "2021-10-20T18:49:08.701Z"
   },
   {
    "duration": 7,
    "start_time": "2021-10-20T18:49:13.542Z"
   },
   {
    "duration": 7,
    "start_time": "2021-10-20T18:49:23.746Z"
   },
   {
    "duration": 8,
    "start_time": "2021-10-20T18:49:40.483Z"
   },
   {
    "duration": 7,
    "start_time": "2021-10-20T18:51:38.036Z"
   },
   {
    "duration": 6,
    "start_time": "2021-10-20T18:51:40.565Z"
   },
   {
    "duration": 6,
    "start_time": "2021-10-20T18:51:46.110Z"
   },
   {
    "duration": 1845,
    "start_time": "2021-10-20T18:52:08.083Z"
   },
   {
    "duration": 1827,
    "start_time": "2021-10-20T18:52:22.506Z"
   },
   {
    "duration": 19212,
    "start_time": "2021-10-20T18:52:33.196Z"
   },
   {
    "duration": 8366,
    "start_time": "2021-10-20T18:54:43.457Z"
   },
   {
    "duration": 9204,
    "start_time": "2021-10-20T18:55:22.022Z"
   },
   {
    "duration": 339,
    "start_time": "2021-10-20T18:56:20.030Z"
   },
   {
    "duration": 6,
    "start_time": "2021-10-20T18:56:25.856Z"
   },
   {
    "duration": 9401,
    "start_time": "2021-10-20T18:56:49.924Z"
   },
   {
    "duration": 9309,
    "start_time": "2021-10-20T18:57:23.927Z"
   },
   {
    "duration": 9328,
    "start_time": "2021-10-20T18:58:25.035Z"
   },
   {
    "duration": 11120,
    "start_time": "2021-10-20T19:00:51.376Z"
   },
   {
    "duration": 11297,
    "start_time": "2021-10-20T19:01:27.143Z"
   },
   {
    "duration": 9,
    "start_time": "2021-10-20T19:02:28.021Z"
   },
   {
    "duration": 10446,
    "start_time": "2021-10-20T19:03:35.143Z"
   },
   {
    "duration": 7,
    "start_time": "2021-10-20T19:04:14.993Z"
   },
   {
    "duration": 7,
    "start_time": "2021-10-20T19:04:35.747Z"
   },
   {
    "duration": 9009,
    "start_time": "2021-10-20T19:05:15.451Z"
   },
   {
    "duration": 6,
    "start_time": "2021-10-20T19:05:39.727Z"
   },
   {
    "duration": 7,
    "start_time": "2021-10-20T19:05:49.036Z"
   },
   {
    "duration": 5,
    "start_time": "2021-10-20T19:06:53.875Z"
   },
   {
    "duration": 4,
    "start_time": "2021-10-20T19:07:02.661Z"
   },
   {
    "duration": 5,
    "start_time": "2021-10-20T19:07:07.787Z"
   },
   {
    "duration": 375,
    "start_time": "2021-10-20T19:07:11.799Z"
   },
   {
    "duration": 335,
    "start_time": "2021-10-20T19:07:14.679Z"
   },
   {
    "duration": 4,
    "start_time": "2021-10-20T19:07:17.925Z"
   },
   {
    "duration": 4,
    "start_time": "2021-10-20T19:07:23.402Z"
   },
   {
    "duration": 4,
    "start_time": "2021-10-20T19:07:27.992Z"
   },
   {
    "duration": 4,
    "start_time": "2021-10-20T19:07:32.705Z"
   },
   {
    "duration": 4,
    "start_time": "2021-10-20T19:07:39.423Z"
   },
   {
    "duration": 5,
    "start_time": "2021-10-20T19:07:44.051Z"
   },
   {
    "duration": 4,
    "start_time": "2021-10-20T19:07:46.964Z"
   },
   {
    "duration": 4,
    "start_time": "2021-10-20T19:07:51.407Z"
   },
   {
    "duration": 340,
    "start_time": "2021-10-20T19:07:55.381Z"
   },
   {
    "duration": 4,
    "start_time": "2021-10-20T19:08:00.803Z"
   },
   {
    "duration": 337,
    "start_time": "2021-10-20T19:08:03.711Z"
   },
   {
    "duration": 334,
    "start_time": "2021-10-20T19:08:07.087Z"
   },
   {
    "duration": 4,
    "start_time": "2021-10-20T19:08:14.117Z"
   },
   {
    "duration": 329,
    "start_time": "2021-10-20T19:08:27.907Z"
   },
   {
    "duration": 7,
    "start_time": "2021-10-20T19:08:59.409Z"
   },
   {
    "duration": 5,
    "start_time": "2021-10-20T19:09:07.772Z"
   },
   {
    "duration": 324,
    "start_time": "2021-10-20T19:09:17.662Z"
   },
   {
    "duration": 4,
    "start_time": "2021-10-20T19:09:27.637Z"
   },
   {
    "duration": 5,
    "start_time": "2021-10-20T19:09:32.128Z"
   },
   {
    "duration": 440,
    "start_time": "2021-10-20T19:10:28.245Z"
   },
   {
    "duration": 456,
    "start_time": "2021-10-20T19:11:55.170Z"
   },
   {
    "duration": 9545,
    "start_time": "2021-10-20T19:12:10.791Z"
   },
   {
    "duration": 350,
    "start_time": "2021-10-20T19:12:44.334Z"
   },
   {
    "duration": 8,
    "start_time": "2021-10-20T19:13:25.009Z"
   },
   {
    "duration": 7,
    "start_time": "2021-10-20T19:13:29.802Z"
   },
   {
    "duration": 7,
    "start_time": "2021-10-20T19:13:40.323Z"
   },
   {
    "duration": 9034,
    "start_time": "2021-10-20T19:40:33.780Z"
   },
   {
    "duration": 8889,
    "start_time": "2021-10-20T19:43:43.577Z"
   },
   {
    "duration": 8085,
    "start_time": "2021-10-20T20:01:29.882Z"
   },
   {
    "duration": 9,
    "start_time": "2021-10-20T20:01:57.475Z"
   },
   {
    "duration": 8,
    "start_time": "2021-10-20T20:02:41.635Z"
   },
   {
    "duration": 8,
    "start_time": "2021-10-20T20:03:09.586Z"
   },
   {
    "duration": 9,
    "start_time": "2021-10-20T20:03:17.427Z"
   },
   {
    "duration": 8,
    "start_time": "2021-10-20T20:03:28.098Z"
   },
   {
    "duration": 8,
    "start_time": "2021-10-20T20:03:35.748Z"
   },
   {
    "duration": 9,
    "start_time": "2021-10-20T20:04:40.663Z"
   },
   {
    "duration": 9,
    "start_time": "2021-10-20T20:04:47.953Z"
   },
   {
    "duration": 10,
    "start_time": "2021-10-20T20:04:57.922Z"
   },
   {
    "duration": 11,
    "start_time": "2021-10-20T20:05:07.011Z"
   },
   {
    "duration": 10,
    "start_time": "2021-10-20T20:05:11.254Z"
   },
   {
    "duration": 11,
    "start_time": "2021-10-20T20:05:15.820Z"
   },
   {
    "duration": 9,
    "start_time": "2021-10-20T20:05:21.459Z"
   },
   {
    "duration": 10,
    "start_time": "2021-10-20T20:05:24.371Z"
   },
   {
    "duration": 10,
    "start_time": "2021-10-20T20:05:32.504Z"
   },
   {
    "duration": 10,
    "start_time": "2021-10-20T20:05:39.933Z"
   },
   {
    "duration": 5,
    "start_time": "2021-10-20T20:06:00.456Z"
   },
   {
    "duration": 5,
    "start_time": "2021-10-20T20:06:55.007Z"
   },
   {
    "duration": 5,
    "start_time": "2021-10-20T20:07:29.350Z"
   },
   {
    "duration": 370,
    "start_time": "2021-10-20T20:07:52.684Z"
   },
   {
    "duration": 10540,
    "start_time": "2021-10-20T20:07:59.770Z"
   },
   {
    "duration": 1265,
    "start_time": "2021-10-20T20:08:20.643Z"
   },
   {
    "duration": 1137,
    "start_time": "2021-10-20T20:10:18.333Z"
   },
   {
    "duration": 1173,
    "start_time": "2021-10-20T20:10:58.274Z"
   },
   {
    "duration": 6,
    "start_time": "2021-10-20T20:12:02.234Z"
   },
   {
    "duration": 8,
    "start_time": "2021-10-20T20:12:06.023Z"
   },
   {
    "duration": 663,
    "start_time": "2021-10-20T20:14:06.109Z"
   },
   {
    "duration": 1056,
    "start_time": "2021-10-21T05:08:24.291Z"
   },
   {
    "duration": 221,
    "start_time": "2021-10-21T05:08:25.349Z"
   },
   {
    "duration": 11,
    "start_time": "2021-10-21T05:08:25.572Z"
   },
   {
    "duration": 23,
    "start_time": "2021-10-21T05:08:25.585Z"
   },
   {
    "duration": 9,
    "start_time": "2021-10-21T05:08:25.610Z"
   },
   {
    "duration": 29,
    "start_time": "2021-10-21T05:08:25.620Z"
   },
   {
    "duration": 49,
    "start_time": "2021-10-21T05:08:25.651Z"
   },
   {
    "duration": 8,
    "start_time": "2021-10-21T05:08:25.702Z"
   },
   {
    "duration": 11,
    "start_time": "2021-10-21T05:08:25.712Z"
   },
   {
    "duration": 268,
    "start_time": "2021-10-21T05:08:25.724Z"
   },
   {
    "duration": -759,
    "start_time": "2021-10-21T05:08:26.753Z"
   },
   {
    "duration": -781,
    "start_time": "2021-10-21T05:08:26.776Z"
   },
   {
    "duration": -790,
    "start_time": "2021-10-21T05:08:26.786Z"
   },
   {
    "duration": -809,
    "start_time": "2021-10-21T05:08:26.806Z"
   },
   {
    "duration": -813,
    "start_time": "2021-10-21T05:08:26.811Z"
   },
   {
    "duration": -819,
    "start_time": "2021-10-21T05:08:26.818Z"
   },
   {
    "duration": 5,
    "start_time": "2021-10-21T05:09:05.556Z"
   },
   {
    "duration": 202,
    "start_time": "2021-10-21T05:09:11.803Z"
   },
   {
    "duration": 9,
    "start_time": "2021-10-21T05:09:16.114Z"
   },
   {
    "duration": 9,
    "start_time": "2021-10-21T05:09:26.884Z"
   },
   {
    "duration": 9,
    "start_time": "2021-10-21T05:09:47.578Z"
   },
   {
    "duration": 60,
    "start_time": "2021-10-21T05:10:01.736Z"
   },
   {
    "duration": 8,
    "start_time": "2021-10-21T05:10:09.487Z"
   },
   {
    "duration": 217,
    "start_time": "2021-10-21T05:10:39.910Z"
   },
   {
    "duration": 7,
    "start_time": "2021-10-21T05:11:03.331Z"
   },
   {
    "duration": 7,
    "start_time": "2021-10-21T05:11:07.552Z"
   },
   {
    "duration": 4486,
    "start_time": "2021-10-21T05:11:11.566Z"
   },
   {
    "duration": 7,
    "start_time": "2021-10-21T05:11:21.531Z"
   },
   {
    "duration": 6,
    "start_time": "2021-10-21T05:12:35.452Z"
   },
   {
    "duration": 6,
    "start_time": "2021-10-21T05:12:39.837Z"
   },
   {
    "duration": 188,
    "start_time": "2021-10-21T05:12:52.286Z"
   },
   {
    "duration": 190,
    "start_time": "2021-10-21T05:12:59.117Z"
   },
   {
    "duration": 7,
    "start_time": "2021-10-21T05:14:10.384Z"
   },
   {
    "duration": 9,
    "start_time": "2021-10-21T05:14:13.630Z"
   },
   {
    "duration": 9,
    "start_time": "2021-10-21T05:14:17.572Z"
   },
   {
    "duration": 7,
    "start_time": "2021-10-21T05:14:24.517Z"
   },
   {
    "duration": 8,
    "start_time": "2021-10-21T05:14:34.471Z"
   },
   {
    "duration": 9,
    "start_time": "2021-10-21T05:14:37.306Z"
   },
   {
    "duration": 10,
    "start_time": "2021-10-21T05:14:44.998Z"
   },
   {
    "duration": 10,
    "start_time": "2021-10-21T05:14:55.013Z"
   },
   {
    "duration": 10,
    "start_time": "2021-10-21T05:14:57.205Z"
   },
   {
    "duration": 7,
    "start_time": "2021-10-21T05:15:02.285Z"
   },
   {
    "duration": 6,
    "start_time": "2021-10-21T05:15:05.616Z"
   },
   {
    "duration": 224,
    "start_time": "2021-10-21T05:15:20.322Z"
   },
   {
    "duration": 219,
    "start_time": "2021-10-21T05:15:31.948Z"
   },
   {
    "duration": 9269,
    "start_time": "2021-10-21T05:15:37.693Z"
   },
   {
    "duration": 56,
    "start_time": "2021-10-21T05:18:24.319Z"
   },
   {
    "duration": 9260,
    "start_time": "2021-10-21T05:18:32.360Z"
   },
   {
    "duration": 181,
    "start_time": "2021-10-21T05:19:12.440Z"
   },
   {
    "duration": 7374,
    "start_time": "2021-10-21T05:19:22.720Z"
   },
   {
    "duration": 9152,
    "start_time": "2021-10-21T05:20:33.997Z"
   },
   {
    "duration": 7,
    "start_time": "2021-10-21T05:22:16.582Z"
   },
   {
    "duration": 8,
    "start_time": "2021-10-21T05:22:33.651Z"
   },
   {
    "duration": 8,
    "start_time": "2021-10-21T05:22:46.928Z"
   },
   {
    "duration": 7,
    "start_time": "2021-10-21T05:23:07.103Z"
   },
   {
    "duration": 9,
    "start_time": "2021-10-21T05:23:49.731Z"
   },
   {
    "duration": 1201,
    "start_time": "2021-10-21T05:24:16.288Z"
   },
   {
    "duration": 7,
    "start_time": "2021-10-21T05:24:22.226Z"
   },
   {
    "duration": 170,
    "start_time": "2021-10-21T05:24:27.960Z"
   },
   {
    "duration": 7,
    "start_time": "2021-10-21T05:24:32.795Z"
   },
   {
    "duration": 177,
    "start_time": "2021-10-21T05:24:46.221Z"
   },
   {
    "duration": 251,
    "start_time": "2021-10-21T05:24:55.045Z"
   },
   {
    "duration": 183,
    "start_time": "2021-10-21T05:25:00.712Z"
   },
   {
    "duration": 9,
    "start_time": "2021-10-21T05:25:07.683Z"
   },
   {
    "duration": 183,
    "start_time": "2021-10-21T05:26:41.807Z"
   },
   {
    "duration": 7,
    "start_time": "2021-10-21T05:30:24.453Z"
   },
   {
    "duration": 4,
    "start_time": "2021-10-21T05:30:41.829Z"
   },
   {
    "duration": 4,
    "start_time": "2021-10-21T05:30:50.531Z"
   },
   {
    "duration": 5,
    "start_time": "2021-10-21T05:31:13.739Z"
   },
   {
    "duration": 6,
    "start_time": "2021-10-21T05:31:28.384Z"
   },
   {
    "duration": 5692,
    "start_time": "2021-10-21T05:32:56.604Z"
   },
   {
    "duration": 56,
    "start_time": "2021-10-21T05:33:09.995Z"
   },
   {
    "duration": 11,
    "start_time": "2021-10-21T05:33:32.476Z"
   },
   {
    "duration": 12,
    "start_time": "2021-10-21T05:33:48.703Z"
   },
   {
    "duration": 5672,
    "start_time": "2021-10-21T05:34:56.754Z"
   },
   {
    "duration": 5790,
    "start_time": "2021-10-21T05:35:07.562Z"
   },
   {
    "duration": 5674,
    "start_time": "2021-10-21T05:35:26.472Z"
   },
   {
    "duration": 13,
    "start_time": "2021-10-21T05:35:51.788Z"
   },
   {
    "duration": 11,
    "start_time": "2021-10-21T05:36:15.677Z"
   },
   {
    "duration": 5697,
    "start_time": "2021-10-21T05:36:26.024Z"
   },
   {
    "duration": 168,
    "start_time": "2021-10-21T05:37:27.586Z"
   },
   {
    "duration": 17,
    "start_time": "2021-10-21T05:37:32.893Z"
   },
   {
    "duration": 34,
    "start_time": "2021-10-21T05:38:21.485Z"
   },
   {
    "duration": 45,
    "start_time": "2021-10-21T05:39:20.313Z"
   },
   {
    "duration": 67,
    "start_time": "2021-10-21T05:39:38.493Z"
   },
   {
    "duration": 42,
    "start_time": "2021-10-21T05:39:50.924Z"
   },
   {
    "duration": 44,
    "start_time": "2021-10-21T05:40:10.956Z"
   },
   {
    "duration": 28,
    "start_time": "2021-10-21T05:40:17.901Z"
   },
   {
    "duration": 9,
    "start_time": "2021-10-21T05:41:28.493Z"
   },
   {
    "duration": 56,
    "start_time": "2021-10-21T05:49:37.119Z"
   },
   {
    "duration": 18,
    "start_time": "2021-10-21T05:49:50.483Z"
   },
   {
    "duration": 17,
    "start_time": "2021-10-21T05:49:57.572Z"
   },
   {
    "duration": 18,
    "start_time": "2021-10-21T05:50:15.019Z"
   },
   {
    "duration": 29,
    "start_time": "2021-10-21T05:50:43.132Z"
   },
   {
    "duration": 25,
    "start_time": "2021-10-21T05:50:55.028Z"
   },
   {
    "duration": 30,
    "start_time": "2021-10-21T05:51:16.847Z"
   },
   {
    "duration": 30,
    "start_time": "2021-10-21T05:51:31.172Z"
   },
   {
    "duration": 5645,
    "start_time": "2021-10-21T05:52:38.388Z"
   },
   {
    "duration": 29,
    "start_time": "2021-10-21T05:52:48.983Z"
   },
   {
    "duration": 21,
    "start_time": "2021-10-21T06:01:13.451Z"
   },
   {
    "duration": 38,
    "start_time": "2021-10-21T06:01:21.235Z"
   },
   {
    "duration": 20,
    "start_time": "2021-10-21T06:01:27.171Z"
   },
   {
    "duration": 19,
    "start_time": "2021-10-21T06:01:32.756Z"
   },
   {
    "duration": 5,
    "start_time": "2021-10-21T06:04:21.875Z"
   },
   {
    "duration": 351,
    "start_time": "2021-10-21T06:05:07.149Z"
   },
   {
    "duration": 336,
    "start_time": "2021-10-21T06:05:45.307Z"
   },
   {
    "duration": 214,
    "start_time": "2021-10-21T06:06:37.307Z"
   },
   {
    "duration": 3,
    "start_time": "2021-10-21T06:06:45.749Z"
   },
   {
    "duration": 183,
    "start_time": "2021-10-21T06:06:53.913Z"
   },
   {
    "duration": 67,
    "start_time": "2021-10-21T06:07:50.010Z"
   },
   {
    "duration": 25850,
    "start_time": "2021-10-21T06:07:52.528Z"
   },
   {
    "duration": 172,
    "start_time": "2021-10-21T06:09:36.261Z"
   },
   {
    "duration": 191,
    "start_time": "2021-10-21T06:09:54.139Z"
   },
   {
    "duration": 3,
    "start_time": "2021-10-21T06:10:00.201Z"
   },
   {
    "duration": 179,
    "start_time": "2021-10-21T06:10:28.516Z"
   },
   {
    "duration": 2834,
    "start_time": "2021-10-21T06:11:13.080Z"
   },
   {
    "duration": 188,
    "start_time": "2021-10-21T06:11:23.114Z"
   },
   {
    "duration": 3,
    "start_time": "2021-10-21T06:11:33.648Z"
   },
   {
    "duration": 188,
    "start_time": "2021-10-21T06:11:39.025Z"
   },
   {
    "duration": 25561,
    "start_time": "2021-10-21T06:11:47.967Z"
   },
   {
    "duration": 175,
    "start_time": "2021-10-21T06:12:20.715Z"
   },
   {
    "duration": 1009,
    "start_time": "2021-10-21T06:12:31.204Z"
   },
   {
    "duration": 180,
    "start_time": "2021-10-21T06:12:32.215Z"
   },
   {
    "duration": 12,
    "start_time": "2021-10-21T06:12:32.397Z"
   },
   {
    "duration": 24,
    "start_time": "2021-10-21T06:12:32.411Z"
   },
   {
    "duration": 9,
    "start_time": "2021-10-21T06:12:32.437Z"
   },
   {
    "duration": 61,
    "start_time": "2021-10-21T06:12:32.448Z"
   },
   {
    "duration": 27,
    "start_time": "2021-10-21T06:12:32.510Z"
   },
   {
    "duration": 8,
    "start_time": "2021-10-21T06:12:32.538Z"
   },
   {
    "duration": 13,
    "start_time": "2021-10-21T06:12:32.549Z"
   },
   {
    "duration": 5703,
    "start_time": "2021-10-21T06:12:32.564Z"
   },
   {
    "duration": 30,
    "start_time": "2021-10-21T06:12:38.269Z"
   },
   {
    "duration": 20,
    "start_time": "2021-10-21T06:12:38.301Z"
   },
   {
    "duration": 4,
    "start_time": "2021-10-21T06:12:38.322Z"
   },
   {
    "duration": 354,
    "start_time": "2021-10-21T06:12:38.328Z"
   },
   {
    "duration": 495,
    "start_time": "2021-10-21T06:12:38.684Z"
   },
   {
    "duration": 326,
    "start_time": "2021-10-21T06:12:39.181Z"
   },
   {
    "duration": 395,
    "start_time": "2021-10-21T06:12:39.509Z"
   },
   {
    "duration": 260,
    "start_time": "2021-10-21T06:13:39.005Z"
   },
   {
    "duration": 190,
    "start_time": "2021-10-21T06:13:51.966Z"
   },
   {
    "duration": 183,
    "start_time": "2021-10-21T06:14:06.210Z"
   },
   {
    "duration": 185,
    "start_time": "2021-10-21T06:14:39.122Z"
   },
   {
    "duration": 336,
    "start_time": "2021-10-21T06:14:43.894Z"
   },
   {
    "duration": 397,
    "start_time": "2021-10-21T06:14:52.635Z"
   },
   {
    "duration": 274,
    "start_time": "2021-10-21T06:15:13.113Z"
   },
   {
    "duration": 379,
    "start_time": "2021-10-21T06:15:17.448Z"
   },
   {
    "duration": 368,
    "start_time": "2021-10-21T06:15:35.825Z"
   },
   {
    "duration": 428,
    "start_time": "2021-10-21T06:17:41.329Z"
   },
   {
    "duration": 365,
    "start_time": "2021-10-21T06:18:06.768Z"
   },
   {
    "duration": 360,
    "start_time": "2021-10-21T06:20:14.742Z"
   },
   {
    "duration": 352,
    "start_time": "2021-10-21T06:20:29.594Z"
   },
   {
    "duration": 425,
    "start_time": "2021-10-21T06:20:39.045Z"
   },
   {
    "duration": 461,
    "start_time": "2021-10-21T06:21:07.030Z"
   },
   {
    "duration": 452,
    "start_time": "2021-10-21T06:21:37.236Z"
   },
   {
    "duration": 685,
    "start_time": "2021-10-21T06:24:16.552Z"
   },
   {
    "duration": 635,
    "start_time": "2021-10-21T06:25:48.919Z"
   },
   {
    "duration": 473,
    "start_time": "2021-10-21T06:26:00.448Z"
   },
   {
    "duration": 758,
    "start_time": "2021-10-21T06:26:11.553Z"
   },
   {
    "duration": 477,
    "start_time": "2021-10-21T06:29:14.880Z"
   },
   {
    "duration": 495,
    "start_time": "2021-10-21T06:29:22.975Z"
   },
   {
    "duration": 414,
    "start_time": "2021-10-21T06:32:42.315Z"
   },
   {
    "duration": 431,
    "start_time": "2021-10-21T06:32:48.943Z"
   },
   {
    "duration": 1046,
    "start_time": "2021-10-21T06:33:10.162Z"
   },
   {
    "duration": 609,
    "start_time": "2021-10-21T06:33:16.421Z"
   },
   {
    "duration": 562,
    "start_time": "2021-10-21T06:34:07.916Z"
   },
   {
    "duration": 516,
    "start_time": "2021-10-21T06:34:16.332Z"
   },
   {
    "duration": 565,
    "start_time": "2021-10-21T06:34:24.513Z"
   },
   {
    "duration": 462,
    "start_time": "2021-10-21T06:34:30.456Z"
   },
   {
    "duration": 457,
    "start_time": "2021-10-21T06:34:36.519Z"
   },
   {
    "duration": 468,
    "start_time": "2021-10-21T06:34:40.172Z"
   },
   {
    "duration": 596,
    "start_time": "2021-10-21T06:34:43.267Z"
   },
   {
    "duration": 470,
    "start_time": "2021-10-21T06:34:49.123Z"
   },
   {
    "duration": 492,
    "start_time": "2021-10-21T06:34:53.977Z"
   },
   {
    "duration": 474,
    "start_time": "2021-10-21T06:34:57.177Z"
   },
   {
    "duration": 464,
    "start_time": "2021-10-21T06:34:59.119Z"
   },
   {
    "duration": 620,
    "start_time": "2021-10-21T06:35:06.048Z"
   },
   {
    "duration": 472,
    "start_time": "2021-10-21T06:35:13.634Z"
   },
   {
    "duration": 643,
    "start_time": "2021-10-21T06:36:18.448Z"
   },
   {
    "duration": 53,
    "start_time": "2021-10-21T06:36:34.750Z"
   },
   {
    "duration": 646,
    "start_time": "2021-10-21T06:36:40.724Z"
   },
   {
    "duration": 470,
    "start_time": "2021-10-21T06:36:46.616Z"
   },
   {
    "duration": 636,
    "start_time": "2021-10-21T06:37:37.724Z"
   },
   {
    "duration": 613,
    "start_time": "2021-10-21T06:37:56.790Z"
   },
   {
    "duration": 467,
    "start_time": "2021-10-21T06:38:07.365Z"
   },
   {
    "duration": 468,
    "start_time": "2021-10-21T06:38:13.671Z"
   },
   {
    "duration": 468,
    "start_time": "2021-10-21T06:38:22.071Z"
   },
   {
    "duration": 167,
    "start_time": "2021-10-21T06:38:28.720Z"
   },
   {
    "duration": 544,
    "start_time": "2021-10-21T06:38:57.731Z"
   },
   {
    "duration": 643,
    "start_time": "2021-10-21T06:39:56.444Z"
   },
   {
    "duration": 204,
    "start_time": "2021-10-21T06:42:06.643Z"
   },
   {
    "duration": 473,
    "start_time": "2021-10-21T06:42:19.542Z"
   },
   {
    "duration": 488,
    "start_time": "2021-10-21T06:42:26.420Z"
   },
   {
    "duration": 466,
    "start_time": "2021-10-21T06:42:44.539Z"
   },
   {
    "duration": 486,
    "start_time": "2021-10-21T06:42:53.600Z"
   },
   {
    "duration": 487,
    "start_time": "2021-10-21T06:43:01.212Z"
   },
   {
    "duration": 882,
    "start_time": "2021-10-21T06:43:53.647Z"
   },
   {
    "duration": 759,
    "start_time": "2021-10-21T06:44:02.424Z"
   },
   {
    "duration": 748,
    "start_time": "2021-10-21T06:44:11.759Z"
   },
   {
    "duration": 730,
    "start_time": "2021-10-21T06:44:31.500Z"
   },
   {
    "duration": 871,
    "start_time": "2021-10-21T06:44:34.633Z"
   },
   {
    "duration": 728,
    "start_time": "2021-10-21T06:44:45.763Z"
   },
   {
    "duration": 479,
    "start_time": "2021-10-21T06:44:55.855Z"
   },
   {
    "duration": 488,
    "start_time": "2021-10-21T06:45:06.981Z"
   },
   {
    "duration": 486,
    "start_time": "2021-10-21T06:45:12.226Z"
   },
   {
    "duration": 497,
    "start_time": "2021-10-21T06:46:17.109Z"
   },
   {
    "duration": 647,
    "start_time": "2021-10-21T06:46:25.454Z"
   },
   {
    "duration": 492,
    "start_time": "2021-10-21T06:46:39.543Z"
   },
   {
    "duration": 476,
    "start_time": "2021-10-21T06:47:00.924Z"
   },
   {
    "duration": 503,
    "start_time": "2021-10-21T06:47:14.531Z"
   },
   {
    "duration": 477,
    "start_time": "2021-10-21T06:47:33.677Z"
   },
   {
    "duration": 795,
    "start_time": "2021-10-21T06:48:15.498Z"
   },
   {
    "duration": 805,
    "start_time": "2021-10-21T06:49:13.013Z"
   },
   {
    "duration": 810,
    "start_time": "2021-10-21T06:49:20.774Z"
   },
   {
    "duration": 169,
    "start_time": "2021-10-21T06:50:02.833Z"
   },
   {
    "duration": 178,
    "start_time": "2021-10-21T06:50:12.707Z"
   },
   {
    "duration": 173,
    "start_time": "2021-10-21T06:50:17.424Z"
   },
   {
    "duration": 207,
    "start_time": "2021-10-21T06:51:40.278Z"
   },
   {
    "duration": 478,
    "start_time": "2021-10-21T06:51:51.979Z"
   },
   {
    "duration": 453,
    "start_time": "2021-10-21T06:52:19.476Z"
   },
   {
    "duration": 495,
    "start_time": "2021-10-21T06:52:30.850Z"
   },
   {
    "duration": 191,
    "start_time": "2021-10-21T07:05:07.819Z"
   },
   {
    "duration": 711,
    "start_time": "2021-10-21T07:05:14.038Z"
   },
   {
    "duration": 2619,
    "start_time": "2021-10-21T07:05:19.775Z"
   },
   {
    "duration": 980,
    "start_time": "2021-10-21T07:07:25.537Z"
   },
   {
    "duration": 295,
    "start_time": "2021-10-21T07:07:57.526Z"
   },
   {
    "duration": 698,
    "start_time": "2021-10-21T07:08:22.428Z"
   },
   {
    "duration": 1149,
    "start_time": "2021-10-21T07:08:32.450Z"
   },
   {
    "duration": 55,
    "start_time": "2021-10-21T07:09:14.090Z"
   },
   {
    "duration": 969,
    "start_time": "2021-10-21T07:09:17.524Z"
   },
   {
    "duration": 454,
    "start_time": "2021-10-21T07:09:33.683Z"
   },
   {
    "duration": 555,
    "start_time": "2021-10-21T07:10:27.145Z"
   },
   {
    "duration": 468,
    "start_time": "2021-10-21T07:10:40.270Z"
   },
   {
    "duration": 1017,
    "start_time": "2021-10-21T07:10:51.899Z"
   },
   {
    "duration": 492,
    "start_time": "2021-10-21T07:10:58.732Z"
   },
   {
    "duration": 174,
    "start_time": "2021-10-21T07:13:14.436Z"
   },
   {
    "duration": 981,
    "start_time": "2021-10-21T07:13:20.015Z"
   },
   {
    "duration": 440,
    "start_time": "2021-10-21T07:13:55.146Z"
   },
   {
    "duration": 487,
    "start_time": "2021-10-21T07:14:03.490Z"
   },
   {
    "duration": 455,
    "start_time": "2021-10-21T07:14:15.260Z"
   },
   {
    "duration": 518,
    "start_time": "2021-10-21T07:14:57.559Z"
   },
   {
    "duration": 729,
    "start_time": "2021-10-21T07:15:07.219Z"
   },
   {
    "duration": 483,
    "start_time": "2021-10-21T07:15:46.637Z"
   },
   {
    "duration": 491,
    "start_time": "2021-10-21T07:16:06.439Z"
   },
   {
    "duration": 472,
    "start_time": "2021-10-21T07:16:19.138Z"
   },
   {
    "duration": 671,
    "start_time": "2021-10-21T07:17:11.262Z"
   },
   {
    "duration": 494,
    "start_time": "2021-10-21T07:17:19.706Z"
   },
   {
    "duration": 141,
    "start_time": "2021-10-21T07:18:29.902Z"
   },
   {
    "duration": 466,
    "start_time": "2021-10-21T07:18:40.233Z"
   },
   {
    "duration": 487,
    "start_time": "2021-10-21T07:19:07.278Z"
   },
   {
    "duration": 135,
    "start_time": "2021-10-21T07:19:20.954Z"
   },
   {
    "duration": 720,
    "start_time": "2021-10-21T07:19:28.918Z"
   },
   {
    "duration": 506,
    "start_time": "2021-10-21T07:19:36.148Z"
   },
   {
    "duration": 477,
    "start_time": "2021-10-21T07:19:40.054Z"
   },
   {
    "duration": 134,
    "start_time": "2021-10-21T07:19:44.784Z"
   },
   {
    "duration": 505,
    "start_time": "2021-10-21T07:19:56.090Z"
   },
   {
    "duration": 484,
    "start_time": "2021-10-21T07:20:31.110Z"
   },
   {
    "duration": 490,
    "start_time": "2021-10-21T07:20:35.538Z"
   },
   {
    "duration": 483,
    "start_time": "2021-10-21T07:20:42.152Z"
   },
   {
    "duration": 499,
    "start_time": "2021-10-21T07:20:55.276Z"
   },
   {
    "duration": 768,
    "start_time": "2021-10-21T07:21:17.538Z"
   },
   {
    "duration": 502,
    "start_time": "2021-10-21T07:21:26.506Z"
   },
   {
    "duration": 482,
    "start_time": "2021-10-21T07:24:29.426Z"
   },
   {
    "duration": 4282,
    "start_time": "2021-10-21T07:25:27.842Z"
   },
   {
    "duration": 4692,
    "start_time": "2021-10-21T07:25:49.870Z"
   },
   {
    "duration": 821,
    "start_time": "2021-10-21T07:26:23.027Z"
   },
   {
    "duration": 577,
    "start_time": "2021-10-21T07:26:30.344Z"
   },
   {
    "duration": 465,
    "start_time": "2021-10-21T07:26:54.386Z"
   },
   {
    "duration": 390,
    "start_time": "2021-10-21T07:27:10.803Z"
   },
   {
    "duration": 200,
    "start_time": "2021-10-21T07:28:09.013Z"
   },
   {
    "duration": 253,
    "start_time": "2021-10-21T07:28:22.209Z"
   },
   {
    "duration": 257,
    "start_time": "2021-10-21T07:28:45.013Z"
   },
   {
    "duration": 245,
    "start_time": "2021-10-21T07:28:59.748Z"
   },
   {
    "duration": 492,
    "start_time": "2021-10-21T07:42:41.805Z"
   },
   {
    "duration": 476,
    "start_time": "2021-10-21T07:42:45.719Z"
   },
   {
    "duration": 884,
    "start_time": "2021-10-21T07:42:54.195Z"
   },
   {
    "duration": 660,
    "start_time": "2021-10-21T08:33:19.392Z"
   },
   {
    "duration": 677,
    "start_time": "2021-10-21T08:34:02.450Z"
   },
   {
    "duration": 603,
    "start_time": "2021-10-21T08:34:38.970Z"
   },
   {
    "duration": 648,
    "start_time": "2021-10-21T08:36:19.610Z"
   },
   {
    "duration": 597,
    "start_time": "2021-10-21T08:36:36.820Z"
   },
   {
    "duration": 612,
    "start_time": "2021-10-21T08:36:54.858Z"
   },
   {
    "duration": 613,
    "start_time": "2021-10-21T08:38:06.251Z"
   },
   {
    "duration": 1037,
    "start_time": "2021-10-21T08:38:14.494Z"
   },
   {
    "duration": 830,
    "start_time": "2021-10-21T08:38:24.609Z"
   },
   {
    "duration": 544,
    "start_time": "2021-10-21T08:40:02.634Z"
   },
   {
    "duration": 546,
    "start_time": "2021-10-21T08:40:23.019Z"
   },
   {
    "duration": 934,
    "start_time": "2021-10-21T08:42:09.874Z"
   },
   {
    "duration": 780,
    "start_time": "2021-10-21T08:42:18.576Z"
   },
   {
    "duration": 751,
    "start_time": "2021-10-21T08:42:31.793Z"
   },
   {
    "duration": 813,
    "start_time": "2021-10-21T08:42:42.888Z"
   },
   {
    "duration": 823,
    "start_time": "2021-10-21T08:43:49.483Z"
   },
   {
    "duration": 767,
    "start_time": "2021-10-21T08:44:05.427Z"
   },
   {
    "duration": 1056,
    "start_time": "2021-10-21T08:44:23.866Z"
   },
   {
    "duration": 755,
    "start_time": "2021-10-21T08:45:25.715Z"
   },
   {
    "duration": 743,
    "start_time": "2021-10-21T08:46:03.843Z"
   },
   {
    "duration": 672,
    "start_time": "2021-10-21T08:46:12.277Z"
   },
   {
    "duration": 692,
    "start_time": "2021-10-21T08:46:16.391Z"
   },
   {
    "duration": 689,
    "start_time": "2021-10-21T08:47:03.071Z"
   },
   {
    "duration": 697,
    "start_time": "2021-10-21T08:47:17.675Z"
   },
   {
    "duration": 689,
    "start_time": "2021-10-21T08:47:28.990Z"
   },
   {
    "duration": 960,
    "start_time": "2021-10-21T08:47:37.951Z"
   },
   {
    "duration": 673,
    "start_time": "2021-10-21T08:47:49.126Z"
   },
   {
    "duration": 708,
    "start_time": "2021-10-21T08:48:11.376Z"
   },
   {
    "duration": 706,
    "start_time": "2021-10-21T08:49:05.571Z"
   },
   {
    "duration": 667,
    "start_time": "2021-10-21T08:51:12.376Z"
   },
   {
    "duration": 691,
    "start_time": "2021-10-21T08:51:21.657Z"
   },
   {
    "duration": 63,
    "start_time": "2021-10-21T08:51:33.592Z"
   },
   {
    "duration": 704,
    "start_time": "2021-10-21T08:51:39.849Z"
   },
   {
    "duration": 701,
    "start_time": "2021-10-21T08:51:55.308Z"
   },
   {
    "duration": 705,
    "start_time": "2021-10-21T08:52:19.869Z"
   },
   {
    "duration": 1035,
    "start_time": "2021-10-21T08:53:50.407Z"
   },
   {
    "duration": 680,
    "start_time": "2021-10-21T08:53:58.194Z"
   },
   {
    "duration": 663,
    "start_time": "2021-10-21T08:54:08.691Z"
   },
   {
    "duration": 700,
    "start_time": "2021-10-21T08:54:14.494Z"
   },
   {
    "duration": 8,
    "start_time": "2021-10-21T08:57:58.643Z"
   },
   {
    "duration": 686,
    "start_time": "2021-10-21T08:59:33.708Z"
   },
   {
    "duration": 698,
    "start_time": "2021-10-21T09:00:26.675Z"
   },
   {
    "duration": 13,
    "start_time": "2021-10-21T09:00:46.186Z"
   },
   {
    "duration": 21,
    "start_time": "2021-10-21T09:00:53.004Z"
   },
   {
    "duration": 14,
    "start_time": "2021-10-21T09:01:50.021Z"
   },
   {
    "duration": 14,
    "start_time": "2021-10-21T09:01:53.507Z"
   },
   {
    "duration": 18,
    "start_time": "2021-10-21T09:02:06.500Z"
   },
   {
    "duration": 13,
    "start_time": "2021-10-21T09:02:12.431Z"
   },
   {
    "duration": 14,
    "start_time": "2021-10-21T09:02:15.215Z"
   },
   {
    "duration": 13,
    "start_time": "2021-10-21T09:02:24.276Z"
   },
   {
    "duration": 13,
    "start_time": "2021-10-21T09:02:28.643Z"
   },
   {
    "duration": 13,
    "start_time": "2021-10-21T09:02:32.173Z"
   },
   {
    "duration": 4400,
    "start_time": "2021-10-21T09:22:53.317Z"
   },
   {
    "duration": 172,
    "start_time": "2021-10-21T09:22:57.719Z"
   },
   {
    "duration": 12,
    "start_time": "2021-10-21T09:22:57.893Z"
   },
   {
    "duration": 23,
    "start_time": "2021-10-21T09:22:57.907Z"
   },
   {
    "duration": 10,
    "start_time": "2021-10-21T09:22:57.932Z"
   },
   {
    "duration": 54,
    "start_time": "2021-10-21T09:22:57.943Z"
   },
   {
    "duration": 27,
    "start_time": "2021-10-21T09:22:57.998Z"
   },
   {
    "duration": 9,
    "start_time": "2021-10-21T09:22:58.027Z"
   },
   {
    "duration": 10,
    "start_time": "2021-10-21T09:22:58.037Z"
   },
   {
    "duration": 5748,
    "start_time": "2021-10-21T09:22:58.048Z"
   },
   {
    "duration": 20,
    "start_time": "2021-10-21T09:23:03.797Z"
   },
   {
    "duration": 21,
    "start_time": "2021-10-21T09:23:03.818Z"
   },
   {
    "duration": 5,
    "start_time": "2021-10-21T09:23:13.839Z"
   },
   {
    "duration": 790,
    "start_time": "2021-10-21T09:23:14.162Z"
   },
   {
    "duration": 679,
    "start_time": "2021-10-21T09:23:14.954Z"
   },
   {
    "duration": 734,
    "start_time": "2021-10-21T09:23:16.014Z"
   },
   {
    "duration": 678,
    "start_time": "2021-10-21T09:23:17.460Z"
   },
   {
    "duration": 11,
    "start_time": "2021-10-21T09:23:18.250Z"
   },
   {
    "duration": 203,
    "start_time": "2021-10-21T12:00:23.573Z"
   },
   {
    "duration": 3773,
    "start_time": "2021-10-21T12:00:31.451Z"
   },
   {
    "duration": 171,
    "start_time": "2021-10-21T12:00:35.226Z"
   },
   {
    "duration": 12,
    "start_time": "2021-10-21T12:00:35.399Z"
   },
   {
    "duration": 24,
    "start_time": "2021-10-21T12:00:35.412Z"
   },
   {
    "duration": 8,
    "start_time": "2021-10-21T12:00:35.438Z"
   },
   {
    "duration": 48,
    "start_time": "2021-10-21T12:00:35.448Z"
   },
   {
    "duration": 25,
    "start_time": "2021-10-21T12:00:35.498Z"
   },
   {
    "duration": 9,
    "start_time": "2021-10-21T12:00:35.525Z"
   },
   {
    "duration": 15,
    "start_time": "2021-10-21T12:00:35.535Z"
   },
   {
    "duration": 5673,
    "start_time": "2021-10-21T12:00:35.552Z"
   },
   {
    "duration": 20,
    "start_time": "2021-10-21T12:00:41.227Z"
   },
   {
    "duration": 42,
    "start_time": "2021-10-21T12:00:41.249Z"
   },
   {
    "duration": 6,
    "start_time": "2021-10-21T12:00:41.293Z"
   },
   {
    "duration": 814,
    "start_time": "2021-10-21T12:00:41.301Z"
   },
   {
    "duration": 708,
    "start_time": "2021-10-21T12:00:42.117Z"
   },
   {
    "duration": 773,
    "start_time": "2021-10-21T12:00:42.827Z"
   },
   {
    "duration": 714,
    "start_time": "2021-10-21T12:00:43.602Z"
   },
   {
    "duration": 12,
    "start_time": "2021-10-21T12:00:44.318Z"
   },
   {
    "duration": 291,
    "start_time": "2021-10-21T12:04:44.419Z"
   },
   {
    "duration": 185,
    "start_time": "2021-10-21T12:06:53.152Z"
   },
   {
    "duration": 30,
    "start_time": "2021-10-21T12:07:37.431Z"
   },
   {
    "duration": 35,
    "start_time": "2021-10-21T12:08:38.215Z"
   },
   {
    "duration": 211,
    "start_time": "2021-10-21T12:09:00.741Z"
   },
   {
    "duration": 188,
    "start_time": "2021-10-21T12:10:24.236Z"
   },
   {
    "duration": 185,
    "start_time": "2021-10-21T12:10:42.123Z"
   },
   {
    "duration": 193,
    "start_time": "2021-10-21T12:10:45.636Z"
   },
   {
    "duration": 31,
    "start_time": "2021-10-21T12:11:28.004Z"
   },
   {
    "duration": 19,
    "start_time": "2021-10-21T12:11:48.604Z"
   },
   {
    "duration": 231,
    "start_time": "2021-10-21T12:12:03.108Z"
   },
   {
    "duration": 189,
    "start_time": "2021-10-21T12:14:29.762Z"
   },
   {
    "duration": 178,
    "start_time": "2021-10-21T12:14:38.183Z"
   },
   {
    "duration": 210,
    "start_time": "2021-10-21T12:15:46.982Z"
   },
   {
    "duration": 43,
    "start_time": "2021-10-21T12:16:51.158Z"
   },
   {
    "duration": 33,
    "start_time": "2021-10-21T12:17:02.535Z"
   },
   {
    "duration": 61,
    "start_time": "2021-10-21T12:18:44.508Z"
   },
   {
    "duration": 179,
    "start_time": "2021-10-21T12:18:57.090Z"
   },
   {
    "duration": 61,
    "start_time": "2021-10-21T12:19:57.035Z"
   },
   {
    "duration": 32,
    "start_time": "2021-10-21T12:20:12.618Z"
   },
   {
    "duration": 33,
    "start_time": "2021-10-21T12:20:21.435Z"
   },
   {
    "duration": 183,
    "start_time": "2021-10-21T12:20:26.041Z"
   },
   {
    "duration": 31,
    "start_time": "2021-10-21T12:20:30.267Z"
   },
   {
    "duration": 183,
    "start_time": "2021-10-21T12:20:59.161Z"
   },
   {
    "duration": 31,
    "start_time": "2021-10-21T12:21:02.242Z"
   },
   {
    "duration": 29,
    "start_time": "2021-10-21T12:21:15.426Z"
   },
   {
    "duration": 181,
    "start_time": "2021-10-21T12:21:20.880Z"
   },
   {
    "duration": 29,
    "start_time": "2021-10-21T12:21:24.729Z"
   },
   {
    "duration": 186,
    "start_time": "2021-10-21T12:22:10.305Z"
   },
   {
    "duration": 1243,
    "start_time": "2021-10-21T12:22:14.695Z"
   },
   {
    "duration": 1207,
    "start_time": "2021-10-21T12:22:25.489Z"
   },
   {
    "duration": 31,
    "start_time": "2021-10-21T12:23:26.190Z"
   },
   {
    "duration": 450,
    "start_time": "2021-10-21T12:24:45.310Z"
   },
   {
    "duration": 30,
    "start_time": "2021-10-21T12:25:30.436Z"
   },
   {
    "duration": 19,
    "start_time": "2021-10-21T12:25:39.621Z"
   },
   {
    "duration": 28,
    "start_time": "2021-10-21T12:26:00.404Z"
   },
   {
    "duration": 339,
    "start_time": "2021-10-21T12:26:07.075Z"
   },
   {
    "duration": 184,
    "start_time": "2021-10-21T12:26:18.691Z"
   },
   {
    "duration": 9,
    "start_time": "2021-10-21T12:27:51.585Z"
   },
   {
    "duration": 185,
    "start_time": "2021-10-21T12:27:57.714Z"
   },
   {
    "duration": 9,
    "start_time": "2021-10-21T12:28:01.081Z"
   },
   {
    "duration": 184,
    "start_time": "2021-10-21T12:28:13.968Z"
   },
   {
    "duration": 8,
    "start_time": "2021-10-21T12:28:19.505Z"
   },
   {
    "duration": 183,
    "start_time": "2021-10-21T12:28:50.121Z"
   },
   {
    "duration": 5,
    "start_time": "2021-10-21T12:28:55.505Z"
   },
   {
    "duration": 16,
    "start_time": "2021-10-21T12:29:08.928Z"
   },
   {
    "duration": 171,
    "start_time": "2021-10-21T12:29:39.225Z"
   },
   {
    "duration": 42,
    "start_time": "2021-10-21T12:29:46.023Z"
   },
   {
    "duration": 44,
    "start_time": "2021-10-21T12:29:55.048Z"
   },
   {
    "duration": 44,
    "start_time": "2021-10-21T12:30:13.600Z"
   },
   {
    "duration": 33,
    "start_time": "2021-10-21T12:30:19.224Z"
   },
   {
    "duration": 43,
    "start_time": "2021-10-21T12:30:43.399Z"
   },
   {
    "duration": 465,
    "start_time": "2021-10-21T12:30:57.472Z"
   },
   {
    "duration": 211,
    "start_time": "2021-10-21T12:31:20.430Z"
   },
   {
    "duration": 18,
    "start_time": "2021-10-21T12:33:26.701Z"
   },
   {
    "duration": 28,
    "start_time": "2021-10-21T12:33:32.333Z"
   },
   {
    "duration": 16,
    "start_time": "2021-10-21T12:33:39.277Z"
   },
   {
    "duration": 21,
    "start_time": "2021-10-21T12:33:43.932Z"
   },
   {
    "duration": 19,
    "start_time": "2021-10-21T12:33:49.300Z"
   },
   {
    "duration": 37,
    "start_time": "2021-10-21T12:34:07.278Z"
   },
   {
    "duration": 62,
    "start_time": "2021-10-21T12:34:45.452Z"
   },
   {
    "duration": 188,
    "start_time": "2021-10-21T12:36:34.641Z"
   },
   {
    "duration": 63,
    "start_time": "2021-10-21T12:36:40.010Z"
   },
   {
    "duration": 45,
    "start_time": "2021-10-21T12:36:42.776Z"
   },
   {
    "duration": 18,
    "start_time": "2021-10-21T12:37:03.184Z"
   },
   {
    "duration": 2391,
    "start_time": "2021-10-21T12:37:07.105Z"
   },
   {
    "duration": 3002,
    "start_time": "2021-10-21T12:37:40.015Z"
   },
   {
    "duration": 250,
    "start_time": "2021-10-21T12:37:43.019Z"
   },
   {
    "duration": 11,
    "start_time": "2021-10-21T12:37:43.271Z"
   },
   {
    "duration": 24,
    "start_time": "2021-10-21T12:37:43.284Z"
   },
   {
    "duration": 9,
    "start_time": "2021-10-21T12:37:43.309Z"
   },
   {
    "duration": 74,
    "start_time": "2021-10-21T12:37:43.320Z"
   },
   {
    "duration": 43,
    "start_time": "2021-10-21T12:37:43.396Z"
   },
   {
    "duration": 8,
    "start_time": "2021-10-21T12:37:43.442Z"
   },
   {
    "duration": 10,
    "start_time": "2021-10-21T12:37:43.452Z"
   },
   {
    "duration": 5785,
    "start_time": "2021-10-21T12:37:43.492Z"
   },
   {
    "duration": 25,
    "start_time": "2021-10-21T12:37:49.279Z"
   },
   {
    "duration": 2406,
    "start_time": "2021-10-21T12:37:49.305Z"
   },
   {
    "duration": 5,
    "start_time": "2021-10-21T12:37:51.713Z"
   },
   {
    "duration": 796,
    "start_time": "2021-10-21T12:37:51.719Z"
   },
   {
    "duration": 690,
    "start_time": "2021-10-21T12:37:52.516Z"
   },
   {
    "duration": 840,
    "start_time": "2021-10-21T12:37:53.208Z"
   },
   {
    "duration": 713,
    "start_time": "2021-10-21T12:37:54.050Z"
   },
   {
    "duration": 12,
    "start_time": "2021-10-21T12:37:54.765Z"
   },
   {
    "duration": 37,
    "start_time": "2021-10-21T12:38:27.821Z"
   },
   {
    "duration": 49,
    "start_time": "2021-10-21T12:38:41.218Z"
   },
   {
    "duration": 43,
    "start_time": "2021-10-21T12:39:16.874Z"
   },
   {
    "duration": 26,
    "start_time": "2021-10-21T12:39:24.603Z"
   },
   {
    "duration": 18,
    "start_time": "2021-10-21T12:40:08.416Z"
   },
   {
    "duration": 2264,
    "start_time": "2021-10-21T12:45:20.672Z"
   },
   {
    "duration": 4973,
    "start_time": "2021-10-21T12:47:33.713Z"
   },
   {
    "duration": 34,
    "start_time": "2021-10-21T12:48:13.697Z"
   },
   {
    "duration": 4709,
    "start_time": "2021-10-21T12:48:18.218Z"
   },
   {
    "duration": 9,
    "start_time": "2021-10-21T12:48:47.464Z"
   },
   {
    "duration": 10,
    "start_time": "2021-10-21T12:48:56.839Z"
   },
   {
    "duration": 254,
    "start_time": "2021-10-21T12:52:15.572Z"
   },
   {
    "duration": 2480,
    "start_time": "2021-10-21T12:52:33.828Z"
   },
   {
    "duration": 286,
    "start_time": "2021-10-21T12:52:43.164Z"
   },
   {
    "duration": 5,
    "start_time": "2021-10-21T12:53:48.210Z"
   },
   {
    "duration": 3,
    "start_time": "2021-10-21T12:55:20.064Z"
   },
   {
    "duration": 3,
    "start_time": "2021-10-21T12:55:26.216Z"
   },
   {
    "duration": 1205,
    "start_time": "2021-10-21T12:55:41.896Z"
   },
   {
    "duration": 177,
    "start_time": "2021-10-21T12:56:10.144Z"
   },
   {
    "duration": 228,
    "start_time": "2021-10-21T12:56:25.784Z"
   },
   {
    "duration": 3,
    "start_time": "2021-10-21T12:56:54.647Z"
   },
   {
    "duration": 183,
    "start_time": "2021-10-21T12:57:05.520Z"
   },
   {
    "duration": 3,
    "start_time": "2021-10-21T12:57:09.542Z"
   },
   {
    "duration": 171,
    "start_time": "2021-10-21T12:57:12.223Z"
   },
   {
    "duration": 3,
    "start_time": "2021-10-21T12:57:25.031Z"
   },
   {
    "duration": 5,
    "start_time": "2021-10-21T12:57:32.126Z"
   },
   {
    "duration": 219,
    "start_time": "2021-10-21T12:57:43.199Z"
   },
   {
    "duration": 3,
    "start_time": "2021-10-21T12:58:40.445Z"
   },
   {
    "duration": 1203,
    "start_time": "2021-10-21T12:58:47.606Z"
   },
   {
    "duration": 3,
    "start_time": "2021-10-21T12:59:08.573Z"
   },
   {
    "duration": 9,
    "start_time": "2021-10-21T12:59:13.317Z"
   },
   {
    "duration": 95,
    "start_time": "2021-10-21T12:59:20.598Z"
   },
   {
    "duration": 63,
    "start_time": "2021-10-21T13:00:36.028Z"
   },
   {
    "duration": 51,
    "start_time": "2021-10-21T13:01:56.634Z"
   },
   {
    "duration": 2083,
    "start_time": "2021-10-21T13:03:45.688Z"
   },
   {
    "duration": 187,
    "start_time": "2021-10-21T13:04:02.208Z"
   },
   {
    "duration": 2065,
    "start_time": "2021-10-21T13:04:52.215Z"
   },
   {
    "duration": 188,
    "start_time": "2021-10-21T13:05:23.774Z"
   },
   {
    "duration": 82,
    "start_time": "2021-10-21T13:05:55.966Z"
   },
   {
    "duration": 101,
    "start_time": "2021-10-21T13:05:59.997Z"
   },
   {
    "duration": 125,
    "start_time": "2021-10-21T13:06:04.261Z"
   },
   {
    "duration": 86,
    "start_time": "2021-10-21T13:06:07.045Z"
   },
   {
    "duration": 137,
    "start_time": "2021-10-21T13:06:10.310Z"
   },
   {
    "duration": 117,
    "start_time": "2021-10-21T13:06:14.877Z"
   },
   {
    "duration": 228,
    "start_time": "2021-10-21T13:06:18.541Z"
   },
   {
    "duration": 122,
    "start_time": "2021-10-21T13:06:20.877Z"
   },
   {
    "duration": 100,
    "start_time": "2021-10-21T13:06:23.749Z"
   },
   {
    "duration": 19,
    "start_time": "2021-10-21T13:06:45.077Z"
   },
   {
    "duration": 20,
    "start_time": "2021-10-21T13:06:54.941Z"
   },
   {
    "duration": 20,
    "start_time": "2021-10-21T13:06:59.173Z"
   },
   {
    "duration": 29,
    "start_time": "2021-10-21T13:07:06.236Z"
   },
   {
    "duration": 20,
    "start_time": "2021-10-21T13:07:09.164Z"
   },
   {
    "duration": 27,
    "start_time": "2021-10-21T13:07:11.605Z"
   },
   {
    "duration": 20,
    "start_time": "2021-10-21T13:07:18.324Z"
   },
   {
    "duration": 22,
    "start_time": "2021-10-21T13:07:24.284Z"
   },
   {
    "duration": 20,
    "start_time": "2021-10-21T13:07:29.508Z"
   },
   {
    "duration": 92,
    "start_time": "2021-10-21T13:07:33.099Z"
   },
   {
    "duration": 893,
    "start_time": "2021-10-21T13:07:49.452Z"
   },
   {
    "duration": 2083,
    "start_time": "2021-10-21T13:08:37.075Z"
   },
   {
    "duration": 797,
    "start_time": "2021-10-21T13:09:16.683Z"
   },
   {
    "duration": 751,
    "start_time": "2021-10-21T13:09:22.106Z"
   },
   {
    "duration": 1223,
    "start_time": "2021-10-21T13:09:30.738Z"
   },
   {
    "duration": 2587,
    "start_time": "2021-10-21T13:09:35.187Z"
   },
   {
    "duration": 2623,
    "start_time": "2021-10-21T13:09:43.322Z"
   },
   {
    "duration": 2562,
    "start_time": "2021-10-21T13:09:51.211Z"
   },
   {
    "duration": 1282,
    "start_time": "2021-10-21T13:09:57.970Z"
   },
   {
    "duration": 1185,
    "start_time": "2021-10-21T13:10:03.953Z"
   },
   {
    "duration": 930,
    "start_time": "2021-10-21T13:10:08.235Z"
   },
   {
    "duration": 866,
    "start_time": "2021-10-21T13:10:12.809Z"
   },
   {
    "duration": 1013,
    "start_time": "2021-10-21T13:10:16.544Z"
   },
   {
    "duration": 862,
    "start_time": "2021-10-21T13:10:20.496Z"
   },
   {
    "duration": 1124,
    "start_time": "2021-10-21T13:10:24.129Z"
   },
   {
    "duration": 1138,
    "start_time": "2021-10-21T13:10:29.417Z"
   },
   {
    "duration": 1011,
    "start_time": "2021-10-21T13:10:34.032Z"
   },
   {
    "duration": 1278,
    "start_time": "2021-10-21T13:10:41.808Z"
   },
   {
    "duration": 1267,
    "start_time": "2021-10-21T13:10:51.582Z"
   },
   {
    "duration": 2222,
    "start_time": "2021-10-21T13:10:57.552Z"
   },
   {
    "duration": 134,
    "start_time": "2021-10-21T13:16:22.243Z"
   },
   {
    "duration": 97,
    "start_time": "2021-10-21T13:16:25.474Z"
   },
   {
    "duration": 2119,
    "start_time": "2021-10-21T13:16:47.867Z"
   },
   {
    "duration": 9598,
    "start_time": "2021-10-21T13:19:45.712Z"
   },
   {
    "duration": 9285,
    "start_time": "2021-10-21T13:20:08.838Z"
   },
   {
    "duration": 168,
    "start_time": "2021-10-21T13:21:44.086Z"
   },
   {
    "duration": 3724,
    "start_time": "2021-10-21T13:22:05.133Z"
   },
   {
    "duration": 9242,
    "start_time": "2021-10-21T13:23:42.067Z"
   },
   {
    "duration": 68,
    "start_time": "2021-10-21T13:26:35.657Z"
   },
   {
    "duration": 81,
    "start_time": "2021-10-21T13:26:46.529Z"
   },
   {
    "duration": 171,
    "start_time": "2021-10-21T13:26:53.511Z"
   },
   {
    "duration": 400,
    "start_time": "2021-10-21T13:27:53.967Z"
   },
   {
    "duration": 167,
    "start_time": "2021-10-21T13:28:17.926Z"
   },
   {
    "duration": 2871349,
    "start_time": "2021-10-21T13:29:53.318Z"
   },
   {
    "duration": 3,
    "start_time": "2021-10-21T14:19:27.156Z"
   },
   {
    "duration": 34380,
    "start_time": "2021-10-21T14:20:43.711Z"
   },
   {
    "duration": 152990,
    "start_time": "2021-10-21T14:22:17.383Z"
   },
   {
    "duration": 2038,
    "start_time": "2021-10-21T14:24:50.374Z"
   },
   {
    "duration": 521844,
    "start_time": "2021-10-21T14:25:22.398Z"
   },
   {
    "duration": 202,
    "start_time": "2021-10-21T14:50:25.088Z"
   },
   {
    "duration": 171,
    "start_time": "2021-10-21T14:50:34.016Z"
   },
   {
    "duration": 2142,
    "start_time": "2021-10-21T14:50:42.848Z"
   },
   {
    "duration": 174,
    "start_time": "2021-10-21T14:50:47.296Z"
   },
   {
    "duration": 44111,
    "start_time": "2021-10-21T15:07:50.240Z"
   },
   {
    "duration": 42986,
    "start_time": "2021-10-21T15:09:08.614Z"
   },
   {
    "duration": 2790,
    "start_time": "2021-10-21T15:10:23.395Z"
   },
   {
    "duration": 492052,
    "start_time": "2021-10-21T15:11:19.419Z"
   },
   {
    "duration": 1485169,
    "start_time": "2021-10-21T15:27:33.034Z"
   },
   {
    "duration": 69866,
    "start_time": "2021-10-21T15:58:10.145Z"
   },
   {
    "duration": 30,
    "start_time": "2021-10-21T16:00:34.587Z"
   },
   {
    "duration": 31,
    "start_time": "2021-10-21T16:00:48.371Z"
   },
   {
    "duration": 350872,
    "start_time": "2021-10-21T16:01:51.582Z"
   },
   {
    "duration": 171809,
    "start_time": "2021-10-21T16:12:24.167Z"
   },
   {
    "duration": 1434558,
    "start_time": "2021-10-21T16:16:15.119Z"
   },
   {
    "duration": 2339,
    "start_time": "2021-10-21T16:51:04.288Z"
   },
   {
    "duration": 2087,
    "start_time": "2021-10-21T16:51:12.371Z"
   },
   {
    "duration": 6807,
    "start_time": "2021-10-21T16:51:18.530Z"
   },
   {
    "duration": 6627,
    "start_time": "2021-10-21T16:51:30.747Z"
   },
   {
    "duration": 15815,
    "start_time": "2021-10-21T16:51:46.161Z"
   },
   {
    "duration": 15401,
    "start_time": "2021-10-21T16:52:06.597Z"
   },
   {
    "duration": 178,
    "start_time": "2021-10-21T16:53:01.925Z"
   },
   {
    "duration": 2174,
    "start_time": "2021-10-21T16:53:09.334Z"
   },
   {
    "duration": 857,
    "start_time": "2021-10-21T16:53:21.500Z"
   },
   {
    "duration": 828,
    "start_time": "2021-10-21T16:53:33.768Z"
   },
   {
    "duration": 805,
    "start_time": "2021-10-21T16:53:42.964Z"
   },
   {
    "duration": 898,
    "start_time": "2021-10-21T16:53:46.836Z"
   },
   {
    "duration": 616,
    "start_time": "2021-10-21T16:53:50.381Z"
   },
   {
    "duration": 710,
    "start_time": "2021-10-21T16:53:53.685Z"
   },
   {
    "duration": 855,
    "start_time": "2021-10-21T16:53:57.184Z"
   },
   {
    "duration": 961,
    "start_time": "2021-10-21T16:54:00.813Z"
   },
   {
    "duration": 1075,
    "start_time": "2021-10-21T16:54:04.760Z"
   },
   {
    "duration": 1159,
    "start_time": "2021-10-21T16:54:10.497Z"
   },
   {
    "duration": 1061,
    "start_time": "2021-10-21T16:54:14.258Z"
   },
   {
    "duration": 1047,
    "start_time": "2021-10-21T16:54:17.847Z"
   },
   {
    "duration": 997,
    "start_time": "2021-10-21T16:54:21.018Z"
   },
   {
    "duration": 2118,
    "start_time": "2021-10-21T16:54:25.730Z"
   },
   {
    "duration": 1057,
    "start_time": "2021-10-21T16:54:32.917Z"
   },
   {
    "duration": 1000,
    "start_time": "2021-10-21T16:54:37.056Z"
   },
   {
    "duration": 1068,
    "start_time": "2021-10-21T16:54:40.546Z"
   },
   {
    "duration": 1190,
    "start_time": "2021-10-21T16:54:45.151Z"
   },
   {
    "duration": 1331,
    "start_time": "2021-10-21T16:54:49.263Z"
   },
   {
    "duration": 1390,
    "start_time": "2021-10-21T16:54:53.748Z"
   },
   {
    "duration": 1335,
    "start_time": "2021-10-21T16:54:59.645Z"
   },
   {
    "duration": 1325,
    "start_time": "2021-10-21T16:55:06.397Z"
   },
   {
    "duration": 1325,
    "start_time": "2021-10-21T16:55:10.725Z"
   },
   {
    "duration": 1333,
    "start_time": "2021-10-21T16:55:15.020Z"
   },
   {
    "duration": 1326,
    "start_time": "2021-10-21T16:55:20.450Z"
   },
   {
    "duration": 1370,
    "start_time": "2021-10-21T16:55:24.613Z"
   },
   {
    "duration": 1371,
    "start_time": "2021-10-21T16:55:28.279Z"
   },
   {
    "duration": 1349,
    "start_time": "2021-10-21T16:55:32.314Z"
   },
   {
    "duration": 1330,
    "start_time": "2021-10-21T16:55:36.727Z"
   },
   {
    "duration": 2710,
    "start_time": "2021-10-21T16:55:42.382Z"
   },
   {
    "duration": 4162,
    "start_time": "2021-10-21T16:55:47.894Z"
   },
   {
    "duration": 1330,
    "start_time": "2021-10-21T16:55:55.157Z"
   },
   {
    "duration": 1338,
    "start_time": "2021-10-21T16:55:59.295Z"
   },
   {
    "duration": 1325,
    "start_time": "2021-10-21T16:56:07.610Z"
   },
   {
    "duration": 1320,
    "start_time": "2021-10-21T16:56:12.075Z"
   },
   {
    "duration": 1274,
    "start_time": "2021-10-21T16:56:15.762Z"
   },
   {
    "duration": 1388,
    "start_time": "2021-10-21T16:56:19.893Z"
   },
   {
    "duration": 1331,
    "start_time": "2021-10-21T16:56:24.445Z"
   },
   {
    "duration": 6726,
    "start_time": "2021-10-21T16:56:37.889Z"
   },
   {
    "duration": 8252,
    "start_time": "2021-10-21T16:56:47.446Z"
   },
   {
    "duration": 9807,
    "start_time": "2021-10-21T16:56:58.271Z"
   },
   {
    "duration": 12734,
    "start_time": "2021-10-21T16:57:11.376Z"
   },
   {
    "duration": 16046,
    "start_time": "2021-10-21T16:57:27.336Z"
   },
   {
    "duration": 21934,
    "start_time": "2021-10-21T16:57:46.402Z"
   },
   {
    "duration": 33028,
    "start_time": "2021-10-21T16:58:12.198Z"
   },
   {
    "duration": 51230,
    "start_time": "2021-10-21T16:58:49.032Z"
   },
   {
    "duration": 16520,
    "start_time": "2021-10-21T16:59:43.684Z"
   },
   {
    "duration": 12732,
    "start_time": "2021-10-21T17:00:03.558Z"
   },
   {
    "duration": 51829,
    "start_time": "2021-10-21T17:00:33.708Z"
   },
   {
    "duration": 30644,
    "start_time": "2021-10-21T17:02:41.782Z"
   },
   {
    "duration": 9888,
    "start_time": "2021-10-21T17:03:24.987Z"
   },
   {
    "duration": 1316,
    "start_time": "2021-10-21T17:04:37.382Z"
   },
   {
    "duration": 1291,
    "start_time": "2021-10-21T17:04:43.845Z"
   },
   {
    "duration": 1336,
    "start_time": "2021-10-21T17:04:47.239Z"
   },
   {
    "duration": 1286,
    "start_time": "2021-10-21T17:04:50.758Z"
   },
   {
    "duration": 1293,
    "start_time": "2021-10-21T17:04:54.273Z"
   },
   {
    "duration": 1284,
    "start_time": "2021-10-21T17:04:58.459Z"
   },
   {
    "duration": 1328,
    "start_time": "2021-10-21T17:05:03.292Z"
   },
   {
    "duration": 1310,
    "start_time": "2021-10-21T17:05:06.776Z"
   },
   {
    "duration": 1289,
    "start_time": "2021-10-21T17:05:11.086Z"
   },
   {
    "duration": 1300,
    "start_time": "2021-10-21T17:05:14.303Z"
   },
   {
    "duration": 1303,
    "start_time": "2021-10-21T17:05:17.852Z"
   },
   {
    "duration": 1289,
    "start_time": "2021-10-21T17:05:20.530Z"
   },
   {
    "duration": 1387,
    "start_time": "2021-10-21T17:05:24.233Z"
   },
   {
    "duration": 1400,
    "start_time": "2021-10-21T17:05:28.736Z"
   },
   {
    "duration": 1294,
    "start_time": "2021-10-21T17:05:32.588Z"
   },
   {
    "duration": 1305,
    "start_time": "2021-10-21T17:05:36.267Z"
   },
   {
    "duration": 1289,
    "start_time": "2021-10-21T17:05:39.994Z"
   },
   {
    "duration": 1305,
    "start_time": "2021-10-21T17:05:44.134Z"
   },
   {
    "duration": 1299,
    "start_time": "2021-10-21T17:05:47.843Z"
   },
   {
    "duration": 1299,
    "start_time": "2021-10-21T17:05:52.470Z"
   },
   {
    "duration": 1324,
    "start_time": "2021-10-21T17:05:56.993Z"
   },
   {
    "duration": 1332,
    "start_time": "2021-10-21T17:06:01.468Z"
   },
   {
    "duration": 1318,
    "start_time": "2021-10-21T17:06:06.622Z"
   },
   {
    "duration": 1313,
    "start_time": "2021-10-21T17:06:09.641Z"
   },
   {
    "duration": 1313,
    "start_time": "2021-10-21T17:06:13.327Z"
   },
   {
    "duration": 1334,
    "start_time": "2021-10-21T17:06:16.821Z"
   },
   {
    "duration": 1383,
    "start_time": "2021-10-21T17:06:20.401Z"
   },
   {
    "duration": 1372,
    "start_time": "2021-10-21T17:06:23.962Z"
   },
   {
    "duration": 1363,
    "start_time": "2021-10-21T17:06:27.246Z"
   },
   {
    "duration": 1325,
    "start_time": "2021-10-21T17:06:31.199Z"
   },
   {
    "duration": 1323,
    "start_time": "2021-10-21T17:06:35.676Z"
   },
   {
    "duration": 1330,
    "start_time": "2021-10-21T17:06:39.699Z"
   },
   {
    "duration": 1317,
    "start_time": "2021-10-21T17:06:43.349Z"
   },
   {
    "duration": 1404,
    "start_time": "2021-10-21T17:06:47.773Z"
   },
   {
    "duration": 1331,
    "start_time": "2021-10-21T17:06:51.716Z"
   },
   {
    "duration": 1334,
    "start_time": "2021-10-21T17:06:56.771Z"
   },
   {
    "duration": 1094,
    "start_time": "2021-10-21T17:07:22.768Z"
   },
   {
    "duration": 1224,
    "start_time": "2021-10-21T17:07:26.338Z"
   },
   {
    "duration": 1282,
    "start_time": "2021-10-21T17:07:30.847Z"
   },
   {
    "duration": 1371,
    "start_time": "2021-10-21T17:07:35.652Z"
   },
   {
    "duration": 1384,
    "start_time": "2021-10-21T17:07:40.812Z"
   },
   {
    "duration": 1457,
    "start_time": "2021-10-21T17:07:44.263Z"
   },
   {
    "duration": 1519,
    "start_time": "2021-10-21T17:07:48.363Z"
   },
   {
    "duration": 1589,
    "start_time": "2021-10-21T17:07:53.970Z"
   },
   {
    "duration": 1318,
    "start_time": "2021-10-21T17:08:18.302Z"
   },
   {
    "duration": 1340,
    "start_time": "2021-10-21T17:08:22.302Z"
   },
   {
    "duration": 1374,
    "start_time": "2021-10-21T17:08:26.103Z"
   },
   {
    "duration": 1317,
    "start_time": "2021-10-21T17:08:29.738Z"
   },
   {
    "duration": 1342,
    "start_time": "2021-10-21T17:09:00.637Z"
   },
   {
    "duration": 1312,
    "start_time": "2021-10-21T17:09:03.738Z"
   },
   {
    "duration": 1327,
    "start_time": "2021-10-21T17:09:07.664Z"
   },
   {
    "duration": 1329,
    "start_time": "2021-10-21T17:09:11.177Z"
   },
   {
    "duration": 2046,
    "start_time": "2021-10-21T17:09:23.966Z"
   },
   {
    "duration": 696,
    "start_time": "2021-10-21T17:09:28.526Z"
   },
   {
    "duration": 997,
    "start_time": "2021-10-21T17:09:32.544Z"
   },
   {
    "duration": 1313,
    "start_time": "2021-10-21T17:09:35.874Z"
   },
   {
    "duration": 1654,
    "start_time": "2021-10-21T17:09:39.806Z"
   },
   {
    "duration": 2030,
    "start_time": "2021-10-21T17:09:43.577Z"
   },
   {
    "duration": 2497,
    "start_time": "2021-10-21T17:09:47.750Z"
   },
   {
    "duration": 2799,
    "start_time": "2021-10-21T17:09:52.689Z"
   },
   {
    "duration": 4254,
    "start_time": "2021-10-21T17:09:58.411Z"
   },
   {
    "duration": 8270,
    "start_time": "2021-10-21T17:10:05.875Z"
   },
   {
    "duration": 1315,
    "start_time": "2021-10-21T17:10:17.205Z"
   },
   {
    "duration": 1311,
    "start_time": "2021-10-21T17:12:04.865Z"
   },
   {
    "duration": 1292,
    "start_time": "2021-10-21T17:12:09.936Z"
   },
   {
    "duration": 1301,
    "start_time": "2021-10-21T17:12:13.770Z"
   },
   {
    "duration": 1287,
    "start_time": "2021-10-21T17:12:17.481Z"
   },
   {
    "duration": 1436,
    "start_time": "2021-10-21T17:12:21.081Z"
   },
   {
    "duration": 1376,
    "start_time": "2021-10-21T17:12:26.405Z"
   },
   {
    "duration": 1292,
    "start_time": "2021-10-21T17:12:30.388Z"
   },
   {
    "duration": 1316,
    "start_time": "2021-10-21T17:12:34.179Z"
   },
   {
    "duration": 1311,
    "start_time": "2021-10-21T17:12:37.925Z"
   },
   {
    "duration": 1305,
    "start_time": "2021-10-21T17:12:41.642Z"
   },
   {
    "duration": 1353,
    "start_time": "2021-10-21T17:12:45.181Z"
   },
   {
    "duration": 1336,
    "start_time": "2021-10-21T17:12:49.176Z"
   },
   {
    "duration": 1300,
    "start_time": "2021-10-21T17:12:54.088Z"
   },
   {
    "duration": 1515,
    "start_time": "2021-10-21T17:12:58.488Z"
   },
   {
    "duration": 1325,
    "start_time": "2021-10-21T17:13:04.217Z"
   },
   {
    "duration": 1343,
    "start_time": "2021-10-21T17:13:07.083Z"
   },
   {
    "duration": 1307,
    "start_time": "2021-10-21T17:13:11.143Z"
   },
   {
    "duration": 1308,
    "start_time": "2021-10-21T17:13:17.076Z"
   },
   {
    "duration": 1311,
    "start_time": "2021-10-21T17:13:38.897Z"
   },
   {
    "duration": 1301,
    "start_time": "2021-10-21T17:14:11.372Z"
   },
   {
    "duration": 1272,
    "start_time": "2021-10-21T17:14:15.001Z"
   },
   {
    "duration": 5573,
    "start_time": "2021-10-21T17:14:19.934Z"
   },
   {
    "duration": 1306,
    "start_time": "2021-10-21T17:14:30.195Z"
   },
   {
    "duration": 1349,
    "start_time": "2021-10-21T17:14:39.688Z"
   },
   {
    "duration": 1333,
    "start_time": "2021-10-21T17:14:44.265Z"
   },
   {
    "duration": 1286,
    "start_time": "2021-10-21T17:14:48.320Z"
   },
   {
    "duration": 1301,
    "start_time": "2021-10-21T17:14:52.045Z"
   },
   {
    "duration": 6125,
    "start_time": "2021-10-24T08:01:25.299Z"
   },
   {
    "duration": 195,
    "start_time": "2021-10-24T08:01:31.426Z"
   },
   {
    "duration": 17,
    "start_time": "2021-10-24T08:01:31.627Z"
   },
   {
    "duration": 39,
    "start_time": "2021-10-24T08:01:31.646Z"
   },
   {
    "duration": 37,
    "start_time": "2021-10-24T08:01:31.687Z"
   },
   {
    "duration": 118,
    "start_time": "2021-10-24T08:01:31.726Z"
   },
   {
    "duration": 84,
    "start_time": "2021-10-24T08:01:31.847Z"
   },
   {
    "duration": 14,
    "start_time": "2021-10-24T08:01:31.934Z"
   },
   {
    "duration": 23,
    "start_time": "2021-10-24T08:01:31.950Z"
   },
   {
    "duration": 10670,
    "start_time": "2021-10-24T08:01:31.975Z"
   },
   {
    "duration": 28,
    "start_time": "2021-10-24T08:01:42.648Z"
   },
   {
    "duration": 3696,
    "start_time": "2021-10-24T08:01:42.679Z"
   },
   {
    "duration": 7,
    "start_time": "2021-10-24T08:01:46.377Z"
   },
   {
    "duration": 1330,
    "start_time": "2021-10-24T08:01:46.387Z"
   },
   {
    "duration": 1353,
    "start_time": "2021-10-24T08:01:47.723Z"
   },
   {
    "duration": 1143,
    "start_time": "2021-10-24T08:01:49.079Z"
   },
   {
    "duration": 1117,
    "start_time": "2021-10-24T08:01:50.224Z"
   },
   {
    "duration": 18,
    "start_time": "2021-10-24T08:01:51.344Z"
   },
   {
    "duration": 11,
    "start_time": "2021-10-24T08:01:51.364Z"
   },
   {
    "duration": 26,
    "start_time": "2021-10-24T08:01:51.377Z"
   },
   {
    "duration": 63,
    "start_time": "2021-10-24T08:01:51.405Z"
   },
   {
    "duration": 252,
    "start_time": "2021-10-24T08:01:51.472Z"
   },
   {
    "duration": 12640,
    "start_time": "2021-10-24T08:01:51.727Z"
   },
   {
    "duration": 2105,
    "start_time": "2021-10-24T08:02:04.369Z"
   },
   {
    "duration": 11116,
    "start_time": "2021-10-24T08:02:06.476Z"
   },
   {
    "duration": 4947,
    "start_time": "2021-10-24T08:03:31.736Z"
   },
   {
    "duration": 197,
    "start_time": "2021-10-24T08:03:36.686Z"
   },
   {
    "duration": 17,
    "start_time": "2021-10-24T08:03:36.885Z"
   },
   {
    "duration": 39,
    "start_time": "2021-10-24T08:03:36.905Z"
   },
   {
    "duration": 17,
    "start_time": "2021-10-24T08:03:36.948Z"
   },
   {
    "duration": 128,
    "start_time": "2021-10-24T08:03:36.968Z"
   },
   {
    "duration": 81,
    "start_time": "2021-10-24T08:03:37.098Z"
   },
   {
    "duration": 38,
    "start_time": "2021-10-24T08:03:37.184Z"
   },
   {
    "duration": 21,
    "start_time": "2021-10-24T08:03:37.227Z"
   },
   {
    "duration": 10840,
    "start_time": "2021-10-24T08:03:37.251Z"
   },
   {
    "duration": 43,
    "start_time": "2021-10-24T08:03:48.094Z"
   },
   {
    "duration": 3868,
    "start_time": "2021-10-24T08:03:48.139Z"
   },
   {
    "duration": 16,
    "start_time": "2021-10-24T08:03:52.009Z"
   },
   {
    "duration": 1301,
    "start_time": "2021-10-24T08:03:52.027Z"
   },
   {
    "duration": 1166,
    "start_time": "2021-10-24T08:03:53.331Z"
   },
   {
    "duration": 1109,
    "start_time": "2021-10-24T08:03:54.500Z"
   },
   {
    "duration": 1122,
    "start_time": "2021-10-24T08:03:55.611Z"
   },
   {
    "duration": 19,
    "start_time": "2021-10-24T08:03:56.735Z"
   },
   {
    "duration": 5,
    "start_time": "2021-10-24T08:03:56.756Z"
   },
   {
    "duration": 13,
    "start_time": "2021-10-24T08:03:56.763Z"
   },
   {
    "duration": 90,
    "start_time": "2021-10-24T08:03:56.779Z"
   },
   {
    "duration": 155,
    "start_time": "2021-10-24T08:03:56.871Z"
   },
   {
    "duration": 13620,
    "start_time": "2021-10-24T08:03:57.122Z"
   },
   {
    "duration": 2180,
    "start_time": "2021-10-24T08:04:10.744Z"
   },
   {
    "duration": 10873,
    "start_time": "2021-10-24T08:04:12.927Z"
   },
   {
    "duration": 4914,
    "start_time": "2021-10-24T08:05:48.358Z"
   },
   {
    "duration": 203,
    "start_time": "2021-10-24T08:05:53.275Z"
   },
   {
    "duration": 17,
    "start_time": "2021-10-24T08:05:53.481Z"
   },
   {
    "duration": 44,
    "start_time": "2021-10-24T08:05:53.501Z"
   },
   {
    "duration": 17,
    "start_time": "2021-10-24T08:05:53.548Z"
   },
   {
    "duration": 115,
    "start_time": "2021-10-24T08:05:53.567Z"
   },
   {
    "duration": 89,
    "start_time": "2021-10-24T08:05:53.684Z"
   },
   {
    "duration": 13,
    "start_time": "2021-10-24T08:05:53.776Z"
   },
   {
    "duration": 43,
    "start_time": "2021-10-24T08:05:53.793Z"
   },
   {
    "duration": 10862,
    "start_time": "2021-10-24T08:05:53.839Z"
   },
   {
    "duration": 35,
    "start_time": "2021-10-24T08:06:04.704Z"
   },
   {
    "duration": 3819,
    "start_time": "2021-10-24T08:06:04.742Z"
   },
   {
    "duration": 7,
    "start_time": "2021-10-24T08:06:08.564Z"
   },
   {
    "duration": 1302,
    "start_time": "2021-10-24T08:06:08.574Z"
   },
   {
    "duration": 1201,
    "start_time": "2021-10-24T08:06:09.879Z"
   },
   {
    "duration": 1109,
    "start_time": "2021-10-24T08:06:11.083Z"
   },
   {
    "duration": 1377,
    "start_time": "2021-10-24T08:06:12.194Z"
   },
   {
    "duration": 20,
    "start_time": "2021-10-24T08:06:13.573Z"
   },
   {
    "duration": 4,
    "start_time": "2021-10-24T08:06:13.595Z"
   },
   {
    "duration": 12,
    "start_time": "2021-10-24T08:06:13.623Z"
   },
   {
    "duration": 51,
    "start_time": "2021-10-24T08:06:13.637Z"
   },
   {
    "duration": 236,
    "start_time": "2021-10-24T08:06:13.690Z"
   },
   {
    "duration": 14697,
    "start_time": "2021-10-24T08:06:13.930Z"
   },
   {
    "duration": 2270,
    "start_time": "2021-10-24T08:06:28.629Z"
   },
   {
    "duration": 11471,
    "start_time": "2021-10-24T08:06:30.901Z"
   },
   {
    "duration": 5009,
    "start_time": "2021-10-24T08:07:10.776Z"
   },
   {
    "duration": 199,
    "start_time": "2021-10-24T08:07:15.788Z"
   },
   {
    "duration": 16,
    "start_time": "2021-10-24T08:07:15.990Z"
   },
   {
    "duration": 38,
    "start_time": "2021-10-24T08:07:16.009Z"
   },
   {
    "duration": 17,
    "start_time": "2021-10-24T08:07:16.049Z"
   },
   {
    "duration": 121,
    "start_time": "2021-10-24T08:07:16.068Z"
   },
   {
    "duration": 83,
    "start_time": "2021-10-24T08:07:16.192Z"
   },
   {
    "duration": 13,
    "start_time": "2021-10-24T08:07:16.278Z"
   },
   {
    "duration": 44,
    "start_time": "2021-10-24T08:07:16.294Z"
   },
   {
    "duration": 10545,
    "start_time": "2021-10-24T08:07:16.341Z"
   },
   {
    "duration": 43,
    "start_time": "2021-10-24T08:07:26.888Z"
   },
   {
    "duration": 3849,
    "start_time": "2021-10-24T08:07:26.934Z"
   },
   {
    "duration": 7,
    "start_time": "2021-10-24T08:07:30.786Z"
   },
   {
    "duration": 1319,
    "start_time": "2021-10-24T08:07:30.796Z"
   },
   {
    "duration": 1254,
    "start_time": "2021-10-24T08:07:32.121Z"
   },
   {
    "duration": 1089,
    "start_time": "2021-10-24T08:07:33.378Z"
   },
   {
    "duration": 1097,
    "start_time": "2021-10-24T08:07:34.469Z"
   },
   {
    "duration": 19,
    "start_time": "2021-10-24T08:07:35.569Z"
   },
   {
    "duration": 5,
    "start_time": "2021-10-24T08:07:35.590Z"
   },
   {
    "duration": 33,
    "start_time": "2021-10-24T08:07:35.597Z"
   },
   {
    "duration": 51,
    "start_time": "2021-10-24T08:07:35.632Z"
   },
   {
    "duration": 241,
    "start_time": "2021-10-24T08:07:35.685Z"
   },
   {
    "duration": 13980,
    "start_time": "2021-10-24T08:07:36.022Z"
   },
   {
    "duration": 2209,
    "start_time": "2021-10-24T08:07:50.005Z"
   },
   {
    "duration": 13147,
    "start_time": "2021-10-24T08:07:52.216Z"
   },
   {
    "duration": 2192,
    "start_time": "2021-10-24T08:08:20.105Z"
   },
   {
    "duration": 2209,
    "start_time": "2021-10-24T08:08:26.278Z"
   },
   {
    "duration": 2195,
    "start_time": "2021-10-24T08:08:30.493Z"
   },
   {
    "duration": 2170,
    "start_time": "2021-10-24T08:08:35.982Z"
   },
   {
    "duration": 2188,
    "start_time": "2021-10-24T08:08:40.150Z"
   },
   {
    "duration": 2287,
    "start_time": "2021-10-24T08:08:46.954Z"
   },
   {
    "duration": 2235,
    "start_time": "2021-10-24T08:08:53.057Z"
   },
   {
    "duration": 3142,
    "start_time": "2021-10-24T08:08:58.919Z"
   },
   {
    "duration": 3147,
    "start_time": "2021-10-24T08:09:05.465Z"
   },
   {
    "duration": 3168,
    "start_time": "2021-10-24T08:09:12.240Z"
   },
   {
    "duration": 3021,
    "start_time": "2021-10-24T08:09:18.850Z"
   },
   {
    "duration": 3224,
    "start_time": "2021-10-24T08:09:24.965Z"
   },
   {
    "duration": 3168,
    "start_time": "2021-10-24T08:09:30.156Z"
   },
   {
    "duration": 3147,
    "start_time": "2021-10-24T08:09:35.297Z"
   },
   {
    "duration": 3111,
    "start_time": "2021-10-24T08:09:40.545Z"
   },
   {
    "duration": 6262,
    "start_time": "2021-10-24T08:09:45.268Z"
   },
   {
    "duration": 2684,
    "start_time": "2021-10-24T08:09:56.158Z"
   },
   {
    "duration": 2496,
    "start_time": "2021-10-24T08:10:01.678Z"
   },
   {
    "duration": 2117,
    "start_time": "2021-10-24T08:10:06.525Z"
   },
   {
    "duration": 2307,
    "start_time": "2021-10-24T08:10:12.269Z"
   },
   {
    "duration": 2418,
    "start_time": "2021-10-24T08:10:17.706Z"
   },
   {
    "duration": 2461,
    "start_time": "2021-10-24T08:10:23.617Z"
   },
   {
    "duration": 2456,
    "start_time": "2021-10-24T08:10:28.150Z"
   },
   {
    "duration": 1656,
    "start_time": "2021-10-24T08:10:33.630Z"
   },
   {
    "duration": 1521,
    "start_time": "2021-10-24T08:10:37.105Z"
   },
   {
    "duration": 2121,
    "start_time": "2021-10-24T08:10:41.511Z"
   },
   {
    "duration": 2010,
    "start_time": "2021-10-24T08:10:46.433Z"
   },
   {
    "duration": 1866,
    "start_time": "2021-10-24T08:10:52.182Z"
   },
   {
    "duration": 2180,
    "start_time": "2021-10-24T08:10:57.844Z"
   },
   {
    "duration": 2181,
    "start_time": "2021-10-24T08:11:03.409Z"
   },
   {
    "duration": 2162,
    "start_time": "2021-10-24T08:11:08.039Z"
   },
   {
    "duration": 1495,
    "start_time": "2021-10-24T08:11:12.296Z"
   },
   {
    "duration": 1513,
    "start_time": "2021-10-24T08:11:15.766Z"
   },
   {
    "duration": 1594,
    "start_time": "2021-10-24T08:11:19.744Z"
   },
   {
    "duration": 1497,
    "start_time": "2021-10-24T08:11:23.592Z"
   },
   {
    "duration": 1556,
    "start_time": "2021-10-24T08:11:27.432Z"
   },
   {
    "duration": 1494,
    "start_time": "2021-10-24T08:11:31.263Z"
   },
   {
    "duration": 1496,
    "start_time": "2021-10-24T08:11:35.182Z"
   },
   {
    "duration": 1508,
    "start_time": "2021-10-24T08:11:38.411Z"
   },
   {
    "duration": 1582,
    "start_time": "2021-10-24T08:11:41.973Z"
   },
   {
    "duration": 1511,
    "start_time": "2021-10-24T08:11:45.612Z"
   },
   {
    "duration": 1540,
    "start_time": "2021-10-24T08:11:49.165Z"
   },
   {
    "duration": 1501,
    "start_time": "2021-10-24T08:11:52.622Z"
   },
   {
    "duration": 1520,
    "start_time": "2021-10-24T08:11:55.943Z"
   },
   {
    "duration": 1500,
    "start_time": "2021-10-24T08:12:00.422Z"
   },
   {
    "duration": 1605,
    "start_time": "2021-10-24T08:12:04.191Z"
   },
   {
    "duration": 1537,
    "start_time": "2021-10-24T08:12:08.260Z"
   },
   {
    "duration": 1483,
    "start_time": "2021-10-24T08:12:11.697Z"
   },
   {
    "duration": 1495,
    "start_time": "2021-10-24T08:12:15.361Z"
   },
   {
    "duration": 1483,
    "start_time": "2021-10-24T08:12:19.005Z"
   },
   {
    "duration": 1502,
    "start_time": "2021-10-24T08:12:23.255Z"
   },
   {
    "duration": 1565,
    "start_time": "2021-10-24T08:12:27.460Z"
   },
   {
    "duration": 1592,
    "start_time": "2021-10-24T08:12:31.385Z"
   },
   {
    "duration": 1491,
    "start_time": "2021-10-24T08:12:35.398Z"
   },
   {
    "duration": 2189,
    "start_time": "2021-10-24T08:12:39.909Z"
   },
   {
    "duration": 2233,
    "start_time": "2021-10-24T08:12:46.851Z"
   },
   {
    "duration": 2148,
    "start_time": "2021-10-24T08:12:51.405Z"
   },
   {
    "duration": 2173,
    "start_time": "2021-10-24T08:12:55.888Z"
   },
   {
    "duration": 2141,
    "start_time": "2021-10-24T08:13:00.886Z"
   },
   {
    "duration": 1485,
    "start_time": "2021-10-24T08:13:07.403Z"
   },
   {
    "duration": 1476,
    "start_time": "2021-10-24T08:13:19.558Z"
   },
   {
    "duration": 1494,
    "start_time": "2021-10-24T08:13:25.369Z"
   },
   {
    "duration": 1496,
    "start_time": "2021-10-24T08:13:29.422Z"
   },
   {
    "duration": 1562,
    "start_time": "2021-10-24T08:13:34.999Z"
   },
   {
    "duration": 1530,
    "start_time": "2021-10-24T08:13:38.736Z"
   },
   {
    "duration": 1487,
    "start_time": "2021-10-24T08:13:42.274Z"
   },
   {
    "duration": 1495,
    "start_time": "2021-10-24T08:13:46.932Z"
   },
   {
    "duration": 1487,
    "start_time": "2021-10-24T08:13:50.754Z"
   },
   {
    "duration": 1454,
    "start_time": "2021-10-24T08:13:55.302Z"
   },
   {
    "duration": 1492,
    "start_time": "2021-10-24T08:13:59.841Z"
   },
   {
    "duration": 1602,
    "start_time": "2021-10-24T08:14:05.632Z"
   },
   {
    "duration": 1653,
    "start_time": "2021-10-24T08:14:10.914Z"
   },
   {
    "duration": 1522,
    "start_time": "2021-10-24T08:14:15.595Z"
   },
   {
    "duration": 1447,
    "start_time": "2021-10-24T08:14:20.781Z"
   },
   {
    "duration": 1437,
    "start_time": "2021-10-24T08:14:24.798Z"
   },
   {
    "duration": 2073,
    "start_time": "2021-10-24T08:14:28.880Z"
   },
   {
    "duration": 1999,
    "start_time": "2021-10-24T08:14:33.816Z"
   },
   {
    "duration": 1593,
    "start_time": "2021-10-24T08:14:40.718Z"
   },
   {
    "duration": 1473,
    "start_time": "2021-10-24T08:15:18.711Z"
   },
   {
    "duration": 1479,
    "start_time": "2021-10-24T08:15:31.183Z"
   },
   {
    "duration": 1488,
    "start_time": "2021-10-24T08:15:37.338Z"
   },
   {
    "duration": 1488,
    "start_time": "2021-10-24T08:15:41.593Z"
   },
   {
    "duration": 1484,
    "start_time": "2021-10-24T08:15:45.945Z"
   },
   {
    "duration": 2184,
    "start_time": "2021-10-24T08:15:49.965Z"
   },
   {
    "duration": 2162,
    "start_time": "2021-10-24T08:15:55.160Z"
   },
   {
    "duration": 5392,
    "start_time": "2021-10-24T08:16:35.820Z"
   },
   {
    "duration": 207,
    "start_time": "2021-10-24T08:16:41.215Z"
   },
   {
    "duration": 18,
    "start_time": "2021-10-24T08:16:41.425Z"
   },
   {
    "duration": 45,
    "start_time": "2021-10-24T08:16:41.446Z"
   },
   {
    "duration": 37,
    "start_time": "2021-10-24T08:16:41.493Z"
   },
   {
    "duration": 110,
    "start_time": "2021-10-24T08:16:41.532Z"
   },
   {
    "duration": 95,
    "start_time": "2021-10-24T08:16:41.644Z"
   },
   {
    "duration": 13,
    "start_time": "2021-10-24T08:16:41.743Z"
   },
   {
    "duration": 26,
    "start_time": "2021-10-24T08:16:41.759Z"
   },
   {
    "duration": 11028,
    "start_time": "2021-10-24T08:16:41.788Z"
   },
   {
    "duration": 28,
    "start_time": "2021-10-24T08:16:52.823Z"
   },
   {
    "duration": 3881,
    "start_time": "2021-10-24T08:16:52.854Z"
   },
   {
    "duration": 7,
    "start_time": "2021-10-24T08:16:56.737Z"
   },
   {
    "duration": 1293,
    "start_time": "2021-10-24T08:16:56.746Z"
   },
   {
    "duration": 1153,
    "start_time": "2021-10-24T08:16:58.041Z"
   },
   {
    "duration": 1097,
    "start_time": "2021-10-24T08:16:59.197Z"
   },
   {
    "duration": 1133,
    "start_time": "2021-10-24T08:17:00.297Z"
   },
   {
    "duration": 18,
    "start_time": "2021-10-24T08:17:01.432Z"
   },
   {
    "duration": 25,
    "start_time": "2021-10-24T08:17:01.452Z"
   },
   {
    "duration": 29,
    "start_time": "2021-10-24T08:17:01.479Z"
   },
   {
    "duration": 63,
    "start_time": "2021-10-24T08:17:01.510Z"
   },
   {
    "duration": 150,
    "start_time": "2021-10-24T08:17:01.576Z"
   },
   {
    "duration": 13915,
    "start_time": "2021-10-24T08:17:01.733Z"
   },
   {
    "duration": 1618,
    "start_time": "2021-10-24T08:17:15.650Z"
   },
   {
    "duration": 12473,
    "start_time": "2021-10-24T08:17:17.270Z"
   },
   {
    "duration": 2198,
    "start_time": "2021-10-24T08:19:47.728Z"
   },
   {
    "duration": 2175,
    "start_time": "2021-10-24T08:19:52.552Z"
   },
   {
    "duration": 1461,
    "start_time": "2021-10-24T08:19:56.032Z"
   },
   {
    "duration": 1475,
    "start_time": "2021-10-24T08:19:59.541Z"
   },
   {
    "duration": 1481,
    "start_time": "2021-10-24T08:20:04.690Z"
   },
   {
    "duration": 1474,
    "start_time": "2021-10-24T08:20:08.173Z"
   },
   {
    "duration": 1477,
    "start_time": "2021-10-24T08:20:12.432Z"
   },
   {
    "duration": 1470,
    "start_time": "2021-10-24T08:20:16.222Z"
   },
   {
    "duration": 1484,
    "start_time": "2021-10-24T08:20:20.540Z"
   },
   {
    "duration": 1629,
    "start_time": "2021-10-24T08:20:24.846Z"
   },
   {
    "duration": 1704,
    "start_time": "2021-10-24T08:20:29.148Z"
   },
   {
    "duration": 1811,
    "start_time": "2021-10-24T08:20:33.794Z"
   },
   {
    "duration": 2819,
    "start_time": "2021-10-24T08:20:40.049Z"
   },
   {
    "duration": 12062,
    "start_time": "2021-10-24T08:21:08.257Z"
   },
   {
    "duration": 20769,
    "start_time": "2021-10-24T08:21:26.342Z"
   },
   {
    "duration": 41629,
    "start_time": "2021-10-24T08:21:50.516Z"
   },
   {
    "duration": 16685,
    "start_time": "2021-10-24T08:22:39.631Z"
   },
   {
    "duration": 8497,
    "start_time": "2021-10-24T08:24:22.318Z"
   },
   {
    "duration": 9119,
    "start_time": "2021-10-24T08:24:33.534Z"
   },
   {
    "duration": 15863,
    "start_time": "2021-10-24T08:24:51.263Z"
   },
   {
    "duration": 603,
    "start_time": "2021-10-24T08:25:08.812Z"
   },
   {
    "duration": 12754,
    "start_time": "2021-10-24T08:25:22.434Z"
   },
   {
    "duration": 16261,
    "start_time": "2021-10-24T08:25:43.549Z"
   },
   {
    "duration": 16054,
    "start_time": "2021-10-24T08:26:02.778Z"
   },
   {
    "duration": 16401,
    "start_time": "2021-10-24T08:26:21.709Z"
   },
   {
    "duration": 16159,
    "start_time": "2021-10-24T08:26:39.952Z"
   },
   {
    "duration": 16528,
    "start_time": "2021-10-24T08:27:04.169Z"
   },
   {
    "duration": 17702,
    "start_time": "2021-10-24T08:27:23.710Z"
   },
   {
    "duration": 16237,
    "start_time": "2021-10-24T08:27:47.614Z"
   },
   {
    "duration": 16924,
    "start_time": "2021-10-24T08:28:06.290Z"
   },
   {
    "duration": 17707,
    "start_time": "2021-10-24T08:28:25.987Z"
   },
   {
    "duration": 17680,
    "start_time": "2021-10-24T08:28:51.525Z"
   },
   {
    "duration": 16894,
    "start_time": "2021-10-24T08:29:12.112Z"
   },
   {
    "duration": 16307,
    "start_time": "2021-10-24T08:29:31.981Z"
   },
   {
    "duration": 16826,
    "start_time": "2021-10-24T08:29:51.792Z"
   },
   {
    "duration": 16395,
    "start_time": "2021-10-24T08:30:11.006Z"
   },
   {
    "duration": 17290,
    "start_time": "2021-10-24T08:30:32.326Z"
   },
   {
    "duration": 17434,
    "start_time": "2021-10-24T08:30:55.140Z"
   },
   {
    "duration": 16988,
    "start_time": "2021-10-24T08:31:16.106Z"
   },
   {
    "duration": 13602,
    "start_time": "2021-10-24T08:31:37.708Z"
   },
   {
    "duration": 11610,
    "start_time": "2021-10-24T08:32:30.348Z"
   },
   {
    "duration": 21447,
    "start_time": "2021-10-24T08:32:44.248Z"
   },
   {
    "duration": 17076,
    "start_time": "2021-10-24T08:33:08.589Z"
   },
   {
    "duration": 17288,
    "start_time": "2021-10-24T08:33:28.361Z"
   },
   {
    "duration": 16869,
    "start_time": "2021-10-24T08:33:48.845Z"
   },
   {
    "duration": 18207,
    "start_time": "2021-10-24T08:34:11.936Z"
   },
   {
    "duration": 18005,
    "start_time": "2021-10-24T08:34:34.737Z"
   },
   {
    "duration": 17938,
    "start_time": "2021-10-24T08:34:55.480Z"
   },
   {
    "duration": 17771,
    "start_time": "2021-10-24T08:35:17.177Z"
   },
   {
    "duration": 17468,
    "start_time": "2021-10-24T08:35:43.269Z"
   },
   {
    "duration": 17053,
    "start_time": "2021-10-24T08:36:04.344Z"
   },
   {
    "duration": 17681,
    "start_time": "2021-10-24T08:36:27.215Z"
   },
   {
    "duration": 16236,
    "start_time": "2021-10-24T08:36:53.541Z"
   },
   {
    "duration": 18769,
    "start_time": "2021-10-24T08:37:15.118Z"
   },
   {
    "duration": 13630,
    "start_time": "2021-10-24T08:37:40.652Z"
   },
   {
    "duration": 12237,
    "start_time": "2021-10-24T08:37:57.858Z"
   },
   {
    "duration": 10965,
    "start_time": "2021-10-24T08:38:13.956Z"
   },
   {
    "duration": 11901,
    "start_time": "2021-10-24T08:38:28.377Z"
   },
   {
    "duration": 13095,
    "start_time": "2021-10-24T08:38:46.706Z"
   },
   {
    "duration": 12392,
    "start_time": "2021-10-24T08:39:05.491Z"
   },
   {
    "duration": 13340,
    "start_time": "2021-10-24T08:39:21.767Z"
   },
   {
    "duration": 1989,
    "start_time": "2021-10-24T08:41:19.633Z"
   },
   {
    "duration": 55,
    "start_time": "2021-10-24T08:41:23.962Z"
   },
   {
    "duration": 260,
    "start_time": "2021-10-24T08:44:26.318Z"
   },
   {
    "duration": 15401,
    "start_time": "2021-10-24T08:44:54.354Z"
   },
   {
    "duration": 5198,
    "start_time": "2021-10-24T08:45:28.825Z"
   },
   {
    "duration": 201,
    "start_time": "2021-10-24T08:45:34.026Z"
   },
   {
    "duration": 20,
    "start_time": "2021-10-24T08:45:34.230Z"
   },
   {
    "duration": 40,
    "start_time": "2021-10-24T08:45:34.254Z"
   },
   {
    "duration": 39,
    "start_time": "2021-10-24T08:45:34.297Z"
   },
   {
    "duration": 128,
    "start_time": "2021-10-24T08:45:34.339Z"
   },
   {
    "duration": 91,
    "start_time": "2021-10-24T08:45:34.469Z"
   },
   {
    "duration": 15,
    "start_time": "2021-10-24T08:45:34.564Z"
   },
   {
    "duration": 54,
    "start_time": "2021-10-24T08:45:34.582Z"
   },
   {
    "duration": 10998,
    "start_time": "2021-10-24T08:45:34.638Z"
   },
   {
    "duration": 32,
    "start_time": "2021-10-24T08:45:45.639Z"
   },
   {
    "duration": 3969,
    "start_time": "2021-10-24T08:45:45.673Z"
   },
   {
    "duration": 8,
    "start_time": "2021-10-24T08:45:49.645Z"
   },
   {
    "duration": 1331,
    "start_time": "2021-10-24T08:45:49.655Z"
   },
   {
    "duration": 1222,
    "start_time": "2021-10-24T08:45:50.989Z"
   },
   {
    "duration": 1113,
    "start_time": "2021-10-24T08:45:52.213Z"
   },
   {
    "duration": 1146,
    "start_time": "2021-10-24T08:45:53.330Z"
   },
   {
    "duration": 20,
    "start_time": "2021-10-24T08:45:54.478Z"
   },
   {
    "duration": 25,
    "start_time": "2021-10-24T08:45:54.500Z"
   },
   {
    "duration": 14,
    "start_time": "2021-10-24T08:45:54.528Z"
   },
   {
    "duration": 51,
    "start_time": "2021-10-24T08:45:54.545Z"
   },
   {
    "duration": 202,
    "start_time": "2021-10-24T08:45:54.623Z"
   },
   {
    "duration": 14682,
    "start_time": "2021-10-24T08:45:54.832Z"
   },
   {
    "duration": 1993,
    "start_time": "2021-10-24T08:46:09.517Z"
   },
   {
    "duration": 13685,
    "start_time": "2021-10-24T08:46:11.513Z"
   },
   {
    "duration": -2145,
    "start_time": "2021-10-24T08:46:27.346Z"
   },
   {
    "duration": 5609,
    "start_time": "2021-10-24T08:47:03.898Z"
   },
   {
    "duration": 211,
    "start_time": "2021-10-24T08:47:09.510Z"
   },
   {
    "duration": 21,
    "start_time": "2021-10-24T08:47:09.724Z"
   },
   {
    "duration": 49,
    "start_time": "2021-10-24T08:47:09.748Z"
   },
   {
    "duration": 30,
    "start_time": "2021-10-24T08:47:09.799Z"
   },
   {
    "duration": 126,
    "start_time": "2021-10-24T08:47:09.832Z"
   },
   {
    "duration": 101,
    "start_time": "2021-10-24T08:47:09.962Z"
   },
   {
    "duration": 14,
    "start_time": "2021-10-24T08:47:10.069Z"
   },
   {
    "duration": 46,
    "start_time": "2021-10-24T08:47:10.088Z"
   },
   {
    "duration": 11093,
    "start_time": "2021-10-24T08:47:10.137Z"
   },
   {
    "duration": 32,
    "start_time": "2021-10-24T08:47:21.232Z"
   },
   {
    "duration": 4351,
    "start_time": "2021-10-24T08:47:21.266Z"
   },
   {
    "duration": 8,
    "start_time": "2021-10-24T08:47:25.622Z"
   },
   {
    "duration": 1381,
    "start_time": "2021-10-24T08:47:25.632Z"
   },
   {
    "duration": 1238,
    "start_time": "2021-10-24T08:47:27.022Z"
   },
   {
    "duration": 1146,
    "start_time": "2021-10-24T08:47:28.263Z"
   },
   {
    "duration": 1237,
    "start_time": "2021-10-24T08:47:29.412Z"
   },
   {
    "duration": 22,
    "start_time": "2021-10-24T08:47:30.652Z"
   },
   {
    "duration": 13,
    "start_time": "2021-10-24T08:47:30.677Z"
   },
   {
    "duration": 38,
    "start_time": "2021-10-24T08:47:30.692Z"
   },
   {
    "duration": 64,
    "start_time": "2021-10-24T08:47:30.733Z"
   },
   {
    "duration": 227,
    "start_time": "2021-10-24T08:47:30.800Z"
   },
   {
    "duration": 15169,
    "start_time": "2021-10-24T08:47:31.033Z"
   },
   {
    "duration": 2029,
    "start_time": "2021-10-24T08:47:46.204Z"
   },
   {
    "duration": 13859,
    "start_time": "2021-10-24T08:47:48.236Z"
   },
   {
    "duration": -2155,
    "start_time": "2021-10-24T08:48:04.253Z"
   },
   {
    "duration": 14398,
    "start_time": "2021-10-24T08:48:52.656Z"
   },
   {
    "duration": 87,
    "start_time": "2021-10-24T08:51:39.534Z"
   },
   {
    "duration": 524545,
    "start_time": "2021-10-24T08:51:44.492Z"
   },
   {
    "duration": 5315,
    "start_time": "2021-10-24T09:01:13.375Z"
   },
   {
    "duration": 207,
    "start_time": "2021-10-24T09:01:18.693Z"
   },
   {
    "duration": 18,
    "start_time": "2021-10-24T09:01:18.903Z"
   },
   {
    "duration": 40,
    "start_time": "2021-10-24T09:01:18.924Z"
   },
   {
    "duration": 16,
    "start_time": "2021-10-24T09:01:18.967Z"
   },
   {
    "duration": 137,
    "start_time": "2021-10-24T09:01:18.985Z"
   },
   {
    "duration": 102,
    "start_time": "2021-10-24T09:01:19.124Z"
   },
   {
    "duration": 21,
    "start_time": "2021-10-24T09:01:19.232Z"
   },
   {
    "duration": 19,
    "start_time": "2021-10-24T09:01:19.258Z"
   },
   {
    "duration": 11425,
    "start_time": "2021-10-24T09:01:19.279Z"
   },
   {
    "duration": 42,
    "start_time": "2021-10-24T09:01:30.707Z"
   },
   {
    "duration": 4205,
    "start_time": "2021-10-24T09:01:30.751Z"
   },
   {
    "duration": 8,
    "start_time": "2021-10-24T09:01:34.959Z"
   },
   {
    "duration": 1469,
    "start_time": "2021-10-24T09:01:34.969Z"
   },
   {
    "duration": 1304,
    "start_time": "2021-10-24T09:01:36.441Z"
   },
   {
    "duration": 1316,
    "start_time": "2021-10-24T09:01:37.748Z"
   },
   {
    "duration": 1223,
    "start_time": "2021-10-24T09:01:39.067Z"
   },
   {
    "duration": 32,
    "start_time": "2021-10-24T09:01:40.293Z"
   },
   {
    "duration": 9,
    "start_time": "2021-10-24T09:01:40.327Z"
   },
   {
    "duration": 23,
    "start_time": "2021-10-24T09:01:40.338Z"
   },
   {
    "duration": 83,
    "start_time": "2021-10-24T09:01:40.364Z"
   },
   {
    "duration": 176,
    "start_time": "2021-10-24T09:01:40.450Z"
   },
   {
    "duration": 14619,
    "start_time": "2021-10-24T09:01:40.633Z"
   },
   {
    "duration": 2062,
    "start_time": "2021-10-24T09:01:55.255Z"
   },
   {
    "duration": 708751,
    "start_time": "2021-10-24T09:01:57.322Z"
   },
   {
    "duration": -2251,
    "start_time": "2021-10-24T09:13:48.327Z"
   },
   {
    "duration": 4709,
    "start_time": "2021-10-24T09:14:18.628Z"
   },
   {
    "duration": 4788,
    "start_time": "2021-10-24T09:14:35.934Z"
   },
   {
    "duration": 3308,
    "start_time": "2021-10-24T09:14:57.982Z"
   },
   {
    "duration": 15346,
    "start_time": "2021-10-24T09:16:30.256Z"
   },
   {
    "duration": 253,
    "start_time": "2021-10-24T09:19:41.152Z"
   },
   {
    "duration": 267,
    "start_time": "2021-10-24T09:20:25.249Z"
   },
   {
    "duration": 5084,
    "start_time": "2021-10-24T09:21:46.369Z"
   },
   {
    "duration": 317,
    "start_time": "2021-10-24T09:22:34.243Z"
   },
   {
    "duration": 308,
    "start_time": "2021-10-24T09:22:47.965Z"
   },
   {
    "duration": 824,
    "start_time": "2021-10-24T09:22:54.187Z"
   },
   {
    "duration": 708,
    "start_time": "2021-10-24T09:24:16.285Z"
   },
   {
    "duration": 965,
    "start_time": "2021-10-24T09:25:00.679Z"
   },
   {
    "duration": 792,
    "start_time": "2021-10-24T09:25:30.054Z"
   },
   {
    "duration": 693,
    "start_time": "2021-10-24T09:26:22.596Z"
   },
   {
    "duration": 700,
    "start_time": "2021-10-24T09:26:28.136Z"
   },
   {
    "duration": 846,
    "start_time": "2021-10-24T09:26:33.396Z"
   },
   {
    "duration": 1996,
    "start_time": "2021-10-24T09:27:07.217Z"
   },
   {
    "duration": 971,
    "start_time": "2021-10-24T09:27:48.007Z"
   },
   {
    "duration": 602,
    "start_time": "2021-10-24T09:35:06.400Z"
   },
   {
    "duration": 87,
    "start_time": "2021-10-24T09:35:23.095Z"
   },
   {
    "duration": 856,
    "start_time": "2021-10-24T09:35:27.231Z"
   },
   {
    "duration": 4,
    "start_time": "2021-10-24T10:43:44.068Z"
   },
   {
    "duration": 2573,
    "start_time": "2021-10-24T10:46:18.413Z"
   },
   {
    "duration": 1939,
    "start_time": "2021-10-24T10:46:42.532Z"
   },
   {
    "duration": 2036,
    "start_time": "2021-10-24T10:46:56.186Z"
   },
   {
    "duration": 1913,
    "start_time": "2021-10-24T10:47:03.941Z"
   },
   {
    "duration": 2020,
    "start_time": "2021-10-24T10:47:13.750Z"
   },
   {
    "duration": 2194,
    "start_time": "2021-10-24T10:47:20.830Z"
   },
   {
    "duration": 2322,
    "start_time": "2021-10-24T10:47:44.593Z"
   },
   {
    "duration": 1829,
    "start_time": "2021-10-24T10:47:52.849Z"
   },
   {
    "duration": 1828,
    "start_time": "2021-10-24T10:48:02.494Z"
   },
   {
    "duration": 1817,
    "start_time": "2021-10-24T10:48:18.361Z"
   },
   {
    "duration": 2328,
    "start_time": "2021-10-24T10:48:25.812Z"
   },
   {
    "duration": 8269,
    "start_time": "2021-10-24T10:54:34.190Z"
   },
   {
    "duration": 10524,
    "start_time": "2021-10-24T10:55:26.766Z"
   },
   {
    "duration": 8465,
    "start_time": "2021-10-24T10:56:14.616Z"
   },
   {
    "duration": 8712,
    "start_time": "2021-10-24T10:57:13.800Z"
   },
   {
    "duration": 30,
    "start_time": "2021-10-24T10:57:26.560Z"
   },
   {
    "duration": 4135,
    "start_time": "2021-10-24T10:57:29.188Z"
   },
   {
    "duration": 5,
    "start_time": "2021-10-24T10:57:45.778Z"
   },
   {
    "duration": 20,
    "start_time": "2021-10-24T10:57:47.896Z"
   },
   {
    "duration": 365,
    "start_time": "2021-10-24T10:57:51.578Z"
   },
   {
    "duration": 2637,
    "start_time": "2021-10-24T11:00:56.369Z"
   },
   {
    "duration": 2606,
    "start_time": "2021-10-24T11:01:32.557Z"
   },
   {
    "duration": 8,
    "start_time": "2021-10-24T11:01:51.207Z"
   },
   {
    "duration": 2902,
    "start_time": "2021-10-24T11:01:56.823Z"
   },
   {
    "duration": 8,
    "start_time": "2021-10-24T11:02:11.655Z"
   },
   {
    "duration": 5,
    "start_time": "2021-10-24T11:02:21.406Z"
   },
   {
    "duration": 2493,
    "start_time": "2021-10-24T11:02:53.070Z"
   },
   {
    "duration": 2681,
    "start_time": "2021-10-24T11:04:08.536Z"
   },
   {
    "duration": 260,
    "start_time": "2021-10-24T11:04:59.536Z"
   },
   {
    "duration": 10,
    "start_time": "2021-10-24T11:05:10.301Z"
   },
   {
    "duration": 10,
    "start_time": "2021-10-24T11:05:19.447Z"
   },
   {
    "duration": 10,
    "start_time": "2021-10-24T11:05:41.135Z"
   },
   {
    "duration": 13,
    "start_time": "2021-10-24T11:05:50.020Z"
   },
   {
    "duration": 10,
    "start_time": "2021-10-24T11:06:07.088Z"
   },
   {
    "duration": 14,
    "start_time": "2021-10-24T11:06:35.132Z"
   },
   {
    "duration": 17,
    "start_time": "2021-10-24T11:06:43.067Z"
   },
   {
    "duration": 287,
    "start_time": "2021-10-24T11:06:46.680Z"
   },
   {
    "duration": 13,
    "start_time": "2021-10-24T11:07:12.868Z"
   },
   {
    "duration": 92,
    "start_time": "2021-10-24T11:07:38.137Z"
   },
   {
    "duration": 58,
    "start_time": "2021-10-24T11:07:54.535Z"
   },
   {
    "duration": 16,
    "start_time": "2021-10-24T11:08:05.449Z"
   },
   {
    "duration": 271,
    "start_time": "2021-10-24T11:08:10.383Z"
   },
   {
    "duration": 20,
    "start_time": "2021-10-24T11:08:26.124Z"
   },
   {
    "duration": 5,
    "start_time": "2021-10-24T11:08:41.716Z"
   },
   {
    "duration": 15,
    "start_time": "2021-10-24T11:08:43.585Z"
   },
   {
    "duration": 20,
    "start_time": "2021-10-24T11:08:46.116Z"
   },
   {
    "duration": 131,
    "start_time": "2021-10-24T11:08:50.498Z"
   },
   {
    "duration": 14655,
    "start_time": "2021-10-24T11:08:54.159Z"
   },
   {
    "duration": 12738,
    "start_time": "2021-10-24T11:09:16.555Z"
   },
   {
    "duration": 2071,
    "start_time": "2021-10-24T11:09:33.062Z"
   },
   {
    "duration": 849,
    "start_time": "2021-10-24T11:09:41.251Z"
   },
   {
    "duration": 64,
    "start_time": "2021-10-24T11:10:28.968Z"
   },
   {
    "duration": 16,
    "start_time": "2021-10-24T11:10:41.657Z"
   },
   {
    "duration": 56,
    "start_time": "2021-10-24T11:10:51.961Z"
   },
   {
    "duration": 2192,
    "start_time": "2021-10-24T11:11:01.519Z"
   },
   {
    "duration": 11912,
    "start_time": "2021-10-24T11:11:09.080Z"
   },
   {
    "duration": 2173,
    "start_time": "2021-10-24T11:11:26.485Z"
   },
   {
    "duration": 2033,
    "start_time": "2021-10-24T11:11:33.043Z"
   },
   {
    "duration": 2217,
    "start_time": "2021-10-24T11:11:41.155Z"
   },
   {
    "duration": 2081,
    "start_time": "2021-10-24T11:11:46.194Z"
   },
   {
    "duration": 2052,
    "start_time": "2021-10-24T11:11:52.882Z"
   },
   {
    "duration": 2161,
    "start_time": "2021-10-24T11:11:56.766Z"
   },
   {
    "duration": 2064,
    "start_time": "2021-10-24T11:12:00.398Z"
   },
   {
    "duration": 1997,
    "start_time": "2021-10-24T11:12:07.954Z"
   },
   {
    "duration": 2233,
    "start_time": "2021-10-24T11:12:12.672Z"
   },
   {
    "duration": 2395,
    "start_time": "2021-10-24T11:12:20.540Z"
   },
   {
    "duration": 4983,
    "start_time": "2021-10-24T11:12:25.958Z"
   },
   {
    "duration": 2494,
    "start_time": "2021-10-24T11:12:32.984Z"
   },
   {
    "duration": 1186,
    "start_time": "2021-10-24T11:12:37.619Z"
   },
   {
    "duration": 2281,
    "start_time": "2021-10-24T11:12:42.224Z"
   },
   {
    "duration": 3852,
    "start_time": "2021-10-24T11:14:56.389Z"
   },
   {
    "duration": 214,
    "start_time": "2021-10-24T11:15:02.789Z"
   },
   {
    "duration": 17,
    "start_time": "2021-10-24T11:15:13.912Z"
   },
   {
    "duration": 37,
    "start_time": "2021-10-24T11:15:16.012Z"
   },
   {
    "duration": 20,
    "start_time": "2021-10-24T11:15:24.410Z"
   },
   {
    "duration": 106,
    "start_time": "2021-10-24T11:15:38.463Z"
   },
   {
    "duration": 49,
    "start_time": "2021-10-24T11:16:09.206Z"
   },
   {
    "duration": 48,
    "start_time": "2021-10-24T11:16:32.049Z"
   },
   {
    "duration": 44,
    "start_time": "2021-10-24T11:16:50.301Z"
   },
   {
    "duration": 16,
    "start_time": "2021-10-24T11:16:54.921Z"
   },
   {
    "duration": 20,
    "start_time": "2021-10-24T11:17:10.347Z"
   },
   {
    "duration": 8380,
    "start_time": "2021-10-24T11:18:12.285Z"
   },
   {
    "duration": 46,
    "start_time": "2021-10-24T11:18:23.315Z"
   },
   {
    "duration": 2125,
    "start_time": "2021-10-24T11:18:40.626Z"
   },
   {
    "duration": 4,
    "start_time": "2021-10-24T11:19:05.140Z"
   },
   {
    "duration": 15,
    "start_time": "2021-10-24T11:19:13.544Z"
   },
   {
    "duration": 81,
    "start_time": "2021-10-24T11:19:40.105Z"
   },
   {
    "duration": 104,
    "start_time": "2021-10-24T11:20:20.624Z"
   },
   {
    "duration": 13800,
    "start_time": "2021-10-24T11:20:22.849Z"
   },
   {
    "duration": 10927,
    "start_time": "2021-10-24T11:21:28.504Z"
   },
   {
    "duration": 2112,
    "start_time": "2021-10-24T11:21:43.160Z"
   },
   {
    "duration": 2216,
    "start_time": "2021-10-24T11:21:53.865Z"
   },
   {
    "duration": 2204,
    "start_time": "2021-10-24T11:21:58.934Z"
   },
   {
    "duration": 2254,
    "start_time": "2021-10-24T11:22:04.289Z"
   },
   {
    "duration": 2197,
    "start_time": "2021-10-24T11:22:09.398Z"
   },
   {
    "duration": 2147,
    "start_time": "2021-10-24T11:22:12.894Z"
   },
   {
    "duration": 2147,
    "start_time": "2021-10-24T11:22:17.153Z"
   },
   {
    "duration": 2195,
    "start_time": "2021-10-24T11:22:21.255Z"
   },
   {
    "duration": 2148,
    "start_time": "2021-10-24T11:22:25.076Z"
   },
   {
    "duration": 886,
    "start_time": "2021-10-24T11:22:37.822Z"
   },
   {
    "duration": 41,
    "start_time": "2021-10-24T11:26:59.306Z"
   },
   {
    "duration": 78,
    "start_time": "2021-10-24T11:27:30.775Z"
   },
   {
    "duration": 62,
    "start_time": "2021-10-24T11:28:16.197Z"
   },
   {
    "duration": 298,
    "start_time": "2021-10-24T11:29:33.604Z"
   },
   {
    "duration": 282,
    "start_time": "2021-10-24T11:29:51.181Z"
   },
   {
    "duration": 3,
    "start_time": "2021-10-24T11:30:21.770Z"
   },
   {
    "duration": 4,
    "start_time": "2021-10-24T11:30:24.949Z"
   },
   {
    "duration": 4,
    "start_time": "2021-10-24T11:30:33.254Z"
   },
   {
    "duration": 4,
    "start_time": "2021-10-24T11:30:40.180Z"
   },
   {
    "duration": 5,
    "start_time": "2021-10-24T11:30:46.026Z"
   },
   {
    "duration": 4,
    "start_time": "2021-10-24T11:30:54.438Z"
   },
   {
    "duration": 5,
    "start_time": "2021-10-24T11:30:58.131Z"
   },
   {
    "duration": 5,
    "start_time": "2021-10-24T11:31:09.996Z"
   },
   {
    "duration": 297,
    "start_time": "2021-10-24T11:31:34.865Z"
   },
   {
    "duration": 5,
    "start_time": "2021-10-24T11:31:40.916Z"
   },
   {
    "duration": 56,
    "start_time": "2021-10-24T11:31:47.206Z"
   },
   {
    "duration": 266,
    "start_time": "2021-10-24T11:31:49.203Z"
   },
   {
    "duration": 5,
    "start_time": "2021-10-24T11:32:37.773Z"
   },
   {
    "duration": 281,
    "start_time": "2021-10-24T11:32:43.561Z"
   },
   {
    "duration": 4,
    "start_time": "2021-10-24T11:33:02.940Z"
   },
   {
    "duration": 5,
    "start_time": "2021-10-24T11:33:08.759Z"
   },
   {
    "duration": 4,
    "start_time": "2021-10-24T11:33:37.110Z"
   },
   {
    "duration": 5,
    "start_time": "2021-10-24T11:33:48.719Z"
   },
   {
    "duration": 4,
    "start_time": "2021-10-24T11:33:53.566Z"
   },
   {
    "duration": 4,
    "start_time": "2021-10-24T11:34:06.212Z"
   },
   {
    "duration": 4,
    "start_time": "2021-10-24T11:34:19.032Z"
   },
   {
    "duration": 4,
    "start_time": "2021-10-24T11:34:27.378Z"
   },
   {
    "duration": 5,
    "start_time": "2021-10-24T11:35:04.769Z"
   },
   {
    "duration": 5,
    "start_time": "2021-10-24T11:35:43.538Z"
   },
   {
    "duration": 300,
    "start_time": "2021-10-24T11:36:18.125Z"
   },
   {
    "duration": 4,
    "start_time": "2021-10-24T11:36:24.917Z"
   },
   {
    "duration": 421,
    "start_time": "2021-10-24T11:36:33.178Z"
   },
   {
    "duration": 5,
    "start_time": "2021-10-24T11:36:46.099Z"
   },
   {
    "duration": 6,
    "start_time": "2021-10-24T11:36:53.816Z"
   },
   {
    "duration": 4,
    "start_time": "2021-10-24T11:37:11.759Z"
   },
   {
    "duration": 4,
    "start_time": "2021-10-24T11:38:18.352Z"
   },
   {
    "duration": 271,
    "start_time": "2021-10-24T11:38:19.982Z"
   },
   {
    "duration": 4,
    "start_time": "2021-10-24T11:38:30.805Z"
   },
   {
    "duration": 6,
    "start_time": "2021-10-24T11:38:33.245Z"
   },
   {
    "duration": 307,
    "start_time": "2021-10-24T11:39:26.965Z"
   },
   {
    "duration": 96,
    "start_time": "2021-10-24T11:39:37.171Z"
   },
   {
    "duration": 4,
    "start_time": "2021-10-24T11:39:40.268Z"
   },
   {
    "duration": 17,
    "start_time": "2021-10-24T11:39:43.195Z"
   },
   {
    "duration": 317,
    "start_time": "2021-10-24T11:40:40.319Z"
   },
   {
    "duration": 16,
    "start_time": "2021-10-24T11:40:50.573Z"
   },
   {
    "duration": 2116,
    "start_time": "2021-10-24T11:41:09.066Z"
   },
   {
    "duration": 2046,
    "start_time": "2021-10-24T11:41:16.630Z"
   },
   {
    "duration": 91,
    "start_time": "2021-10-24T11:41:21.150Z"
   },
   {
    "duration": 2240,
    "start_time": "2021-10-24T11:41:24.844Z"
   },
   {
    "duration": 2160,
    "start_time": "2021-10-24T11:41:37.123Z"
   },
   {
    "duration": 2073,
    "start_time": "2021-10-24T11:41:42.070Z"
   },
   {
    "duration": 22,
    "start_time": "2021-10-24T11:42:03.161Z"
   },
   {
    "duration": 13,
    "start_time": "2021-10-24T11:42:12.944Z"
   },
   {
    "duration": 2095,
    "start_time": "2021-10-24T11:42:34.090Z"
   },
   {
    "duration": 2087,
    "start_time": "2021-10-24T11:42:37.829Z"
   },
   {
    "duration": 2369,
    "start_time": "2021-10-24T11:43:00.021Z"
   },
   {
    "duration": 14,
    "start_time": "2021-10-24T11:43:12.968Z"
   },
   {
    "duration": 53,
    "start_time": "2021-10-24T11:43:19.372Z"
   },
   {
    "duration": 15,
    "start_time": "2021-10-24T11:43:21.229Z"
   },
   {
    "duration": 2652,
    "start_time": "2021-10-24T11:43:24.898Z"
   },
   {
    "duration": 2448,
    "start_time": "2021-10-24T11:43:33.517Z"
   },
   {
    "duration": 2542,
    "start_time": "2021-10-24T11:43:39.098Z"
   },
   {
    "duration": 2611,
    "start_time": "2021-10-24T11:43:44.093Z"
   },
   {
    "duration": 31,
    "start_time": "2021-10-24T11:44:11.243Z"
   },
   {
    "duration": 1869,
    "start_time": "2021-10-24T11:44:13.300Z"
   },
   {
    "duration": 45,
    "start_time": "2021-10-24T11:44:22.381Z"
   },
   {
    "duration": 16,
    "start_time": "2021-10-24T11:44:25.185Z"
   },
   {
    "duration": 13,
    "start_time": "2021-10-24T11:44:27.914Z"
   },
   {
    "duration": 2447,
    "start_time": "2021-10-24T11:44:30.160Z"
   },
   {
    "duration": 50,
    "start_time": "2021-10-24T11:44:40.555Z"
   },
   {
    "duration": 15,
    "start_time": "2021-10-24T11:44:42.562Z"
   },
   {
    "duration": 13,
    "start_time": "2021-10-24T11:44:45.233Z"
   },
   {
    "duration": 2369,
    "start_time": "2021-10-24T11:44:47.960Z"
   },
   {
    "duration": 2371,
    "start_time": "2021-10-24T11:44:52.738Z"
   },
   {
    "duration": 2344,
    "start_time": "2021-10-24T11:44:57.320Z"
   },
   {
    "duration": 2418,
    "start_time": "2021-10-24T11:45:01.519Z"
   },
   {
    "duration": 2459,
    "start_time": "2021-10-24T11:45:05.601Z"
   },
   {
    "duration": 2371,
    "start_time": "2021-10-24T11:45:11.801Z"
   },
   {
    "duration": 2380,
    "start_time": "2021-10-24T11:45:17.573Z"
   },
   {
    "duration": 2477,
    "start_time": "2021-10-24T11:45:21.670Z"
   },
   {
    "duration": 2532,
    "start_time": "2021-10-24T11:45:25.669Z"
   },
   {
    "duration": 2376,
    "start_time": "2021-10-24T11:45:31.800Z"
   },
   {
    "duration": 2418,
    "start_time": "2021-10-24T11:45:36.672Z"
   },
   {
    "duration": 1948,
    "start_time": "2021-10-24T11:45:41.446Z"
   },
   {
    "duration": 1796,
    "start_time": "2021-10-24T11:45:46.732Z"
   },
   {
    "duration": 1895,
    "start_time": "2021-10-24T11:45:51.878Z"
   },
   {
    "duration": 1735,
    "start_time": "2021-10-24T11:45:55.780Z"
   },
   {
    "duration": 2082,
    "start_time": "2021-10-24T11:45:58.819Z"
   },
   {
    "duration": 2574,
    "start_time": "2021-10-24T11:46:02.198Z"
   },
   {
    "duration": 2002,
    "start_time": "2021-10-24T11:46:07.356Z"
   },
   {
    "duration": 1697,
    "start_time": "2021-10-24T11:46:11.719Z"
   },
   {
    "duration": 1666,
    "start_time": "2021-10-24T11:46:15.700Z"
   },
   {
    "duration": 1662,
    "start_time": "2021-10-24T11:46:19.666Z"
   },
   {
    "duration": 1681,
    "start_time": "2021-10-24T11:46:24.171Z"
   },
   {
    "duration": 1685,
    "start_time": "2021-10-24T11:46:28.627Z"
   },
   {
    "duration": 1699,
    "start_time": "2021-10-24T11:46:32.803Z"
   },
   {
    "duration": 1666,
    "start_time": "2021-10-24T11:46:36.214Z"
   },
   {
    "duration": 16,
    "start_time": "2021-10-24T11:46:56.935Z"
   },
   {
    "duration": 1738,
    "start_time": "2021-10-24T11:47:00.022Z"
   },
   {
    "duration": 1627,
    "start_time": "2021-10-24T11:47:05.083Z"
   },
   {
    "duration": 1675,
    "start_time": "2021-10-24T11:47:08.929Z"
   },
   {
    "duration": 1924,
    "start_time": "2021-10-24T11:47:16.425Z"
   },
   {
    "duration": 1137,
    "start_time": "2021-10-24T11:47:20.641Z"
   },
   {
    "duration": 2422,
    "start_time": "2021-10-24T11:47:24.664Z"
   },
   {
    "duration": 2358,
    "start_time": "2021-10-24T11:47:29.510Z"
   },
   {
    "duration": 2195,
    "start_time": "2021-10-24T11:47:34.430Z"
   },
   {
    "duration": 4520,
    "start_time": "2021-10-24T11:47:38.217Z"
   },
   {
    "duration": 5061,
    "start_time": "2021-10-24T11:47:46.336Z"
   },
   {
    "duration": 16875,
    "start_time": "2021-10-24T11:47:54.844Z"
   },
   {
    "duration": 1759,
    "start_time": "2021-10-24T11:48:13.474Z"
   },
   {
    "duration": 1606,
    "start_time": "2021-10-24T11:48:30.765Z"
   },
   {
    "duration": 1568,
    "start_time": "2021-10-24T11:48:34.595Z"
   },
   {
    "duration": 1562,
    "start_time": "2021-10-24T11:48:37.603Z"
   },
   {
    "duration": 1667,
    "start_time": "2021-10-24T11:48:40.672Z"
   },
   {
    "duration": 1700,
    "start_time": "2021-10-24T11:48:45.006Z"
   },
   {
    "duration": 1547,
    "start_time": "2021-10-24T11:48:47.977Z"
   },
   {
    "duration": 1544,
    "start_time": "2021-10-24T11:48:52.157Z"
   },
   {
    "duration": 1515,
    "start_time": "2021-10-24T11:48:56.043Z"
   },
   {
    "duration": 1576,
    "start_time": "2021-10-24T11:49:00.950Z"
   },
   {
    "duration": 1492,
    "start_time": "2021-10-24T11:49:04.678Z"
   },
   {
    "duration": 1284,
    "start_time": "2021-10-24T11:49:08.162Z"
   },
   {
    "duration": 1352,
    "start_time": "2021-10-24T11:49:11.686Z"
   },
   {
    "duration": 1069,
    "start_time": "2021-10-24T11:49:15.197Z"
   },
   {
    "duration": 884,
    "start_time": "2021-10-24T11:49:18.265Z"
   },
   {
    "duration": 744,
    "start_time": "2021-10-24T11:49:21.492Z"
   },
   {
    "duration": 1735,
    "start_time": "2021-10-24T11:49:27.780Z"
   },
   {
    "duration": 1582,
    "start_time": "2021-10-24T11:49:31.841Z"
   },
   {
    "duration": 1562,
    "start_time": "2021-10-24T11:49:35.591Z"
   },
   {
    "duration": 1566,
    "start_time": "2021-10-24T11:49:39.800Z"
   },
   {
    "duration": 1587,
    "start_time": "2021-10-24T11:50:31.846Z"
   },
   {
    "duration": 1570,
    "start_time": "2021-10-24T11:50:36.660Z"
   },
   {
    "duration": 1610,
    "start_time": "2021-10-24T11:50:40.316Z"
   },
   {
    "duration": 2448,
    "start_time": "2021-10-24T11:50:52.107Z"
   },
   {
    "duration": 50,
    "start_time": "2021-10-24T11:51:41.071Z"
   },
   {
    "duration": 16,
    "start_time": "2021-10-24T11:51:43.081Z"
   },
   {
    "duration": 2664,
    "start_time": "2021-10-24T11:51:45.744Z"
   },
   {
    "duration": 8412,
    "start_time": "2021-10-24T11:52:12.900Z"
   },
   {
    "duration": 5267,
    "start_time": "2021-10-24T11:52:26.393Z"
   },
   {
    "duration": 207,
    "start_time": "2021-10-24T11:52:31.663Z"
   },
   {
    "duration": 18,
    "start_time": "2021-10-24T11:52:31.873Z"
   },
   {
    "duration": 42,
    "start_time": "2021-10-24T11:52:31.894Z"
   },
   {
    "duration": 16,
    "start_time": "2021-10-24T11:52:31.938Z"
   },
   {
    "duration": 77,
    "start_time": "2021-10-24T11:52:31.957Z"
   },
   {
    "duration": 43,
    "start_time": "2021-10-24T11:52:32.036Z"
   },
   {
    "duration": 39,
    "start_time": "2021-10-24T11:52:32.083Z"
   },
   {
    "duration": 16,
    "start_time": "2021-10-24T11:52:32.125Z"
   },
   {
    "duration": 8425,
    "start_time": "2021-10-24T11:52:32.144Z"
   },
   {
    "duration": 62,
    "start_time": "2021-10-24T11:52:40.572Z"
   },
   {
    "duration": 34,
    "start_time": "2021-10-24T11:52:40.636Z"
   },
   {
    "duration": 8,
    "start_time": "2021-10-24T11:52:40.672Z"
   },
   {
    "duration": 1550,
    "start_time": "2021-10-24T11:52:40.683Z"
   },
   {
    "duration": 1203,
    "start_time": "2021-10-24T11:52:42.236Z"
   },
   {
    "duration": 1146,
    "start_time": "2021-10-24T11:52:43.441Z"
   },
   {
    "duration": 1135,
    "start_time": "2021-10-24T11:52:44.590Z"
   },
   {
    "duration": 22,
    "start_time": "2021-10-24T11:52:45.728Z"
   },
   {
    "duration": 7,
    "start_time": "2021-10-24T11:52:45.753Z"
   },
   {
    "duration": 23,
    "start_time": "2021-10-24T11:52:45.763Z"
   },
   {
    "duration": 238,
    "start_time": "2021-10-24T11:52:45.789Z"
   },
   {
    "duration": 14062,
    "start_time": "2021-10-24T11:52:46.031Z"
   },
   {
    "duration": 11524,
    "start_time": "2021-10-24T11:53:00.098Z"
   },
   {
    "duration": 2180,
    "start_time": "2021-10-24T11:53:11.625Z"
   },
   {
    "duration": 865,
    "start_time": "2021-10-24T11:53:13.808Z"
   },
   {
    "duration": 50,
    "start_time": "2021-10-24T11:53:14.675Z"
   },
   {
    "duration": 17,
    "start_time": "2021-10-24T11:53:14.728Z"
   },
   {
    "duration": 19,
    "start_time": "2021-10-24T11:53:14.747Z"
   },
   {
    "duration": 2545,
    "start_time": "2021-10-24T11:53:14.769Z"
   },
   {
    "duration": 1601,
    "start_time": "2021-10-24T11:55:04.461Z"
   },
   {
    "duration": 15,
    "start_time": "2021-10-24T11:55:23.184Z"
   },
   {
    "duration": 1740,
    "start_time": "2021-10-24T11:55:25.239Z"
   },
   {
    "duration": 1892,
    "start_time": "2021-10-24T11:55:29.377Z"
   },
   {
    "duration": 1694,
    "start_time": "2021-10-24T11:55:33.373Z"
   },
   {
    "duration": 1776,
    "start_time": "2021-10-24T11:55:37.246Z"
   },
   {
    "duration": 1719,
    "start_time": "2021-10-24T11:55:42.821Z"
   },
   {
    "duration": 1749,
    "start_time": "2021-10-24T11:55:45.994Z"
   },
   {
    "duration": 1732,
    "start_time": "2021-10-24T11:55:50.172Z"
   },
   {
    "duration": 1755,
    "start_time": "2021-10-24T11:55:52.730Z"
   },
   {
    "duration": 1761,
    "start_time": "2021-10-24T11:55:56.183Z"
   },
   {
    "duration": 1718,
    "start_time": "2021-10-24T11:55:59.821Z"
   },
   {
    "duration": 1713,
    "start_time": "2021-10-24T11:56:04.206Z"
   },
   {
    "duration": 2112,
    "start_time": "2021-10-24T11:56:08.150Z"
   },
   {
    "duration": 1706,
    "start_time": "2021-10-24T11:56:13.027Z"
   },
   {
    "duration": 1731,
    "start_time": "2021-10-24T11:56:18.782Z"
   },
   {
    "duration": 1694,
    "start_time": "2021-10-24T11:56:24.008Z"
   },
   {
    "duration": 1712,
    "start_time": "2021-10-24T11:56:27.217Z"
   },
   {
    "duration": 1702,
    "start_time": "2021-10-24T11:56:30.697Z"
   },
   {
    "duration": 1703,
    "start_time": "2021-10-24T11:56:33.919Z"
   },
   {
    "duration": 1748,
    "start_time": "2021-10-24T11:56:39.934Z"
   },
   {
    "duration": 1685,
    "start_time": "2021-10-24T11:56:43.537Z"
   },
   {
    "duration": 1735,
    "start_time": "2021-10-24T11:56:48.063Z"
   },
   {
    "duration": 1736,
    "start_time": "2021-10-24T11:56:50.799Z"
   },
   {
    "duration": 1796,
    "start_time": "2021-10-24T11:56:54.589Z"
   },
   {
    "duration": 1759,
    "start_time": "2021-10-24T11:56:58.238Z"
   },
   {
    "duration": 1762,
    "start_time": "2021-10-24T11:57:03.827Z"
   },
   {
    "duration": 1798,
    "start_time": "2021-10-24T11:57:07.631Z"
   },
   {
    "duration": 1853,
    "start_time": "2021-10-24T11:57:11.871Z"
   },
   {
    "duration": 1536,
    "start_time": "2021-10-24T11:57:15.296Z"
   },
   {
    "duration": 1624,
    "start_time": "2021-10-24T11:57:20.344Z"
   },
   {
    "duration": 1766,
    "start_time": "2021-10-24T11:57:24.991Z"
   },
   {
    "duration": 2050,
    "start_time": "2021-10-24T11:57:29.973Z"
   },
   {
    "duration": 1799,
    "start_time": "2021-10-24T11:57:34.473Z"
   },
   {
    "duration": 1828,
    "start_time": "2021-10-24T11:57:38.211Z"
   },
   {
    "duration": 1874,
    "start_time": "2021-10-24T11:57:42.165Z"
   },
   {
    "duration": 1924,
    "start_time": "2021-10-24T11:57:46.287Z"
   },
   {
    "duration": 2126,
    "start_time": "2021-10-24T11:57:50.667Z"
   },
   {
    "duration": 2172,
    "start_time": "2021-10-24T11:57:55.713Z"
   },
   {
    "duration": 2302,
    "start_time": "2021-10-24T11:57:59.958Z"
   },
   {
    "duration": 2318,
    "start_time": "2021-10-24T11:58:06.300Z"
   },
   {
    "duration": 1764,
    "start_time": "2021-10-24T11:58:11.486Z"
   },
   {
    "duration": 1797,
    "start_time": "2021-10-24T11:58:15.000Z"
   },
   {
    "duration": 1786,
    "start_time": "2021-10-24T11:58:18.282Z"
   },
   {
    "duration": 1773,
    "start_time": "2021-10-24T11:58:22.427Z"
   },
   {
    "duration": 1817,
    "start_time": "2021-10-24T11:58:26.069Z"
   },
   {
    "duration": 1775,
    "start_time": "2021-10-24T11:58:29.628Z"
   },
   {
    "duration": 1741,
    "start_time": "2021-10-24T11:58:33.509Z"
   },
   {
    "duration": 1786,
    "start_time": "2021-10-24T11:58:36.743Z"
   },
   {
    "duration": 1902,
    "start_time": "2021-10-24T11:58:40.698Z"
   },
   {
    "duration": 1883,
    "start_time": "2021-10-24T11:58:44.559Z"
   },
   {
    "duration": 1783,
    "start_time": "2021-10-24T11:58:47.442Z"
   },
   {
    "duration": 1765,
    "start_time": "2021-10-24T11:58:50.704Z"
   },
   {
    "duration": 1763,
    "start_time": "2021-10-24T11:58:53.971Z"
   },
   {
    "duration": 1841,
    "start_time": "2021-10-24T11:58:58.185Z"
   },
   {
    "duration": 1861,
    "start_time": "2021-10-24T11:59:01.512Z"
   },
   {
    "duration": 1769,
    "start_time": "2021-10-24T11:59:05.217Z"
   },
   {
    "duration": 1749,
    "start_time": "2021-10-24T11:59:08.765Z"
   },
   {
    "duration": 1760,
    "start_time": "2021-10-24T11:59:13.714Z"
   },
   {
    "duration": 1793,
    "start_time": "2021-10-24T11:59:17.229Z"
   },
   {
    "duration": 1753,
    "start_time": "2021-10-24T11:59:21.173Z"
   },
   {
    "duration": 1772,
    "start_time": "2021-10-24T11:59:25.032Z"
   },
   {
    "duration": 1759,
    "start_time": "2021-10-24T11:59:28.953Z"
   },
   {
    "duration": 1933,
    "start_time": "2021-10-24T11:59:32.559Z"
   },
   {
    "duration": 1828,
    "start_time": "2021-10-24T11:59:36.496Z"
   },
   {
    "duration": 1814,
    "start_time": "2021-10-24T11:59:41.009Z"
   },
   {
    "duration": 1778,
    "start_time": "2021-10-24T11:59:46.663Z"
   },
   {
    "duration": 1758,
    "start_time": "2021-10-24T11:59:49.742Z"
   },
   {
    "duration": 1797,
    "start_time": "2021-10-24T11:59:54.333Z"
   },
   {
    "duration": 1848,
    "start_time": "2021-10-24T11:59:57.387Z"
   },
   {
    "duration": 1924,
    "start_time": "2021-10-24T12:00:02.528Z"
   },
   {
    "duration": 1755,
    "start_time": "2021-10-24T12:00:06.558Z"
   },
   {
    "duration": 1789,
    "start_time": "2021-10-24T12:00:10.785Z"
   },
   {
    "duration": 1754,
    "start_time": "2021-10-24T12:00:14.594Z"
   },
   {
    "duration": 1789,
    "start_time": "2021-10-24T12:00:22.096Z"
   },
   {
    "duration": 1761,
    "start_time": "2021-10-24T12:00:29.163Z"
   },
   {
    "duration": 1751,
    "start_time": "2021-10-24T12:00:36.238Z"
   },
   {
    "duration": 1872,
    "start_time": "2021-10-24T12:00:39.528Z"
   },
   {
    "duration": 1872,
    "start_time": "2021-10-24T12:00:43.699Z"
   },
   {
    "duration": 1845,
    "start_time": "2021-10-24T12:00:48.515Z"
   },
   {
    "duration": 1758,
    "start_time": "2021-10-24T12:00:52.992Z"
   },
   {
    "duration": 1767,
    "start_time": "2021-10-24T12:00:55.974Z"
   },
   {
    "duration": 1802,
    "start_time": "2021-10-24T12:00:58.936Z"
   },
   {
    "duration": 1788,
    "start_time": "2021-10-24T12:01:02.364Z"
   },
   {
    "duration": 1738,
    "start_time": "2021-10-24T12:01:06.101Z"
   },
   {
    "duration": 1748,
    "start_time": "2021-10-24T12:01:12.647Z"
   },
   {
    "duration": 1806,
    "start_time": "2021-10-24T12:01:17.941Z"
   },
   {
    "duration": 1954,
    "start_time": "2021-10-24T12:01:21.592Z"
   },
   {
    "duration": 1768,
    "start_time": "2021-10-24T12:01:25.274Z"
   },
   {
    "duration": 1781,
    "start_time": "2021-10-24T12:01:29.094Z"
   },
   {
    "duration": 1778,
    "start_time": "2021-10-24T12:01:32.422Z"
   },
   {
    "duration": 1830,
    "start_time": "2021-10-24T12:01:36.659Z"
   },
   {
    "duration": 1764,
    "start_time": "2021-10-24T12:01:39.735Z"
   },
   {
    "duration": 1758,
    "start_time": "2021-10-24T12:01:42.702Z"
   },
   {
    "duration": 1768,
    "start_time": "2021-10-24T12:01:46.172Z"
   },
   {
    "duration": 1782,
    "start_time": "2021-10-24T12:01:49.971Z"
   },
   {
    "duration": 1866,
    "start_time": "2021-10-24T12:01:55.366Z"
   },
   {
    "duration": 1762,
    "start_time": "2021-10-24T12:01:59.415Z"
   },
   {
    "duration": 1787,
    "start_time": "2021-10-24T12:02:05.004Z"
   },
   {
    "duration": 1773,
    "start_time": "2021-10-24T12:02:10.184Z"
   },
   {
    "duration": 2110,
    "start_time": "2021-10-24T12:02:31.646Z"
   },
   {
    "duration": 2011,
    "start_time": "2021-10-24T12:02:37.411Z"
   },
   {
    "duration": 1852,
    "start_time": "2021-10-24T12:02:42.300Z"
   },
   {
    "duration": 1852,
    "start_time": "2021-10-24T12:02:48.584Z"
   },
   {
    "duration": 2164,
    "start_time": "2021-10-24T12:02:54.065Z"
   },
   {
    "duration": 1871,
    "start_time": "2021-10-24T12:02:59.126Z"
   },
   {
    "duration": 1729,
    "start_time": "2021-10-24T12:03:03.520Z"
   },
   {
    "duration": 1761,
    "start_time": "2021-10-24T12:03:07.663Z"
   },
   {
    "duration": 33,
    "start_time": "2021-10-24T12:03:33.969Z"
   },
   {
    "duration": 13,
    "start_time": "2021-10-24T12:03:35.674Z"
   },
   {
    "duration": 1775,
    "start_time": "2021-10-24T12:03:38.193Z"
   },
   {
    "duration": 2135,
    "start_time": "2021-10-24T12:03:45.248Z"
   },
   {
    "duration": 1737,
    "start_time": "2021-10-24T12:03:49.279Z"
   },
   {
    "duration": 432,
    "start_time": "2021-10-24T12:04:48.304Z"
   },
   {
    "duration": 35,
    "start_time": "2021-10-24T12:05:10.992Z"
   },
   {
    "duration": 40,
    "start_time": "2021-10-24T12:05:12.795Z"
   },
   {
    "duration": 18,
    "start_time": "2021-10-24T12:05:20.810Z"
   },
   {
    "duration": 1500,
    "start_time": "2021-10-24T12:05:23.228Z"
   },
   {
    "duration": 1647,
    "start_time": "2021-10-24T12:05:30.640Z"
   },
   {
    "duration": 1497,
    "start_time": "2021-10-24T12:05:35.419Z"
   },
   {
    "duration": 1493,
    "start_time": "2021-10-24T12:05:39.190Z"
   },
   {
    "duration": 1500,
    "start_time": "2021-10-24T12:05:44.424Z"
   },
   {
    "duration": 1609,
    "start_time": "2021-10-24T12:05:48.530Z"
   },
   {
    "duration": 292,
    "start_time": "2021-10-24T12:05:54.562Z"
   },
   {
    "duration": 52,
    "start_time": "2021-10-24T12:06:08.941Z"
   },
   {
    "duration": 21,
    "start_time": "2021-10-24T12:07:11.055Z"
   },
   {
    "duration": 2662,
    "start_time": "2021-10-24T12:07:13.066Z"
   },
   {
    "duration": 95,
    "start_time": "2021-10-24T12:07:33.487Z"
   },
   {
    "duration": 16,
    "start_time": "2021-10-24T12:07:36.408Z"
   },
   {
    "duration": 1783,
    "start_time": "2021-10-24T12:07:38.455Z"
   },
   {
    "duration": 1796,
    "start_time": "2021-10-24T12:07:44.012Z"
   },
   {
    "duration": 1791,
    "start_time": "2021-10-24T12:07:47.175Z"
   },
   {
    "duration": 2024,
    "start_time": "2021-10-24T12:07:51.301Z"
   },
   {
    "duration": 1863,
    "start_time": "2021-10-24T12:07:55.766Z"
   },
   {
    "duration": 1787,
    "start_time": "2021-10-24T12:08:00.255Z"
   },
   {
    "duration": 1762,
    "start_time": "2021-10-24T12:08:04.382Z"
   },
   {
    "duration": 1785,
    "start_time": "2021-10-24T12:08:09.278Z"
   },
   {
    "duration": 1909,
    "start_time": "2021-10-24T12:08:13.624Z"
   },
   {
    "duration": 1803,
    "start_time": "2021-10-24T12:08:17.824Z"
   },
   {
    "duration": 1816,
    "start_time": "2021-10-24T12:08:22.753Z"
   },
   {
    "duration": 1831,
    "start_time": "2021-10-24T12:08:25.952Z"
   },
   {
    "duration": 67,
    "start_time": "2021-10-24T12:09:10.866Z"
   },
   {
    "duration": 17,
    "start_time": "2021-10-24T12:09:13.722Z"
   },
   {
    "duration": 2074,
    "start_time": "2021-10-24T12:09:15.628Z"
   },
   {
    "duration": 2321,
    "start_time": "2021-10-24T12:09:21.375Z"
   },
   {
    "duration": 2919,
    "start_time": "2021-10-24T12:09:27.172Z"
   },
   {
    "duration": 3047,
    "start_time": "2021-10-24T12:09:34.008Z"
   },
   {
    "duration": 2908,
    "start_time": "2021-10-24T12:09:38.514Z"
   },
   {
    "duration": 2885,
    "start_time": "2021-10-24T12:09:43.637Z"
   },
   {
    "duration": 2915,
    "start_time": "2021-10-24T12:09:48.542Z"
   },
   {
    "duration": 3005,
    "start_time": "2021-10-24T12:09:53.745Z"
   },
   {
    "duration": 2701,
    "start_time": "2021-10-24T12:09:59.558Z"
   },
   {
    "duration": 3025,
    "start_time": "2021-10-24T12:10:04.562Z"
   },
   {
    "duration": 3266,
    "start_time": "2021-10-24T12:10:10.856Z"
   },
   {
    "duration": 2872,
    "start_time": "2021-10-24T12:10:16.394Z"
   },
   {
    "duration": 2857,
    "start_time": "2021-10-24T12:10:20.867Z"
   },
   {
    "duration": 2851,
    "start_time": "2021-10-24T12:10:25.462Z"
   },
   {
    "duration": 2715,
    "start_time": "2021-10-24T12:10:29.455Z"
   },
   {
    "duration": 3017,
    "start_time": "2021-10-24T12:10:33.616Z"
   },
   {
    "duration": 2650,
    "start_time": "2021-10-24T12:10:37.854Z"
   },
   {
    "duration": 2857,
    "start_time": "2021-10-24T12:10:41.868Z"
   },
   {
    "duration": 2547,
    "start_time": "2021-10-24T12:10:46.686Z"
   },
   {
    "duration": 2195,
    "start_time": "2021-10-24T12:10:52.309Z"
   },
   {
    "duration": 2010,
    "start_time": "2021-10-24T12:10:56.800Z"
   },
   {
    "duration": 1686,
    "start_time": "2021-10-24T12:11:01.339Z"
   },
   {
    "duration": 2948,
    "start_time": "2021-10-24T12:11:06.687Z"
   },
   {
    "duration": 3365,
    "start_time": "2021-10-24T12:11:12.035Z"
   },
   {
    "duration": 3132,
    "start_time": "2021-10-24T12:11:18.938Z"
   },
   {
    "duration": 2967,
    "start_time": "2021-10-24T12:11:25.484Z"
   },
   {
    "duration": 3090,
    "start_time": "2021-10-24T12:11:31.247Z"
   },
   {
    "duration": 2980,
    "start_time": "2021-10-24T12:11:39.126Z"
   },
   {
    "duration": 3116,
    "start_time": "2021-10-24T12:11:44.195Z"
   },
   {
    "duration": 3056,
    "start_time": "2021-10-24T12:11:50.151Z"
   },
   {
    "duration": 3196,
    "start_time": "2021-10-24T12:11:54.271Z"
   },
   {
    "duration": 3163,
    "start_time": "2021-10-24T12:12:00.075Z"
   },
   {
    "duration": 2948,
    "start_time": "2021-10-24T12:12:05.191Z"
   },
   {
    "duration": 3057,
    "start_time": "2021-10-24T12:12:10.877Z"
   },
   {
    "duration": 3030,
    "start_time": "2021-10-24T12:12:19.500Z"
   },
   {
    "duration": 3028,
    "start_time": "2021-10-24T12:12:24.598Z"
   },
   {
    "duration": 3075,
    "start_time": "2021-10-24T12:12:29.587Z"
   },
   {
    "duration": 3248,
    "start_time": "2021-10-24T12:12:37.020Z"
   },
   {
    "duration": 3082,
    "start_time": "2021-10-24T12:12:42.835Z"
   },
   {
    "duration": 3027,
    "start_time": "2021-10-24T12:12:48.230Z"
   },
   {
    "duration": 3186,
    "start_time": "2021-10-24T12:12:53.339Z"
   },
   {
    "duration": 2965,
    "start_time": "2021-10-24T12:12:58.157Z"
   },
   {
    "duration": 2981,
    "start_time": "2021-10-24T12:13:02.153Z"
   },
   {
    "duration": 3000,
    "start_time": "2021-10-24T12:13:08.553Z"
   },
   {
    "duration": 3024,
    "start_time": "2021-10-24T12:13:14.236Z"
   },
   {
    "duration": 47,
    "start_time": "2021-10-24T12:13:24.331Z"
   },
   {
    "duration": 3919,
    "start_time": "2021-10-24T12:13:35.564Z"
   },
   {
    "duration": 5535,
    "start_time": "2021-10-24T12:14:48.795Z"
   },
   {
    "duration": 199,
    "start_time": "2021-10-24T12:14:54.333Z"
   },
   {
    "duration": 16,
    "start_time": "2021-10-24T12:14:54.536Z"
   },
   {
    "duration": 50,
    "start_time": "2021-10-24T12:14:54.555Z"
   },
   {
    "duration": 31,
    "start_time": "2021-10-24T12:14:54.608Z"
   },
   {
    "duration": 50,
    "start_time": "2021-10-24T12:14:54.641Z"
   },
   {
    "duration": 66,
    "start_time": "2021-10-24T12:14:54.694Z"
   },
   {
    "duration": 15,
    "start_time": "2021-10-24T12:14:54.765Z"
   },
   {
    "duration": 18,
    "start_time": "2021-10-24T12:14:54.822Z"
   },
   {
    "duration": 9473,
    "start_time": "2021-10-24T12:14:54.842Z"
   },
   {
    "duration": 36,
    "start_time": "2021-10-24T12:15:04.323Z"
   },
   {
    "duration": 34,
    "start_time": "2021-10-24T12:15:04.362Z"
   },
   {
    "duration": 10,
    "start_time": "2021-10-24T12:15:04.423Z"
   },
   {
    "duration": 1523,
    "start_time": "2021-10-24T12:15:04.436Z"
   },
   {
    "duration": 1308,
    "start_time": "2021-10-24T12:15:05.962Z"
   },
   {
    "duration": 1124,
    "start_time": "2021-10-24T12:15:07.273Z"
   },
   {
    "duration": 1112,
    "start_time": "2021-10-24T12:15:08.399Z"
   },
   {
    "duration": 24,
    "start_time": "2021-10-24T12:15:09.513Z"
   },
   {
    "duration": 17,
    "start_time": "2021-10-24T12:15:09.540Z"
   },
   {
    "duration": 26,
    "start_time": "2021-10-24T12:15:09.559Z"
   },
   {
    "duration": 144,
    "start_time": "2021-10-24T12:15:09.587Z"
   },
   {
    "duration": 14173,
    "start_time": "2021-10-24T12:15:09.825Z"
   },
   {
    "duration": 11307,
    "start_time": "2021-10-24T12:15:24.002Z"
   },
   {
    "duration": 2303,
    "start_time": "2021-10-24T12:15:35.312Z"
   },
   {
    "duration": 847,
    "start_time": "2021-10-24T12:15:37.622Z"
   },
   {
    "duration": 63,
    "start_time": "2021-10-24T12:15:38.471Z"
   },
   {
    "duration": 15,
    "start_time": "2021-10-24T12:15:38.537Z"
   },
   {
    "duration": 3920,
    "start_time": "2021-10-24T12:15:38.554Z"
   },
   {
    "duration": 4535,
    "start_time": "2021-10-24T14:22:21.725Z"
   },
   {
    "duration": 173,
    "start_time": "2021-10-24T14:22:26.262Z"
   },
   {
    "duration": 13,
    "start_time": "2021-10-24T14:22:26.825Z"
   },
   {
    "duration": 23,
    "start_time": "2021-10-24T14:22:27.157Z"
   },
   {
    "duration": 12,
    "start_time": "2021-10-24T14:22:28.050Z"
   },
   {
    "duration": 32,
    "start_time": "2021-10-24T14:22:28.439Z"
   },
   {
    "duration": 29,
    "start_time": "2021-10-24T14:22:28.641Z"
   },
   {
    "duration": 10,
    "start_time": "2021-10-24T14:22:29.051Z"
   },
   {
    "duration": 13,
    "start_time": "2021-10-24T14:22:29.414Z"
   },
   {
    "duration": 4229,
    "start_time": "2021-10-24T14:22:29.588Z"
   },
   {
    "duration": 22,
    "start_time": "2021-10-24T14:22:33.819Z"
   },
   {
    "duration": 22,
    "start_time": "2021-10-24T14:22:33.844Z"
   },
   {
    "duration": 25,
    "start_time": "2021-10-24T14:22:33.868Z"
   },
   {
    "duration": 776,
    "start_time": "2021-10-24T14:22:33.895Z"
   },
   {
    "duration": 723,
    "start_time": "2021-10-24T14:22:34.672Z"
   },
   {
    "duration": 670,
    "start_time": "2021-10-24T14:22:35.397Z"
   },
   {
    "duration": 674,
    "start_time": "2021-10-24T14:22:36.069Z"
   },
   {
    "duration": 13,
    "start_time": "2021-10-24T14:22:36.745Z"
   },
   {
    "duration": 420,
    "start_time": "2021-10-24T19:32:59.173Z"
   },
   {
    "duration": 6840,
    "start_time": "2021-10-24T19:33:06.194Z"
   },
   {
    "duration": 280,
    "start_time": "2021-10-24T19:33:13.037Z"
   },
   {
    "duration": 18,
    "start_time": "2021-10-24T19:33:13.321Z"
   },
   {
    "duration": 62,
    "start_time": "2021-10-24T19:33:13.342Z"
   },
   {
    "duration": 22,
    "start_time": "2021-10-24T19:33:13.407Z"
   },
   {
    "duration": 94,
    "start_time": "2021-10-24T19:33:13.431Z"
   },
   {
    "duration": 42,
    "start_time": "2021-10-24T19:33:13.528Z"
   },
   {
    "duration": 49,
    "start_time": "2021-10-24T19:33:13.576Z"
   },
   {
    "duration": 19,
    "start_time": "2021-10-24T19:33:13.630Z"
   },
   {
    "duration": 9411,
    "start_time": "2021-10-24T19:33:13.652Z"
   },
   {
    "duration": 55,
    "start_time": "2021-10-24T19:33:23.066Z"
   },
   {
    "duration": 34,
    "start_time": "2021-10-24T19:33:23.123Z"
   },
   {
    "duration": 7,
    "start_time": "2021-10-24T19:33:23.160Z"
   },
   {
    "duration": 1446,
    "start_time": "2021-10-24T19:33:23.169Z"
   },
   {
    "duration": 1398,
    "start_time": "2021-10-24T19:33:24.618Z"
   },
   {
    "duration": 1222,
    "start_time": "2021-10-24T19:33:26.019Z"
   },
   {
    "duration": 1262,
    "start_time": "2021-10-24T19:33:27.243Z"
   },
   {
    "duration": 19,
    "start_time": "2021-10-24T19:33:28.508Z"
   },
   {
    "duration": 87,
    "start_time": "2021-10-24T19:33:28.530Z"
   },
   {
    "duration": 14,
    "start_time": "2021-10-24T19:33:28.620Z"
   },
   {
    "duration": 183,
    "start_time": "2021-10-24T19:33:28.637Z"
   },
   {
    "duration": 15106,
    "start_time": "2021-10-24T19:33:28.823Z"
   },
   {
    "duration": 12242,
    "start_time": "2021-10-24T19:33:43.935Z"
   },
   {
    "duration": 2376,
    "start_time": "2021-10-24T19:33:56.180Z"
   },
   {
    "duration": 929,
    "start_time": "2021-10-24T19:33:58.560Z"
   },
   {
    "duration": 63,
    "start_time": "2021-10-24T19:33:59.491Z"
   },
   {
    "duration": 15,
    "start_time": "2021-10-24T19:33:59.556Z"
   },
   {
    "duration": 4375,
    "start_time": "2021-10-24T19:33:59.573Z"
   },
   {
    "duration": 101,
    "start_time": "2021-10-24T19:34:03.951Z"
   },
   {
    "duration": 91,
    "start_time": "2021-10-24T19:34:14.124Z"
   },
   {
    "duration": 8,
    "start_time": "2021-10-24T19:36:25.704Z"
   },
   {
    "duration": 7,
    "start_time": "2021-10-24T19:36:28.355Z"
   },
   {
    "duration": 5416,
    "start_time": "2021-10-24T19:37:49.112Z"
   },
   {
    "duration": 247,
    "start_time": "2021-10-24T19:37:54.531Z"
   },
   {
    "duration": 18,
    "start_time": "2021-10-24T19:37:54.781Z"
   },
   {
    "duration": 40,
    "start_time": "2021-10-24T19:37:54.810Z"
   },
   {
    "duration": 17,
    "start_time": "2021-10-24T19:37:54.852Z"
   },
   {
    "duration": 72,
    "start_time": "2021-10-24T19:37:54.871Z"
   },
   {
    "duration": 74,
    "start_time": "2021-10-24T19:37:54.947Z"
   },
   {
    "duration": 16,
    "start_time": "2021-10-24T19:37:55.024Z"
   },
   {
    "duration": 21,
    "start_time": "2021-10-24T19:37:55.044Z"
   },
   {
    "duration": 8993,
    "start_time": "2021-10-24T19:37:55.068Z"
   },
   {
    "duration": 53,
    "start_time": "2021-10-24T19:38:04.063Z"
   },
   {
    "duration": 36,
    "start_time": "2021-10-24T19:38:04.119Z"
   },
   {
    "duration": 10,
    "start_time": "2021-10-24T19:38:04.158Z"
   },
   {
    "duration": 1435,
    "start_time": "2021-10-24T19:38:04.171Z"
   },
   {
    "duration": 1279,
    "start_time": "2021-10-24T19:38:05.610Z"
   },
   {
    "duration": 1205,
    "start_time": "2021-10-24T19:38:06.891Z"
   },
   {
    "duration": 1264,
    "start_time": "2021-10-24T19:38:08.101Z"
   },
   {
    "duration": 39,
    "start_time": "2021-10-24T19:38:09.368Z"
   },
   {
    "duration": 73,
    "start_time": "2021-10-24T19:38:09.411Z"
   },
   {
    "duration": 18,
    "start_time": "2021-10-24T19:38:09.505Z"
   },
   {
    "duration": 190,
    "start_time": "2021-10-24T19:38:09.525Z"
   },
   {
    "duration": 15541,
    "start_time": "2021-10-24T19:38:09.718Z"
   },
   {
    "duration": 12019,
    "start_time": "2021-10-24T19:38:25.261Z"
   },
   {
    "duration": 2449,
    "start_time": "2021-10-24T19:38:37.284Z"
   },
   {
    "duration": 937,
    "start_time": "2021-10-24T19:38:39.736Z"
   },
   {
    "duration": 4,
    "start_time": "2021-10-24T19:38:40.676Z"
   },
   {
    "duration": 15,
    "start_time": "2021-10-24T19:38:40.685Z"
   },
   {
    "duration": 7,
    "start_time": "2021-10-24T19:38:40.705Z"
   },
   {
    "duration": 64,
    "start_time": "2021-10-24T19:39:15.987Z"
   },
   {
    "duration": 56,
    "start_time": "2021-10-24T19:40:59.601Z"
   },
   {
    "duration": 57,
    "start_time": "2021-10-24T19:41:48.488Z"
   },
   {
    "duration": 72,
    "start_time": "2021-10-24T19:41:55.479Z"
   },
   {
    "duration": 67,
    "start_time": "2021-10-24T19:42:19.622Z"
   },
   {
    "duration": 60,
    "start_time": "2021-10-24T19:42:50.699Z"
   },
   {
    "duration": 75,
    "start_time": "2021-10-24T19:44:01.182Z"
   },
   {
    "duration": 65,
    "start_time": "2021-10-24T19:45:35.941Z"
   },
   {
    "duration": 89,
    "start_time": "2021-10-24T19:45:45.776Z"
   },
   {
    "duration": 478,
    "start_time": "2021-10-24T19:51:33.867Z"
   },
   {
    "duration": 143,
    "start_time": "2021-10-24T19:52:00.015Z"
   },
   {
    "duration": 522,
    "start_time": "2021-10-24T19:52:03.161Z"
   },
   {
    "duration": 475,
    "start_time": "2021-10-24T19:53:11.258Z"
   },
   {
    "duration": 483,
    "start_time": "2021-10-24T19:53:22.881Z"
   },
   {
    "duration": 485,
    "start_time": "2021-10-24T19:53:38.880Z"
   },
   {
    "duration": 489,
    "start_time": "2021-10-24T19:54:56.390Z"
   },
   {
    "duration": 15,
    "start_time": "2021-10-24T19:54:59.668Z"
   },
   {
    "duration": 119,
    "start_time": "2021-10-24T19:55:08.505Z"
   },
   {
    "duration": 14987,
    "start_time": "2021-10-24T19:55:11.577Z"
   },
   {
    "duration": 12443,
    "start_time": "2021-10-24T19:55:41.386Z"
   },
   {
    "duration": 2280,
    "start_time": "2021-10-24T19:55:57.403Z"
   },
   {
    "duration": 955,
    "start_time": "2021-10-24T19:56:09.339Z"
   },
   {
    "duration": 2233,
    "start_time": "2021-10-24T19:56:29.785Z"
   },
   {
    "duration": 2173,
    "start_time": "2021-10-24T19:56:38.434Z"
   },
   {
    "duration": 2180,
    "start_time": "2021-10-24T19:56:43.483Z"
   },
   {
    "duration": 2738,
    "start_time": "2021-10-24T19:56:50.392Z"
   },
   {
    "duration": 2206,
    "start_time": "2021-10-24T19:56:56.279Z"
   },
   {
    "duration": 2242,
    "start_time": "2021-10-24T19:57:01.180Z"
   },
   {
    "duration": 2311,
    "start_time": "2021-10-24T19:57:05.378Z"
   },
   {
    "duration": 2182,
    "start_time": "2021-10-24T19:57:09.822Z"
   },
   {
    "duration": 2489,
    "start_time": "2021-10-24T19:57:14.950Z"
   },
   {
    "duration": 2453,
    "start_time": "2021-10-24T19:57:19.781Z"
   },
   {
    "duration": 2255,
    "start_time": "2021-10-24T19:57:23.476Z"
   },
   {
    "duration": 2272,
    "start_time": "2021-10-24T19:57:28.768Z"
   },
   {
    "duration": 2356,
    "start_time": "2021-10-24T19:57:33.062Z"
   },
   {
    "duration": 2313,
    "start_time": "2021-10-24T19:57:37.768Z"
   },
   {
    "duration": 2344,
    "start_time": "2021-10-24T19:57:43.760Z"
   },
   {
    "duration": 2426,
    "start_time": "2021-10-24T19:57:49.185Z"
   },
   {
    "duration": 2170,
    "start_time": "2021-10-24T19:57:55.011Z"
   },
   {
    "duration": 119,
    "start_time": "2021-10-24T19:57:59.471Z"
   },
   {
    "duration": 2234,
    "start_time": "2021-10-24T19:58:02.056Z"
   },
   {
    "duration": 2142,
    "start_time": "2021-10-24T19:58:07.659Z"
   },
   {
    "duration": 2249,
    "start_time": "2021-10-24T19:58:12.155Z"
   },
   {
    "duration": 2686,
    "start_time": "2021-10-24T19:58:16.887Z"
   },
   {
    "duration": 2180,
    "start_time": "2021-10-24T19:58:21.834Z"
   },
   {
    "duration": 2295,
    "start_time": "2021-10-24T19:58:27.060Z"
   },
   {
    "duration": 2277,
    "start_time": "2021-10-24T19:58:31.756Z"
   },
   {
    "duration": 2244,
    "start_time": "2021-10-24T19:58:35.625Z"
   },
   {
    "duration": 2065,
    "start_time": "2021-10-24T19:58:40.993Z"
   },
   {
    "duration": 1700,
    "start_time": "2021-10-24T19:58:45.335Z"
   },
   {
    "duration": 1627,
    "start_time": "2021-10-24T19:58:50.574Z"
   },
   {
    "duration": 1333,
    "start_time": "2021-10-24T19:58:54.717Z"
   },
   {
    "duration": 1750,
    "start_time": "2021-10-24T19:58:58.920Z"
   },
   {
    "duration": 1870,
    "start_time": "2021-10-24T19:59:02.812Z"
   },
   {
    "duration": 1806,
    "start_time": "2021-10-24T19:59:06.059Z"
   },
   {
    "duration": 1781,
    "start_time": "2021-10-24T19:59:08.788Z"
   },
   {
    "duration": 1717,
    "start_time": "2021-10-24T19:59:12.969Z"
   },
   {
    "duration": 1786,
    "start_time": "2021-10-24T19:59:17.576Z"
   },
   {
    "duration": 1847,
    "start_time": "2021-10-24T19:59:21.229Z"
   },
   {
    "duration": 1803,
    "start_time": "2021-10-24T19:59:25.458Z"
   },
   {
    "duration": 1794,
    "start_time": "2021-10-24T19:59:30.072Z"
   },
   {
    "duration": 1752,
    "start_time": "2021-10-24T19:59:34.838Z"
   },
   {
    "duration": 1774,
    "start_time": "2021-10-24T19:59:41.431Z"
   },
   {
    "duration": 545,
    "start_time": "2021-10-24T20:04:07.697Z"
   },
   {
    "duration": 382,
    "start_time": "2021-10-24T20:04:23.691Z"
   },
   {
    "duration": 490,
    "start_time": "2021-10-24T20:04:30.523Z"
   },
   {
    "duration": 5354,
    "start_time": "2021-10-24T20:06:51.378Z"
   },
   {
    "duration": 221,
    "start_time": "2021-10-24T20:06:56.735Z"
   },
   {
    "duration": 18,
    "start_time": "2021-10-24T20:06:56.959Z"
   },
   {
    "duration": 159,
    "start_time": "2021-10-24T20:06:56.980Z"
   },
   {
    "duration": 19,
    "start_time": "2021-10-24T20:06:57.141Z"
   },
   {
    "duration": 62,
    "start_time": "2021-10-24T20:06:57.162Z"
   },
   {
    "duration": 46,
    "start_time": "2021-10-24T20:06:57.226Z"
   },
   {
    "duration": 40,
    "start_time": "2021-10-24T20:06:57.274Z"
   },
   {
    "duration": 18,
    "start_time": "2021-10-24T20:06:57.318Z"
   },
   {
    "duration": 8763,
    "start_time": "2021-10-24T20:06:57.339Z"
   },
   {
    "duration": 35,
    "start_time": "2021-10-24T20:07:06.104Z"
   },
   {
    "duration": 33,
    "start_time": "2021-10-24T20:07:06.141Z"
   },
   {
    "duration": 7,
    "start_time": "2021-10-24T20:07:06.201Z"
   },
   {
    "duration": 1373,
    "start_time": "2021-10-24T20:07:06.211Z"
   },
   {
    "duration": 1246,
    "start_time": "2021-10-24T20:07:07.586Z"
   },
   {
    "duration": 1180,
    "start_time": "2021-10-24T20:07:08.834Z"
   },
   {
    "duration": 1193,
    "start_time": "2021-10-24T20:07:10.017Z"
   },
   {
    "duration": 18,
    "start_time": "2021-10-24T20:07:11.213Z"
   },
   {
    "duration": 498,
    "start_time": "2021-10-24T20:07:11.234Z"
   },
   {
    "duration": 16,
    "start_time": "2021-10-24T20:07:11.735Z"
   },
   {
    "duration": 157,
    "start_time": "2021-10-24T20:07:11.754Z"
   },
   {
    "duration": 13900,
    "start_time": "2021-10-24T20:07:11.917Z"
   },
   {
    "duration": 11565,
    "start_time": "2021-10-24T20:07:25.820Z"
   },
   {
    "duration": 1574,
    "start_time": "2021-10-24T20:07:37.387Z"
   },
   {
    "duration": 850,
    "start_time": "2021-10-24T20:07:38.963Z"
   },
   {
    "duration": 3,
    "start_time": "2021-10-24T20:07:39.816Z"
   },
   {
    "duration": 8,
    "start_time": "2021-10-24T20:07:39.823Z"
   },
   {
    "duration": 5,
    "start_time": "2021-10-24T20:07:39.834Z"
   }
  ],
  "kernelspec": {
   "display_name": "Python 3",
   "language": "python",
   "name": "python3"
  },
  "language_info": {
   "codemirror_mode": {
    "name": "ipython",
    "version": 3
   },
   "file_extension": ".py",
   "mimetype": "text/x-python",
   "name": "python",
   "nbconvert_exporter": "python",
   "pygments_lexer": "ipython3",
   "version": "3.8.8"
  },
  "toc": {
   "base_numbering": 1,
   "nav_menu": {},
   "number_sections": true,
   "sideBar": true,
   "skip_h1_title": true,
   "title_cell": "Table of Contents",
   "title_sidebar": "Contents",
   "toc_cell": false,
   "toc_position": {},
   "toc_section_display": true,
   "toc_window_display": false
  }
 },
 "nbformat": 4,
 "nbformat_minor": 5
}
