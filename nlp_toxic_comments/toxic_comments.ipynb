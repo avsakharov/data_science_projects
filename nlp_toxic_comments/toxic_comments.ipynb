{
 "cells": [
  {
   "cell_type": "markdown",
   "metadata": {},
   "source": [
    "# Определение токсичности комментариев"
   ]
  },
  {
   "cell_type": "markdown",
   "metadata": {},
   "source": [
    "Необходимо обучить модель, которая будет классифицировать комментарии на позитивные и негативные. В нашем распоряжении набор данных с разметкой о токсичности правок. В качестве метрики качества возьмем F1-меру. \n",
    "\n",
    "Данные находятся в файле `toxic_comments.csv` (датасет не прилагается). Столбец *text* в нём содержит текст комментария, а *toxic* — целевой признак."
   ]
  },
  {
   "cell_type": "markdown",
   "metadata": {},
   "source": [
    "## Подготовка"
   ]
  },
  {
   "cell_type": "code",
   "execution_count": 1,
   "metadata": {},
   "outputs": [],
   "source": [
    "import pandas as pd\n",
    "import numpy as np\n",
    "import re\n",
    "\n",
    "import nltk\n",
    "from nltk.stem import WordNetLemmatizer \n",
    "from nltk.corpus import stopwords as nltk_stopwords\n",
    "\n",
    "from sklearn.feature_extraction.text import CountVectorizer\n",
    "from sklearn.feature_extraction.text import TfidfVectorizer \n",
    "from sklearn.model_selection import train_test_split\n",
    "from sklearn.model_selection import cross_val_predict\n",
    "from sklearn.metrics import f1_score\n",
    "\n",
    "from sklearn.linear_model import LogisticRegression\n",
    "from xgboost import XGBClassifier\n",
    "from catboost import CatBoostClassifier\n",
    "\n",
    "import warnings\n",
    "warnings.simplefilter(action='ignore', category=FutureWarning)"
   ]
  },
  {
   "cell_type": "code",
   "execution_count": 2,
   "metadata": {},
   "outputs": [
    {
     "name": "stdout",
     "output_type": "stream",
     "text": [
      "<class 'pandas.core.frame.DataFrame'>\n",
      "RangeIndex: 159571 entries, 0 to 159570\n",
      "Data columns (total 2 columns):\n",
      " #   Column  Non-Null Count   Dtype \n",
      "---  ------  --------------   ----- \n",
      " 0   text    159571 non-null  object\n",
      " 1   toxic   159571 non-null  int64 \n",
      "dtypes: int64(1), object(1)\n",
      "memory usage: 2.4+ MB\n"
     ]
    },
    {
     "data": {
      "text/html": [
       "<div>\n",
       "<style scoped>\n",
       "    .dataframe tbody tr th:only-of-type {\n",
       "        vertical-align: middle;\n",
       "    }\n",
       "\n",
       "    .dataframe tbody tr th {\n",
       "        vertical-align: top;\n",
       "    }\n",
       "\n",
       "    .dataframe thead th {\n",
       "        text-align: right;\n",
       "    }\n",
       "</style>\n",
       "<table border=\"1\" class=\"dataframe\">\n",
       "  <thead>\n",
       "    <tr style=\"text-align: right;\">\n",
       "      <th></th>\n",
       "      <th>text</th>\n",
       "      <th>toxic</th>\n",
       "    </tr>\n",
       "  </thead>\n",
       "  <tbody>\n",
       "    <tr>\n",
       "      <th>0</th>\n",
       "      <td>Explanation\\nWhy the edits made under my usern...</td>\n",
       "      <td>0</td>\n",
       "    </tr>\n",
       "    <tr>\n",
       "      <th>1</th>\n",
       "      <td>D'aww! He matches this background colour I'm s...</td>\n",
       "      <td>0</td>\n",
       "    </tr>\n",
       "    <tr>\n",
       "      <th>2</th>\n",
       "      <td>Hey man, I'm really not trying to edit war. It...</td>\n",
       "      <td>0</td>\n",
       "    </tr>\n",
       "    <tr>\n",
       "      <th>3</th>\n",
       "      <td>\"\\nMore\\nI can't make any real suggestions on ...</td>\n",
       "      <td>0</td>\n",
       "    </tr>\n",
       "    <tr>\n",
       "      <th>4</th>\n",
       "      <td>You, sir, are my hero. Any chance you remember...</td>\n",
       "      <td>0</td>\n",
       "    </tr>\n",
       "  </tbody>\n",
       "</table>\n",
       "</div>"
      ],
      "text/plain": [
       "                                                text  toxic\n",
       "0  Explanation\\nWhy the edits made under my usern...      0\n",
       "1  D'aww! He matches this background colour I'm s...      0\n",
       "2  Hey man, I'm really not trying to edit war. It...      0\n",
       "3  \"\\nMore\\nI can't make any real suggestions on ...      0\n",
       "4  You, sir, are my hero. Any chance you remember...      0"
      ]
     },
     "execution_count": 2,
     "metadata": {},
     "output_type": "execute_result"
    }
   ],
   "source": [
    "df = pd.read_csv('toxic_comments.csv')\n",
    "df.info()\n",
    "df.head()"
   ]
  },
  {
   "cell_type": "markdown",
   "metadata": {},
   "source": [
    "Выполним лемматизацию текстов: приведем буквы к нижнему регистру, удалим все символы, кроме букв латинского алфавита, непосредственно лемматизацию выполним с помощью WordNetLemmatizer. Результат сохраним в признаке lemm_text:"
   ]
  },
  {
   "cell_type": "code",
   "execution_count": 3,
   "metadata": {},
   "outputs": [
    {
     "name": "stderr",
     "output_type": "stream",
     "text": [
      "[nltk_data] Downloading package punkt to\n",
      "[nltk_data]     C:\\Users\\Aleksandr\\AppData\\Roaming\\nltk_data...\n",
      "[nltk_data]   Package punkt is already up-to-date!\n",
      "[nltk_data] Downloading package wordnet to\n",
      "[nltk_data]     C:\\Users\\Aleksandr\\AppData\\Roaming\\nltk_data...\n",
      "[nltk_data]   Package wordnet is already up-to-date!\n"
     ]
    },
    {
     "data": {
      "text/html": [
       "<div>\n",
       "<style scoped>\n",
       "    .dataframe tbody tr th:only-of-type {\n",
       "        vertical-align: middle;\n",
       "    }\n",
       "\n",
       "    .dataframe tbody tr th {\n",
       "        vertical-align: top;\n",
       "    }\n",
       "\n",
       "    .dataframe thead th {\n",
       "        text-align: right;\n",
       "    }\n",
       "</style>\n",
       "<table border=\"1\" class=\"dataframe\">\n",
       "  <thead>\n",
       "    <tr style=\"text-align: right;\">\n",
       "      <th></th>\n",
       "      <th>text</th>\n",
       "      <th>toxic</th>\n",
       "      <th>lemm_text</th>\n",
       "    </tr>\n",
       "  </thead>\n",
       "  <tbody>\n",
       "    <tr>\n",
       "      <th>0</th>\n",
       "      <td>Explanation\\nWhy the edits made under my usern...</td>\n",
       "      <td>0</td>\n",
       "      <td>explanation why the edits made under my userna...</td>\n",
       "    </tr>\n",
       "    <tr>\n",
       "      <th>1</th>\n",
       "      <td>D'aww! He matches this background colour I'm s...</td>\n",
       "      <td>0</td>\n",
       "      <td>d aww he match this background colour i m seem...</td>\n",
       "    </tr>\n",
       "    <tr>\n",
       "      <th>2</th>\n",
       "      <td>Hey man, I'm really not trying to edit war. It...</td>\n",
       "      <td>0</td>\n",
       "      <td>hey man i m really not trying to edit war it s...</td>\n",
       "    </tr>\n",
       "    <tr>\n",
       "      <th>3</th>\n",
       "      <td>\"\\nMore\\nI can't make any real suggestions on ...</td>\n",
       "      <td>0</td>\n",
       "      <td>more i can t make any real suggestion on impro...</td>\n",
       "    </tr>\n",
       "    <tr>\n",
       "      <th>4</th>\n",
       "      <td>You, sir, are my hero. Any chance you remember...</td>\n",
       "      <td>0</td>\n",
       "      <td>you sir are my hero any chance you remember wh...</td>\n",
       "    </tr>\n",
       "  </tbody>\n",
       "</table>\n",
       "</div>"
      ],
      "text/plain": [
       "                                                text  toxic  \\\n",
       "0  Explanation\\nWhy the edits made under my usern...      0   \n",
       "1  D'aww! He matches this background colour I'm s...      0   \n",
       "2  Hey man, I'm really not trying to edit war. It...      0   \n",
       "3  \"\\nMore\\nI can't make any real suggestions on ...      0   \n",
       "4  You, sir, are my hero. Any chance you remember...      0   \n",
       "\n",
       "                                           lemm_text  \n",
       "0  explanation why the edits made under my userna...  \n",
       "1  d aww he match this background colour i m seem...  \n",
       "2  hey man i m really not trying to edit war it s...  \n",
       "3  more i can t make any real suggestion on impro...  \n",
       "4  you sir are my hero any chance you remember wh...  "
      ]
     },
     "execution_count": 3,
     "metadata": {},
     "output_type": "execute_result"
    }
   ],
   "source": [
    "corpus = df['text'].str.lower().values\n",
    "corpus_cleared = [re.sub(r'[^a-z]', ' ', text) for text in corpus]\n",
    "\n",
    "lemmatizer = WordNetLemmatizer()\n",
    "nltk.download('punkt')\n",
    "nltk.download('wordnet')\n",
    "corpus_lemmatized = [' '.join([lemmatizer.lemmatize(word) for word in (nltk.word_tokenize(text))]) for text in corpus_cleared]\n",
    "\n",
    "df['lemm_text'] = corpus_lemmatized\n",
    "df.head()"
   ]
  },
  {
   "cell_type": "markdown",
   "metadata": {},
   "source": [
    "Создадим обучающую и тестовую выборки. Классы разбалансированы в пропорции 9:1"
   ]
  },
  {
   "cell_type": "code",
   "execution_count": 4,
   "metadata": {},
   "outputs": [
    {
     "name": "stdout",
     "output_type": "stream",
     "text": [
      "Среднее целевого признака в обучающей выборке: 0.1013\n",
      "Среднее целевого признака в тестовой выборке: 0.1027\n"
     ]
    }
   ],
   "source": [
    "train_corpus, test_corpus, train_target, test_target = train_test_split(df['lemm_text'].values, df['toxic'], test_size=.25)\n",
    "print('Среднее целевого признака в обучающей выборке:', round(train_target.mean(), 4))\n",
    "print('Среднее целевого признака в тестовой выборке:', round(test_target.mean(), 4))"
   ]
  },
  {
   "cell_type": "markdown",
   "metadata": {},
   "source": [
    "Выполним векторизацию текстов с помощью процедуры TF-IDF. Слова, не несущие информации о тональности текста (stopwords) в векторизации не учитываем:"
   ]
  },
  {
   "cell_type": "code",
   "execution_count": 5,
   "metadata": {},
   "outputs": [
    {
     "name": "stderr",
     "output_type": "stream",
     "text": [
      "[nltk_data] Downloading package stopwords to\n",
      "[nltk_data]     C:\\Users\\Aleksandr\\AppData\\Roaming\\nltk_data...\n",
      "[nltk_data]   Package stopwords is already up-to-date!\n"
     ]
    },
    {
     "name": "stdout",
     "output_type": "stream",
     "text": [
      "Размер матрицы TF-IDF на обучающей выборке: (119678, 133670)\n",
      "Размер матрицы TF-IDF на тестовой выборке: (39893, 133670)\n"
     ]
    }
   ],
   "source": [
    "nltk.download('stopwords')\n",
    "stopwords = set(nltk_stopwords.words('english'))\n",
    "vectorizer = TfidfVectorizer(stop_words=stopwords) \n",
    "\n",
    "train_tf_idf = vectorizer.fit_transform(train_corpus) #fit_transform only on train sample!\n",
    "test_tf_idf = vectorizer.transform(test_corpus)\n",
    "\n",
    "print('Размер матрицы TF-IDF на обучающей выборке:', train_tf_idf.shape)\n",
    "print('Размер матрицы TF-IDF на тестовой выборке:', test_tf_idf.shape)"
   ]
  },
  {
   "cell_type": "markdown",
   "metadata": {},
   "source": [
    "Задачу можно было попробовать решить с помощью метода мешок слов (bag of words):\n",
    "\n",
    "    count_vect = CountVectorizer(stop_words=stopwords)\n",
    "    train_bow = count_vect.fit_transform(train_corpus)\n",
    "    test_bow = count_vect.transform(test_corpus)\n",
    "\n",
    "Но использование этого метода дало заведомо меньшие значения метрики F1. Использование биграмм значительно увеличило размеры матриц (а вместе с ним и время обучения), но лучших показателей не дало: по всей видимости тональность текста определяется отельными словами. По этой причине в работе использованы только униграммы."
   ]
  },
  {
   "cell_type": "markdown",
   "metadata": {},
   "source": [
    "## Обучение"
   ]
  },
  {
   "cell_type": "markdown",
   "metadata": {},
   "source": [
    "Для учета дисбаланса классов и получения приемлемых результатов предсказаний моделей будем использовать функцию, определяющую наилучшее значение порога классификации на основе метрики F1, вычисленной на обучающей выборке:"
   ]
  },
  {
   "cell_type": "code",
   "execution_count": 6,
   "metadata": {},
   "outputs": [],
   "source": [
    "def best_threshold(model, train_features, train_target):\n",
    "    best_f1_score = 0\n",
    "    best_threshold = 0\n",
    "    for threshold in np.arange(0, 1, .05):\n",
    "        cv_probabilities = cross_val_predict(model, train_tf_idf, train_target, method='predict_proba', cv=2)\n",
    "        predictions = (cv_probabilities >= threshold)[:,1].astype(int)\n",
    "        if f1_score(train_target, predictions) > best_f1_score:\n",
    "            best_f1_score = f1_score(train_target, predictions)\n",
    "            best_threshold = threshold\n",
    "\n",
    "    print('Наилучшее значение порога:', best_threshold.round(2))\n",
    "    print('Наилучшее значение метрики F1 на обучающей выборке:', best_f1_score.round(4))\n",
    "    return best_threshold"
   ]
  },
  {
   "cell_type": "code",
   "execution_count": 7,
   "metadata": {},
   "outputs": [
    {
     "name": "stdout",
     "output_type": "stream",
     "text": [
      "Наилучшее значение порога: 0.2\n",
      "Наилучшее значение метрики F1 на обучающей выборке: 0.7577\n",
      "Метрика F1 на тестовой выборке: 0.7803\n"
     ]
    }
   ],
   "source": [
    "model = LogisticRegression(max_iter=1000)\n",
    "threshold = best_threshold(model, train_tf_idf, train_target)\n",
    "model.fit(train_tf_idf, train_target)\n",
    "predictions = (model.predict_proba(test_tf_idf) >= threshold)[:,1].astype(int)\n",
    "print('Метрика F1 на тестовой выборке:', round(f1_score(test_target, predictions), 4))"
   ]
  },
  {
   "cell_type": "code",
   "execution_count": 8,
   "metadata": {},
   "outputs": [
    {
     "name": "stdout",
     "output_type": "stream",
     "text": [
      "Наилучшее значение порога: 0.25\n",
      "Наилучшее значение метрики F1 на обучающей выборке: 0.7587\n",
      "Метрика F1 на тестовой выборке: 0.7653\n"
     ]
    }
   ],
   "source": [
    "model = XGBClassifier(eval_metric='logloss', use_label_encoder=False)\n",
    "threshold = best_threshold(model, train_tf_idf, train_target)\n",
    "model.fit(train_tf_idf, train_target)\n",
    "predictions = (model.predict_proba(test_tf_idf) >= threshold)[:,1].astype(int)\n",
    "print('Метрика F1 на тестовой выборке:', round(f1_score(test_target, predictions), 4))"
   ]
  },
  {
   "cell_type": "code",
   "execution_count": 9,
   "metadata": {},
   "outputs": [
    {
     "name": "stdout",
     "output_type": "stream",
     "text": [
      "Learning rate set to 0.347698\n",
      "0:\tlearn: 0.4688563\ttotal: 1.27s\tremaining: 4m 13s\n",
      "40:\tlearn: 0.6871345\ttotal: 40.8s\tremaining: 2m 38s\n",
      "80:\tlearn: 0.7455137\ttotal: 1m 18s\tremaining: 1m 56s\n",
      "120:\tlearn: 0.7672883\ttotal: 1m 57s\tremaining: 1m 16s\n",
      "160:\tlearn: 0.7761122\ttotal: 2m 34s\tremaining: 37.5s\n",
      "199:\tlearn: 0.7861653\ttotal: 3m 11s\tremaining: 0us\n",
      "Метрика F1 на тестовой выборке: 0.7564\n"
     ]
    }
   ],
   "source": [
    "model = CatBoostClassifier(verbose=40, iterations=200, eval_metric='F1')\n",
    "model.fit(train_tf_idf, train_target)\n",
    "predictions = model.predict(test_tf_idf) #CatBoost функцию с кросс-валидацией не осилил - слишком долго\n",
    "print('Метрика F1 на тестовой выборке:', round(f1_score(test_target, predictions), 4))"
   ]
  },
  {
   "cell_type": "markdown",
   "metadata": {},
   "source": [
    "## Выводы"
   ]
  },
  {
   "cell_type": "markdown",
   "metadata": {},
   "source": [
    "Используя подбор порога бинарной классификации задачу с приемлемой точностью (и относительно быстро) удается решить с помощью алгоритма логистической регрессии."
   ]
  }
 ],
 "metadata": {
  "ExecuteTimeLog": [
   {
    "duration": 576,
    "start_time": "2021-08-23T08:31:10.887Z"
   },
   {
    "duration": 668,
    "start_time": "2021-08-23T08:31:25.856Z"
   },
   {
    "duration": 648,
    "start_time": "2021-08-23T08:31:34.697Z"
   },
   {
    "duration": 639,
    "start_time": "2021-08-23T08:39:08.434Z"
   },
   {
    "duration": 618,
    "start_time": "2021-08-23T08:39:37.354Z"
   },
   {
    "duration": 634,
    "start_time": "2021-08-23T09:56:29.990Z"
   },
   {
    "duration": 4,
    "start_time": "2021-08-23T11:01:16.485Z"
   },
   {
    "duration": 291,
    "start_time": "2021-08-23T11:01:48.639Z"
   },
   {
    "duration": 173,
    "start_time": "2021-08-23T11:02:18.786Z"
   },
   {
    "duration": 1199,
    "start_time": "2021-08-23T11:04:05.356Z"
   },
   {
    "duration": 670,
    "start_time": "2021-08-23T11:04:06.556Z"
   },
   {
    "duration": 1134,
    "start_time": "2021-08-23T11:04:36.518Z"
   },
   {
    "duration": 672,
    "start_time": "2021-08-23T11:04:37.654Z"
   },
   {
    "duration": 2,
    "start_time": "2021-08-23T11:04:38.328Z"
   },
   {
    "duration": 5,
    "start_time": "2021-08-23T11:04:38.332Z"
   },
   {
    "duration": 6,
    "start_time": "2021-08-23T11:04:46.043Z"
   },
   {
    "duration": 5,
    "start_time": "2021-08-23T11:04:59.171Z"
   },
   {
    "duration": 5,
    "start_time": "2021-08-23T11:05:11.132Z"
   },
   {
    "duration": 5,
    "start_time": "2021-08-23T11:05:16.729Z"
   },
   {
    "duration": 207,
    "start_time": "2021-08-23T11:05:36.328Z"
   },
   {
    "duration": 171,
    "start_time": "2021-08-23T11:05:40.135Z"
   },
   {
    "duration": 1146,
    "start_time": "2021-08-23T11:05:42.714Z"
   },
   {
    "duration": 694,
    "start_time": "2021-08-23T11:05:44.745Z"
   },
   {
    "duration": 4,
    "start_time": "2021-08-23T11:05:49.966Z"
   },
   {
    "duration": 5,
    "start_time": "2021-08-23T11:06:02.239Z"
   },
   {
    "duration": 4,
    "start_time": "2021-08-23T11:06:06.130Z"
   },
   {
    "duration": 242,
    "start_time": "2021-08-23T11:06:10.522Z"
   },
   {
    "duration": 5,
    "start_time": "2021-08-23T11:06:17.318Z"
   },
   {
    "duration": 3,
    "start_time": "2021-08-23T11:08:32.019Z"
   },
   {
    "duration": 3,
    "start_time": "2021-08-23T11:08:33.499Z"
   },
   {
    "duration": 364,
    "start_time": "2021-08-23T11:08:35.060Z"
   },
   {
    "duration": 696,
    "start_time": "2021-08-23T11:08:38.941Z"
   },
   {
    "duration": 4,
    "start_time": "2021-08-23T11:08:53.173Z"
   },
   {
    "duration": 676,
    "start_time": "2021-08-23T11:08:58.136Z"
   },
   {
    "duration": 651,
    "start_time": "2021-08-23T11:17:59.503Z"
   },
   {
    "duration": 4,
    "start_time": "2021-08-23T11:18:01.092Z"
   },
   {
    "duration": 4,
    "start_time": "2021-08-23T11:18:03.425Z"
   },
   {
    "duration": 1298,
    "start_time": "2021-08-23T11:18:41.898Z"
   },
   {
    "duration": 4,
    "start_time": "2021-08-23T11:18:51.408Z"
   },
   {
    "duration": 4,
    "start_time": "2021-08-23T11:19:15.090Z"
   },
   {
    "duration": 5,
    "start_time": "2021-08-23T11:20:47.264Z"
   },
   {
    "duration": 4,
    "start_time": "2021-08-23T11:20:50.627Z"
   },
   {
    "duration": 4,
    "start_time": "2021-08-23T11:20:57.249Z"
   },
   {
    "duration": 4,
    "start_time": "2021-08-23T11:21:00.984Z"
   },
   {
    "duration": 4,
    "start_time": "2021-08-23T11:21:09.356Z"
   },
   {
    "duration": 4,
    "start_time": "2021-08-23T11:21:14.435Z"
   },
   {
    "duration": 5,
    "start_time": "2021-08-23T11:21:20.847Z"
   },
   {
    "duration": 20,
    "start_time": "2021-08-23T11:26:55.490Z"
   },
   {
    "duration": 5,
    "start_time": "2021-08-23T11:27:19.121Z"
   },
   {
    "duration": 211,
    "start_time": "2021-08-23T11:27:52.087Z"
   },
   {
    "duration": 176,
    "start_time": "2021-08-23T11:28:07.609Z"
   },
   {
    "duration": 6,
    "start_time": "2021-08-23T11:28:18.542Z"
   },
   {
    "duration": 303,
    "start_time": "2021-08-23T11:29:06.990Z"
   },
   {
    "duration": 5,
    "start_time": "2021-08-23T11:29:13.867Z"
   },
   {
    "duration": 6,
    "start_time": "2021-08-23T11:31:52.938Z"
   },
   {
    "duration": 176,
    "start_time": "2021-08-23T11:32:11.494Z"
   },
   {
    "duration": 179,
    "start_time": "2021-08-23T11:32:13.709Z"
   },
   {
    "duration": 186,
    "start_time": "2021-08-23T11:32:23.121Z"
   },
   {
    "duration": 243,
    "start_time": "2021-08-23T11:33:11.273Z"
   },
   {
    "duration": 215,
    "start_time": "2021-08-23T11:33:20.712Z"
   },
   {
    "duration": 176,
    "start_time": "2021-08-23T11:33:32.436Z"
   },
   {
    "duration": 190,
    "start_time": "2021-08-23T11:33:44.791Z"
   },
   {
    "duration": 204,
    "start_time": "2021-08-23T11:33:48.882Z"
   },
   {
    "duration": 384,
    "start_time": "2021-08-23T11:33:57.321Z"
   },
   {
    "duration": 1253,
    "start_time": "2021-08-23T11:34:01.431Z"
   },
   {
    "duration": 187,
    "start_time": "2021-08-23T11:34:05.818Z"
   },
   {
    "duration": 173,
    "start_time": "2021-08-23T11:34:10.956Z"
   },
   {
    "duration": 189,
    "start_time": "2021-08-23T11:34:15.343Z"
   },
   {
    "duration": 192,
    "start_time": "2021-08-23T11:34:24.810Z"
   },
   {
    "duration": 200,
    "start_time": "2021-08-23T11:34:29.553Z"
   },
   {
    "duration": 177,
    "start_time": "2021-08-23T11:34:42.784Z"
   },
   {
    "duration": 205,
    "start_time": "2021-08-23T11:34:51.758Z"
   },
   {
    "duration": 175,
    "start_time": "2021-08-23T11:34:57.157Z"
   },
   {
    "duration": 197,
    "start_time": "2021-08-23T11:35:43.193Z"
   },
   {
    "duration": 2,
    "start_time": "2021-08-23T11:35:51.045Z"
   },
   {
    "duration": 5,
    "start_time": "2021-08-23T11:35:53.470Z"
   },
   {
    "duration": 6,
    "start_time": "2021-08-23T11:35:55.196Z"
   },
   {
    "duration": 3,
    "start_time": "2021-08-23T11:39:33.976Z"
   },
   {
    "duration": 6,
    "start_time": "2021-08-23T11:40:02.898Z"
   },
   {
    "duration": 223,
    "start_time": "2021-08-23T11:40:09.139Z"
   },
   {
    "duration": 6,
    "start_time": "2021-08-23T11:40:11.661Z"
   },
   {
    "duration": 3,
    "start_time": "2021-08-23T11:41:15.962Z"
   },
   {
    "duration": 214,
    "start_time": "2021-08-23T11:41:29.908Z"
   },
   {
    "duration": 3,
    "start_time": "2021-08-23T11:41:35.625Z"
   },
   {
    "duration": 176,
    "start_time": "2021-08-23T11:41:36.948Z"
   },
   {
    "duration": 3,
    "start_time": "2021-08-23T11:41:42.077Z"
   },
   {
    "duration": 5,
    "start_time": "2021-08-23T11:41:45.177Z"
   },
   {
    "duration": 186,
    "start_time": "2021-08-23T11:45:55.413Z"
   },
   {
    "duration": 188,
    "start_time": "2021-08-23T11:47:48.492Z"
   },
   {
    "duration": 3009,
    "start_time": "2021-08-23T11:47:50.769Z"
   },
   {
    "duration": 3094,
    "start_time": "2021-08-23T11:48:01.546Z"
   },
   {
    "duration": 3055,
    "start_time": "2021-08-23T11:48:10.418Z"
   },
   {
    "duration": 206,
    "start_time": "2021-08-23T11:48:44.315Z"
   },
   {
    "duration": 3133,
    "start_time": "2021-08-23T11:48:46.218Z"
   },
   {
    "duration": 4,
    "start_time": "2021-08-23T11:49:23.365Z"
   },
   {
    "duration": 169,
    "start_time": "2021-08-23T11:49:32.072Z"
   },
   {
    "duration": 3110,
    "start_time": "2021-08-23T11:49:44.704Z"
   },
   {
    "duration": 3,
    "start_time": "2021-08-23T11:49:53.905Z"
   },
   {
    "duration": 442,
    "start_time": "2021-08-23T11:51:35.993Z"
   },
   {
    "duration": 27,
    "start_time": "2021-08-23T11:52:08.356Z"
   },
   {
    "duration": 1495,
    "start_time": "2021-08-24T19:15:06.497Z"
   },
   {
    "duration": 749,
    "start_time": "2021-08-24T19:15:10.523Z"
   },
   {
    "duration": 291,
    "start_time": "2021-08-24T19:15:15.027Z"
   },
   {
    "duration": 4409,
    "start_time": "2021-08-24T19:15:17.949Z"
   },
   {
    "duration": 2834,
    "start_time": "2021-08-24T19:15:29.548Z"
   },
   {
    "duration": 33,
    "start_time": "2021-08-24T19:15:33.479Z"
   },
   {
    "duration": 732,
    "start_time": "2021-08-24T19:17:35.143Z"
   },
   {
    "duration": 17678,
    "start_time": "2021-08-24T19:17:58.145Z"
   },
   {
    "duration": 389,
    "start_time": "2021-08-24T19:18:20.929Z"
   },
   {
    "duration": 372,
    "start_time": "2021-08-24T19:18:28.670Z"
   },
   {
    "duration": 5,
    "start_time": "2021-08-24T19:18:48.929Z"
   },
   {
    "duration": 6,
    "start_time": "2021-08-24T19:19:01.099Z"
   },
   {
    "duration": 6,
    "start_time": "2021-08-24T19:19:09.734Z"
   },
   {
    "duration": 7,
    "start_time": "2021-08-24T19:19:15.969Z"
   },
   {
    "duration": 6,
    "start_time": "2021-08-24T19:19:23.692Z"
   },
   {
    "duration": 7,
    "start_time": "2021-08-24T19:19:28.706Z"
   },
   {
    "duration": 7,
    "start_time": "2021-08-24T19:19:45.715Z"
   },
   {
    "duration": 7,
    "start_time": "2021-08-24T19:20:05.452Z"
   },
   {
    "duration": 24,
    "start_time": "2021-08-24T19:20:10.650Z"
   },
   {
    "duration": 7,
    "start_time": "2021-08-24T19:20:15.464Z"
   },
   {
    "duration": 10880,
    "start_time": "2021-08-24T19:20:43.058Z"
   },
   {
    "duration": 9903,
    "start_time": "2021-08-24T19:21:28.304Z"
   },
   {
    "duration": 4,
    "start_time": "2021-08-24T19:22:07.025Z"
   },
   {
    "duration": 12988,
    "start_time": "2021-08-24T19:25:34.827Z"
   },
   {
    "duration": 10447,
    "start_time": "2021-08-24T19:37:33.639Z"
   },
   {
    "duration": 10861,
    "start_time": "2021-08-24T19:40:48.677Z"
   },
   {
    "duration": 179,
    "start_time": "2021-08-24T21:13:27.808Z"
   },
   {
    "duration": 9,
    "start_time": "2021-08-24T21:13:42.942Z"
   },
   {
    "duration": 4,
    "start_time": "2021-08-24T21:16:31.215Z"
   },
   {
    "duration": 48,
    "start_time": "2021-08-24T21:16:58.725Z"
   },
   {
    "duration": 7787,
    "start_time": "2021-08-24T21:17:30.827Z"
   },
   {
    "duration": 345,
    "start_time": "2021-08-24T21:18:29.982Z"
   },
   {
    "duration": 10,
    "start_time": "2021-08-24T21:33:13.530Z"
   },
   {
    "duration": 352,
    "start_time": "2021-08-24T21:33:35.433Z"
   },
   {
    "duration": 326,
    "start_time": "2021-08-24T21:33:42.663Z"
   },
   {
    "duration": 6,
    "start_time": "2021-08-24T21:33:50.731Z"
   },
   {
    "duration": 5,
    "start_time": "2021-08-24T21:33:57.959Z"
   },
   {
    "duration": 324,
    "start_time": "2021-08-24T21:40:08.383Z"
   },
   {
    "duration": 5,
    "start_time": "2021-08-24T21:40:22.562Z"
   },
   {
    "duration": 6,
    "start_time": "2021-08-24T21:40:28.793Z"
   },
   {
    "duration": 6,
    "start_time": "2021-08-24T21:40:31.317Z"
   },
   {
    "duration": 8,
    "start_time": "2021-08-24T21:40:33.760Z"
   },
   {
    "duration": 9,
    "start_time": "2021-08-24T21:40:39.181Z"
   },
   {
    "duration": 109,
    "start_time": "2021-08-24T21:40:52.659Z"
   },
   {
    "duration": 7,
    "start_time": "2021-08-24T21:40:56.753Z"
   },
   {
    "duration": 7,
    "start_time": "2021-08-24T21:41:05.101Z"
   },
   {
    "duration": 6,
    "start_time": "2021-08-24T21:41:10.090Z"
   },
   {
    "duration": 6,
    "start_time": "2021-08-24T21:41:17.444Z"
   },
   {
    "duration": 6,
    "start_time": "2021-08-24T21:41:23.332Z"
   },
   {
    "duration": 6,
    "start_time": "2021-08-24T21:41:43.727Z"
   },
   {
    "duration": 7,
    "start_time": "2021-08-24T21:41:51.262Z"
   },
   {
    "duration": 7,
    "start_time": "2021-08-24T21:42:05.130Z"
   },
   {
    "duration": 5,
    "start_time": "2021-08-24T21:42:09.886Z"
   },
   {
    "duration": 7,
    "start_time": "2021-08-24T21:42:12.654Z"
   },
   {
    "duration": 371,
    "start_time": "2021-08-24T21:42:17.890Z"
   },
   {
    "duration": 6,
    "start_time": "2021-08-24T21:42:23.118Z"
   },
   {
    "duration": 6,
    "start_time": "2021-08-24T21:42:27.673Z"
   },
   {
    "duration": 6,
    "start_time": "2021-08-24T21:42:31.521Z"
   },
   {
    "duration": 6,
    "start_time": "2021-08-24T21:42:36.931Z"
   },
   {
    "duration": 6,
    "start_time": "2021-08-24T21:42:42.740Z"
   },
   {
    "duration": 7,
    "start_time": "2021-08-24T21:42:46.823Z"
   },
   {
    "duration": 7,
    "start_time": "2021-08-24T21:42:52.095Z"
   },
   {
    "duration": 746,
    "start_time": "2021-08-24T21:45:05.137Z"
   },
   {
    "duration": 8,
    "start_time": "2021-08-24T21:45:32.268Z"
   },
   {
    "duration": 397,
    "start_time": "2021-08-24T21:45:44.149Z"
   },
   {
    "duration": 9,
    "start_time": "2021-08-24T21:45:53.811Z"
   },
   {
    "duration": 8,
    "start_time": "2021-08-24T21:46:10.271Z"
   },
   {
    "duration": 8,
    "start_time": "2021-08-24T21:46:20.770Z"
   },
   {
    "duration": 9,
    "start_time": "2021-08-24T21:46:35.457Z"
   },
   {
    "duration": 9,
    "start_time": "2021-08-24T21:46:51.276Z"
   },
   {
    "duration": 9,
    "start_time": "2021-08-24T21:46:59.508Z"
   },
   {
    "duration": 9,
    "start_time": "2021-08-24T21:47:46.859Z"
   },
   {
    "duration": 8050,
    "start_time": "2021-08-24T21:53:06.263Z"
   },
   {
    "duration": 7966,
    "start_time": "2021-08-24T21:53:39.004Z"
   },
   {
    "duration": 7849,
    "start_time": "2021-08-24T21:57:38.155Z"
   },
   {
    "duration": 364,
    "start_time": "2021-08-24T22:00:08.454Z"
   },
   {
    "duration": 10433,
    "start_time": "2021-08-24T22:00:44.023Z"
   },
   {
    "duration": 28,
    "start_time": "2021-08-24T22:06:52.629Z"
   },
   {
    "duration": 65865,
    "start_time": "2021-08-24T22:07:55.478Z"
   },
   {
    "duration": 13953,
    "start_time": "2021-08-24T22:09:24.052Z"
   },
   {
    "duration": 7,
    "start_time": "2021-08-24T22:10:05.661Z"
   },
   {
    "duration": 6,
    "start_time": "2021-08-24T22:10:26.214Z"
   },
   {
    "duration": 31,
    "start_time": "2021-08-24T22:10:33.273Z"
   },
   {
    "duration": 5,
    "start_time": "2021-08-24T22:11:24.319Z"
   },
   {
    "duration": 7728,
    "start_time": "2021-08-24T22:11:45.287Z"
   },
   {
    "duration": 11541,
    "start_time": "2021-08-24T22:12:02.364Z"
   },
   {
    "duration": 66418,
    "start_time": "2021-08-24T22:12:17.559Z"
   },
   {
    "duration": 6,
    "start_time": "2021-08-24T22:14:24.505Z"
   },
   {
    "duration": 12092,
    "start_time": "2021-08-24T22:15:00.311Z"
   },
   {
    "duration": 11394,
    "start_time": "2021-08-24T22:16:06.862Z"
   },
   {
    "duration": 12349,
    "start_time": "2021-08-24T22:16:26.914Z"
   },
   {
    "duration": 14561,
    "start_time": "2021-08-24T22:16:49.254Z"
   },
   {
    "duration": 72608,
    "start_time": "2021-08-24T22:17:08.952Z"
   },
   {
    "duration": 24881,
    "start_time": "2021-08-24T22:18:58.686Z"
   },
   {
    "duration": 15300,
    "start_time": "2021-08-24T22:19:32.662Z"
   },
   {
    "duration": 334292,
    "start_time": "2021-08-24T22:19:51.736Z"
   },
   {
    "duration": 7738,
    "start_time": "2021-08-24T22:30:45.510Z"
   },
   {
    "duration": 9806,
    "start_time": "2021-08-24T22:32:04.013Z"
   },
   {
    "duration": 9929,
    "start_time": "2021-08-24T22:32:26.690Z"
   },
   {
    "duration": 9044,
    "start_time": "2021-08-24T22:33:17.302Z"
   },
   {
    "duration": 61627,
    "start_time": "2021-08-24T22:35:09.940Z"
   },
   {
    "duration": 374,
    "start_time": "2021-08-24T22:36:42.246Z"
   },
   {
    "duration": 1146,
    "start_time": "2021-08-25T05:59:01.900Z"
   },
   {
    "duration": 612,
    "start_time": "2021-08-25T05:59:03.048Z"
   },
   {
    "duration": 2918,
    "start_time": "2021-08-25T05:59:03.662Z"
   },
   {
    "duration": 1671,
    "start_time": "2021-08-25T05:59:06.582Z"
   },
   {
    "duration": 40,
    "start_time": "2021-08-25T05:59:08.254Z"
   },
   {
    "duration": 33,
    "start_time": "2021-08-25T05:59:08.296Z"
   },
   {
    "duration": 6479,
    "start_time": "2021-08-25T05:59:08.331Z"
   },
   {
    "duration": 9342,
    "start_time": "2021-08-25T05:59:14.813Z"
   },
   {
    "duration": 46975,
    "start_time": "2021-08-25T05:59:24.157Z"
   },
   {
    "duration": 47064,
    "start_time": "2021-08-25T06:00:11.133Z"
   },
   {
    "duration": 3915800,
    "start_time": "2021-08-25T06:00:58.199Z"
   },
   {
    "duration": 5,
    "start_time": "2021-08-25T07:10:29.331Z"
   },
   {
    "duration": 5,
    "start_time": "2021-08-25T07:10:36.825Z"
   },
   {
    "duration": 5,
    "start_time": "2021-08-25T07:10:43.582Z"
   },
   {
    "duration": 4,
    "start_time": "2021-08-25T07:10:48.502Z"
   },
   {
    "duration": 13440,
    "start_time": "2021-08-25T07:12:56.814Z"
   },
   {
    "duration": 57634,
    "start_time": "2021-08-25T07:13:54.289Z"
   },
   {
    "duration": 557,
    "start_time": "2021-08-25T07:16:09.740Z"
   },
   {
    "duration": 560,
    "start_time": "2021-08-25T07:16:41.959Z"
   },
   {
    "duration": 567,
    "start_time": "2021-08-25T07:16:44.970Z"
   },
   {
    "duration": 1161,
    "start_time": "2021-08-25T07:16:49.390Z"
   },
   {
    "duration": 1801,
    "start_time": "2021-08-25T07:16:54.267Z"
   },
   {
    "duration": 3728,
    "start_time": "2021-08-25T07:17:00.396Z"
   },
   {
    "duration": 8048,
    "start_time": "2021-08-25T07:17:08.374Z"
   },
   {
    "duration": 36169,
    "start_time": "2021-08-25T07:17:21.223Z"
   },
   {
    "duration": 9,
    "start_time": "2021-08-25T07:18:42.785Z"
   },
   {
    "duration": 851,
    "start_time": "2021-08-25T07:20:55.770Z"
   },
   {
    "duration": 3,
    "start_time": "2021-08-25T07:21:43.515Z"
   },
   {
    "duration": 3,
    "start_time": "2021-08-25T07:21:55.773Z"
   },
   {
    "duration": 3,
    "start_time": "2021-08-25T07:21:59.180Z"
   },
   {
    "duration": 782,
    "start_time": "2021-08-25T07:22:01.593Z"
   },
   {
    "duration": 10,
    "start_time": "2021-08-25T07:22:53.431Z"
   },
   {
    "duration": 30,
    "start_time": "2021-08-25T07:23:29.244Z"
   },
   {
    "duration": 4,
    "start_time": "2021-08-25T07:23:31.269Z"
   },
   {
    "duration": 739,
    "start_time": "2021-08-25T07:23:33.602Z"
   },
   {
    "duration": 3,
    "start_time": "2021-08-25T07:24:49.705Z"
   },
   {
    "duration": 12,
    "start_time": "2021-08-25T07:24:52.934Z"
   },
   {
    "duration": 28,
    "start_time": "2021-08-25T07:24:54.844Z"
   },
   {
    "duration": 35,
    "start_time": "2021-08-25T07:25:14.977Z"
   },
   {
    "duration": 2616,
    "start_time": "2021-08-25T07:26:14.929Z"
   },
   {
    "duration": 459,
    "start_time": "2021-08-25T07:26:54.594Z"
   },
   {
    "duration": 4334,
    "start_time": "2021-08-25T07:27:05.773Z"
   },
   {
    "duration": 4363,
    "start_time": "2021-08-25T07:27:14.945Z"
   },
   {
    "duration": 526,
    "start_time": "2021-08-25T07:27:28.305Z"
   },
   {
    "duration": 9782,
    "start_time": "2021-08-25T07:27:37.872Z"
   },
   {
    "duration": 419,
    "start_time": "2021-08-25T07:28:58.708Z"
   },
   {
    "duration": 4829,
    "start_time": "2021-08-25T07:29:15.081Z"
   },
   {
    "duration": 31,
    "start_time": "2021-08-25T07:31:14.752Z"
   },
   {
    "duration": 6425,
    "start_time": "2021-08-25T07:31:44.807Z"
   },
   {
    "duration": 627,
    "start_time": "2021-08-25T07:31:52.871Z"
   },
   {
    "duration": 13726,
    "start_time": "2021-08-25T07:32:01.429Z"
   },
   {
    "duration": 46300,
    "start_time": "2021-08-25T07:33:38.042Z"
   },
   {
    "duration": 34833,
    "start_time": "2021-08-25T07:34:51.884Z"
   },
   {
    "duration": 4989,
    "start_time": "2021-08-25T07:36:32.228Z"
   },
   {
    "duration": 5112,
    "start_time": "2021-08-25T07:36:47.474Z"
   },
   {
    "duration": 5155,
    "start_time": "2021-08-25T07:36:59.167Z"
   },
   {
    "duration": 5474,
    "start_time": "2021-08-25T07:37:23.537Z"
   },
   {
    "duration": 7016,
    "start_time": "2021-08-25T07:38:24.637Z"
   },
   {
    "duration": 110430,
    "start_time": "2021-08-25T07:38:51.335Z"
   },
   {
    "duration": 87280,
    "start_time": "2021-08-25T07:42:58.579Z"
   },
   {
    "duration": 6037,
    "start_time": "2021-08-25T07:44:31.961Z"
   },
   {
    "duration": 63060,
    "start_time": "2021-08-25T07:44:40.986Z"
   },
   {
    "duration": 6162,
    "start_time": "2021-08-25T07:45:50.937Z"
   },
   {
    "duration": 120205,
    "start_time": "2021-08-25T07:45:59.442Z"
   },
   {
    "duration": 38097,
    "start_time": "2021-08-25T07:48:37.615Z"
   },
   {
    "duration": 37724,
    "start_time": "2021-08-25T07:50:02.607Z"
   },
   {
    "duration": 36,
    "start_time": "2021-08-25T07:53:52.728Z"
   },
   {
    "duration": 33,
    "start_time": "2021-08-25T07:53:57.136Z"
   },
   {
    "duration": 6664,
    "start_time": "2021-08-25T07:54:01.646Z"
   },
   {
    "duration": 11851,
    "start_time": "2021-08-25T07:54:15.584Z"
   },
   {
    "duration": 11903,
    "start_time": "2021-08-25T07:54:34.735Z"
   },
   {
    "duration": 60188,
    "start_time": "2021-08-25T07:55:32.874Z"
   },
   {
    "duration": 58986,
    "start_time": "2021-08-25T07:56:46.941Z"
   },
   {
    "duration": 246,
    "start_time": "2021-08-25T07:59:01.191Z"
   },
   {
    "duration": 97535,
    "start_time": "2021-08-25T07:59:10.891Z"
   },
   {
    "duration": 1063,
    "start_time": "2021-08-25T08:04:27.900Z"
   },
   {
    "duration": 1092,
    "start_time": "2021-08-25T08:04:33.599Z"
   },
   {
    "duration": 1329,
    "start_time": "2021-08-25T08:04:50.060Z"
   },
   {
    "duration": 1086,
    "start_time": "2021-08-25T08:05:09.114Z"
   },
   {
    "duration": 2144,
    "start_time": "2021-08-25T08:05:30.487Z"
   },
   {
    "duration": 1299,
    "start_time": "2021-08-25T08:08:25.731Z"
   },
   {
    "duration": 1081,
    "start_time": "2021-08-25T08:17:04.286Z"
   },
   {
    "duration": 1099,
    "start_time": "2021-08-25T08:17:14.310Z"
   },
   {
    "duration": 1113,
    "start_time": "2021-08-25T08:17:23.052Z"
   },
   {
    "duration": 1068,
    "start_time": "2021-08-25T08:17:34.666Z"
   },
   {
    "duration": 1092,
    "start_time": "2021-08-25T08:17:39.704Z"
   },
   {
    "duration": 4,
    "start_time": "2021-08-25T08:18:40.674Z"
   },
   {
    "duration": 1119,
    "start_time": "2021-08-25T08:18:51.681Z"
   },
   {
    "duration": 1097,
    "start_time": "2021-08-25T08:19:03.063Z"
   },
   {
    "duration": 3,
    "start_time": "2021-08-25T08:20:04.660Z"
   },
   {
    "duration": 1127,
    "start_time": "2021-08-25T08:20:16.519Z"
   },
   {
    "duration": 10745,
    "start_time": "2021-08-25T08:21:47.775Z"
   },
   {
    "duration": 6636,
    "start_time": "2021-08-25T08:22:21.683Z"
   },
   {
    "duration": 13092,
    "start_time": "2021-08-25T08:23:36.404Z"
   },
   {
    "duration": 9682,
    "start_time": "2021-08-25T08:24:09.126Z"
   },
   {
    "duration": 65549,
    "start_time": "2021-08-25T08:24:57.318Z"
   },
   {
    "duration": 12534,
    "start_time": "2021-08-25T08:26:11.554Z"
   },
   {
    "duration": 12550,
    "start_time": "2021-08-25T08:26:33.410Z"
   },
   {
    "duration": 12947,
    "start_time": "2021-08-25T08:27:33.690Z"
   },
   {
    "duration": 3340,
    "start_time": "2021-08-25T08:39:56.211Z"
   },
   {
    "duration": 2926,
    "start_time": "2021-08-25T08:40:16.009Z"
   },
   {
    "duration": 2926,
    "start_time": "2021-08-25T08:40:28.298Z"
   },
   {
    "duration": 3357,
    "start_time": "2021-08-25T08:43:16.885Z"
   },
   {
    "duration": 34,
    "start_time": "2021-08-25T08:45:45.631Z"
   },
   {
    "duration": 33,
    "start_time": "2021-08-25T08:45:52.746Z"
   },
   {
    "duration": 33,
    "start_time": "2021-08-25T08:45:59.613Z"
   },
   {
    "duration": 6897,
    "start_time": "2021-08-25T08:54:02.583Z"
   },
   {
    "duration": 15433,
    "start_time": "2021-08-25T08:57:54.533Z"
   },
   {
    "duration": 17339,
    "start_time": "2021-08-25T08:58:52.994Z"
   },
   {
    "duration": 16332,
    "start_time": "2021-08-25T08:59:13.243Z"
   },
   {
    "duration": 10889,
    "start_time": "2021-08-25T08:59:41.473Z"
   },
   {
    "duration": 16535,
    "start_time": "2021-08-25T09:00:00.424Z"
   },
   {
    "duration": 10892,
    "start_time": "2021-08-25T09:00:32.792Z"
   },
   {
    "duration": 100803,
    "start_time": "2021-08-25T09:01:33.645Z"
   },
   {
    "duration": 1452269,
    "start_time": "2021-08-25T09:04:13.423Z"
   },
   {
    "duration": 4,
    "start_time": "2021-08-25T09:29:57.183Z"
   },
   {
    "duration": 13371,
    "start_time": "2021-08-25T09:31:44.848Z"
   },
   {
    "duration": 4,
    "start_time": "2021-08-25T09:32:56.902Z"
   },
   {
    "duration": 14104,
    "start_time": "2021-08-25T09:32:58.608Z"
   },
   {
    "duration": 4,
    "start_time": "2021-08-25T09:33:30.583Z"
   },
   {
    "duration": 11477,
    "start_time": "2021-08-25T09:33:32.439Z"
   },
   {
    "duration": 54844,
    "start_time": "2021-08-25T09:34:41.311Z"
   },
   {
    "duration": -1102,
    "start_time": "2021-08-25T09:35:37.259Z"
   },
   {
    "duration": 5,
    "start_time": "2021-08-25T09:36:12.004Z"
   },
   {
    "duration": 127742,
    "start_time": "2021-08-25T09:36:32.447Z"
   },
   {
    "duration": 48084,
    "start_time": "2021-08-25T09:38:48.503Z"
   },
   {
    "duration": 2,
    "start_time": "2021-08-25T09:43:15.205Z"
   },
   {
    "duration": 4,
    "start_time": "2021-08-25T09:46:54.745Z"
   },
   {
    "duration": 151255,
    "start_time": "2021-08-25T09:46:57.564Z"
   },
   {
    "duration": 12815,
    "start_time": "2021-08-25T09:50:38.206Z"
   },
   {
    "duration": 14842,
    "start_time": "2021-08-25T09:50:57.700Z"
   },
   {
    "duration": 3132057,
    "start_time": "2021-08-25T09:56:21.825Z"
   },
   {
    "duration": 8734,
    "start_time": "2021-08-25T10:50:09.959Z"
   },
   {
    "duration": 253,
    "start_time": "2021-08-25T10:53:02.418Z"
   },
   {
    "duration": 4321,
    "start_time": "2021-08-25T10:53:16.129Z"
   },
   {
    "duration": 3478,
    "start_time": "2021-08-25T10:54:24.550Z"
   },
   {
    "duration": 1225,
    "start_time": "2021-08-25T11:00:14.978Z"
   },
   {
    "duration": 659,
    "start_time": "2021-08-25T11:00:16.205Z"
   },
   {
    "duration": 5312,
    "start_time": "2021-08-25T11:00:16.866Z"
   },
   {
    "duration": 45,
    "start_time": "2021-08-25T11:00:22.179Z"
   },
   {
    "duration": 7343,
    "start_time": "2021-08-25T11:00:22.226Z"
   },
   {
    "duration": 4,
    "start_time": "2021-08-25T11:00:29.570Z"
   },
   {
    "duration": 12251,
    "start_time": "2021-08-25T11:00:29.575Z"
   },
   {
    "duration": 112868,
    "start_time": "2021-08-25T11:00:41.828Z"
   },
   {
    "duration": 382,
    "start_time": "2021-08-25T11:02:34.700Z"
   },
   {
    "duration": -1150,
    "start_time": "2021-08-25T11:02:36.233Z"
   },
   {
    "duration": -1174,
    "start_time": "2021-08-25T11:02:36.258Z"
   },
   {
    "duration": -1176,
    "start_time": "2021-08-25T11:02:36.261Z"
   },
   {
    "duration": 3865,
    "start_time": "2021-08-25T11:03:37.949Z"
   },
   {
    "duration": 251855,
    "start_time": "2021-08-25T11:04:07.168Z"
   },
   {
    "duration": 296564,
    "start_time": "2021-08-25T11:08:27.359Z"
   },
   {
    "duration": 551730,
    "start_time": "2021-08-25T11:13:30.489Z"
   },
   {
    "duration": 438686,
    "start_time": "2021-08-25T11:38:55.472Z"
   },
   {
    "duration": 1203,
    "start_time": "2021-08-25T11:46:56.347Z"
   },
   {
    "duration": 629,
    "start_time": "2021-08-25T11:46:57.552Z"
   },
   {
    "duration": 4886,
    "start_time": "2021-08-25T11:46:58.183Z"
   },
   {
    "duration": 40,
    "start_time": "2021-08-25T11:47:03.071Z"
   },
   {
    "duration": 6811,
    "start_time": "2021-08-25T11:47:03.113Z"
   },
   {
    "duration": 3,
    "start_time": "2021-08-25T11:47:09.926Z"
   },
   {
    "duration": 11047,
    "start_time": "2021-08-25T11:47:09.931Z"
   },
   {
    "duration": 102598,
    "start_time": "2021-08-25T11:47:20.981Z"
   },
   {
    "duration": 627,
    "start_time": "2021-08-26T07:51:05.497Z"
   },
   {
    "duration": 2309,
    "start_time": "2021-08-26T07:51:10.902Z"
   },
   {
    "duration": 844,
    "start_time": "2021-08-26T07:51:13.882Z"
   },
   {
    "duration": 5268,
    "start_time": "2021-08-26T07:51:17.364Z"
   },
   {
    "duration": 4824,
    "start_time": "2021-08-26T07:52:27.268Z"
   },
   {
    "duration": 5020,
    "start_time": "2021-08-26T07:52:37.042Z"
   },
   {
    "duration": 4752,
    "start_time": "2021-08-26T07:53:12.531Z"
   },
   {
    "duration": 12220,
    "start_time": "2021-08-26T07:54:01.749Z"
   },
   {
    "duration": 5292,
    "start_time": "2021-08-26T07:54:34.448Z"
   },
   {
    "duration": 5404,
    "start_time": "2021-08-26T07:55:29.584Z"
   },
   {
    "duration": 7245,
    "start_time": "2021-08-26T07:56:01.520Z"
   },
   {
    "duration": 6,
    "start_time": "2021-08-26T07:56:35.371Z"
   },
   {
    "duration": 6,
    "start_time": "2021-08-26T07:56:39.443Z"
   },
   {
    "duration": 6,
    "start_time": "2021-08-26T07:56:56.980Z"
   },
   {
    "duration": 6,
    "start_time": "2021-08-26T07:57:01.113Z"
   },
   {
    "duration": 5,
    "start_time": "2021-08-26T07:57:08.495Z"
   },
   {
    "duration": 1506,
    "start_time": "2021-08-26T07:57:20.111Z"
   },
   {
    "duration": 976,
    "start_time": "2021-08-26T07:57:26.133Z"
   },
   {
    "duration": 1154,
    "start_time": "2021-08-26T07:57:33.961Z"
   },
   {
    "duration": 790,
    "start_time": "2021-08-26T07:59:14.437Z"
   },
   {
    "duration": 28,
    "start_time": "2021-08-26T07:59:34.149Z"
   },
   {
    "duration": 5,
    "start_time": "2021-08-26T07:59:39.382Z"
   },
   {
    "duration": 6,
    "start_time": "2021-08-26T07:59:47.739Z"
   },
   {
    "duration": 310,
    "start_time": "2021-08-26T08:00:16.687Z"
   },
   {
    "duration": 82,
    "start_time": "2021-08-26T08:01:19.289Z"
   },
   {
    "duration": 5,
    "start_time": "2021-08-26T08:01:49.807Z"
   },
   {
    "duration": 4,
    "start_time": "2021-08-26T08:02:02.929Z"
   },
   {
    "duration": 6,
    "start_time": "2021-08-26T08:02:12.900Z"
   },
   {
    "duration": 6,
    "start_time": "2021-08-26T08:02:35.956Z"
   },
   {
    "duration": 5369,
    "start_time": "2021-08-26T08:03:16.767Z"
   },
   {
    "duration": 5643,
    "start_time": "2021-08-26T08:04:26.235Z"
   },
   {
    "duration": 194218,
    "start_time": "2021-08-26T08:04:39.889Z"
   },
   {
    "duration": 5,
    "start_time": "2021-08-26T08:17:04.119Z"
   },
   {
    "duration": 35,
    "start_time": "2021-08-26T08:20:43.510Z"
   },
   {
    "duration": 11674,
    "start_time": "2021-08-26T08:20:45.833Z"
   },
   {
    "duration": 49249,
    "start_time": "2021-08-26T08:20:57.511Z"
   },
   {
    "duration": 26824,
    "start_time": "2021-08-26T08:22:04.169Z"
   },
   {
    "duration": 29408,
    "start_time": "2021-08-26T08:24:43.924Z"
   },
   {
    "duration": 8,
    "start_time": "2021-08-26T08:31:30.697Z"
   },
   {
    "duration": 292,
    "start_time": "2021-08-26T08:31:39.780Z"
   },
   {
    "duration": 27903,
    "start_time": "2021-08-26T08:31:49.468Z"
   },
   {
    "duration": 9,
    "start_time": "2021-08-26T08:35:31.199Z"
   },
   {
    "duration": 2003821,
    "start_time": "2021-08-26T08:35:34.476Z"
   },
   {
    "duration": 1609,
    "start_time": "2021-08-26T09:09:05.383Z"
   },
   {
    "duration": 3645,
    "start_time": "2021-08-26T09:09:06.996Z"
   },
   {
    "duration": 140254,
    "start_time": "2021-08-26T09:09:10.644Z"
   },
   {
    "duration": 61,
    "start_time": "2021-08-26T09:11:30.901Z"
   },
   {
    "duration": 11179,
    "start_time": "2021-08-26T09:11:30.964Z"
   },
   {
    "duration": 10,
    "start_time": "2021-08-26T09:11:42.146Z"
   },
   {
    "duration": 3413138,
    "start_time": "2021-08-26T09:11:42.159Z"
   },
   {
    "duration": 3464190,
    "start_time": "2021-08-26T10:08:35.299Z"
   },
   {
    "duration": 3917921,
    "start_time": "2021-08-26T11:06:19.494Z"
   },
   {
    "duration": 1602,
    "start_time": "2021-08-26T12:13:45.064Z"
   },
   {
    "duration": 828,
    "start_time": "2021-08-26T12:13:46.669Z"
   },
   {
    "duration": 142933,
    "start_time": "2021-08-26T12:13:47.500Z"
   },
   {
    "duration": 46,
    "start_time": "2021-08-26T12:16:10.436Z"
   },
   {
    "duration": 11288,
    "start_time": "2021-08-26T12:16:10.485Z"
   },
   {
    "duration": 6,
    "start_time": "2021-08-26T12:16:21.775Z"
   },
   {
    "duration": 318056,
    "start_time": "2021-08-26T12:16:21.784Z"
   },
   {
    "duration": 2020140,
    "start_time": "2021-08-26T12:21:39.855Z"
   },
   {
    "duration": 2085,
    "start_time": "2021-08-26T18:02:02.605Z"
   },
   {
    "duration": 823,
    "start_time": "2021-08-26T18:02:04.693Z"
   },
   {
    "duration": 139937,
    "start_time": "2021-08-26T18:02:05.519Z"
   },
   {
    "duration": 37,
    "start_time": "2021-08-26T18:04:25.459Z"
   },
   {
    "duration": 11493,
    "start_time": "2021-08-26T18:04:25.499Z"
   },
   {
    "duration": 6,
    "start_time": "2021-08-26T18:04:36.995Z"
   },
   {
    "duration": 342334,
    "start_time": "2021-08-26T18:04:37.004Z"
   },
   {
    "duration": 2133182,
    "start_time": "2021-08-26T18:10:19.342Z"
   },
   {
    "duration": 564969,
    "start_time": "2021-08-26T18:45:52.527Z"
   },
   {
    "duration": 569322,
    "start_time": "2021-08-26T19:21:12.754Z"
   }
  ],
  "kernelspec": {
   "display_name": "Python 3",
   "language": "python",
   "name": "python3"
  },
  "language_info": {
   "codemirror_mode": {
    "name": "ipython",
    "version": 3
   },
   "file_extension": ".py",
   "mimetype": "text/x-python",
   "name": "python",
   "nbconvert_exporter": "python",
   "pygments_lexer": "ipython3",
   "version": "3.8.8"
  },
  "toc": {
   "base_numbering": 1,
   "nav_menu": {},
   "number_sections": true,
   "sideBar": true,
   "skip_h1_title": true,
   "title_cell": "Содержание",
   "title_sidebar": "Contents",
   "toc_cell": true,
   "toc_position": {
    "height": "calc(100% - 180px)",
    "left": "10px",
    "top": "150px",
    "width": "302.391px"
   },
   "toc_section_display": true,
   "toc_window_display": false
  }
 },
 "nbformat": 4,
 "nbformat_minor": 2
}
